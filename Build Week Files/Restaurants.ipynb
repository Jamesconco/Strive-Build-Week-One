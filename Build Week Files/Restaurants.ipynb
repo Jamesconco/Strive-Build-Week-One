{
 "cells": [
  {
   "cell_type": "code",
   "metadata": {
    "cell_id": "00000-4441d616-776b-43a8-ab7f-3924b83cd38f",
    "deepnote_cell_type": "code"
   },
   "source": "import  numpy as np\nimport pandas as pd\nimport matplotlib.pyplot as plt\nimport seaborn as sns",
   "execution_count": 1,
   "outputs": []
  },
  {
   "cell_type": "code",
   "metadata": {
    "cell_id": "00001-d04b1740-c631-49dc-8a41-b4ea81338221",
    "deepnote_cell_type": "code"
   },
   "source": "import scipy.stats as stats",
   "execution_count": 81,
   "outputs": []
  },
  {
   "cell_type": "code",
   "metadata": {
    "cell_id": "00002-7ddc4315-29c9-45b7-a997-251832af3c5c",
    "deepnote_cell_type": "code"
   },
   "source": "restaurants = pd.read_csv('restaurants.csv')",
   "execution_count": 53,
   "outputs": []
  },
  {
   "cell_type": "code",
   "metadata": {
    "cell_id": "00003-f4419ca6-ca3a-4063-ade9-b8ab4c9d1acb",
    "deepnote_cell_type": "code"
   },
   "source": "restaurants.head()",
   "execution_count": 54,
   "outputs": [
    {
     "data": {
      "text/html": "<div>\n<style scoped>\n    .dataframe tbody tr th:only-of-type {\n        vertical-align: middle;\n    }\n\n    .dataframe tbody tr th {\n        vertical-align: top;\n    }\n\n    .dataframe thead th {\n        text-align: right;\n    }\n</style>\n<table border=\"1\" class=\"dataframe\">\n  <thead>\n    <tr style=\"text-align: right;\">\n      <th></th>\n      <th>name</th>\n      <th>reviews</th>\n      <th>rating</th>\n      <th>address</th>\n      <th>postcode</th>\n      <th>price_range</th>\n      <th>amenities</th>\n    </tr>\n  </thead>\n  <tbody>\n    <tr>\n      <th>0</th>\n      <td>Churrería Laietana</td>\n      <td>221</td>\n      <td>5.0</td>\n      <td>Via Laietana, 46</td>\n      <td>08003 Barcelona</td>\n      <td>Low</td>\n      <td>Offers Takeout No Reservations No Delivery Acc...</td>\n    </tr>\n    <tr>\n      <th>1</th>\n      <td>Foc i Oli</td>\n      <td>91</td>\n      <td>5.0</td>\n      <td>Carrer Aribau, 91</td>\n      <td>08036 Barcelona</td>\n      <td>Medium-Low</td>\n      <td>Offers Takeout No Reservations No Delivery Acc...</td>\n    </tr>\n    <tr>\n      <th>2</th>\n      <td>Disfrutar</td>\n      <td>106</td>\n      <td>5.0</td>\n      <td>Carrer de Villarroel, 163</td>\n      <td>08036 Barcelona</td>\n      <td>High</td>\n      <td>Takes Reservations No Delivery No Takeout Acce...</td>\n    </tr>\n    <tr>\n      <th>3</th>\n      <td>na</td>\n      <td>na</td>\n      <td>5.0</td>\n      <td>na</td>\n      <td>na</td>\n      <td>na</td>\n      <td>na</td>\n    </tr>\n    <tr>\n      <th>4</th>\n      <td>Cera 23</td>\n      <td>549</td>\n      <td>4.5</td>\n      <td>Carrer de la Cera, 23</td>\n      <td>08001 Barcelona</td>\n      <td>Medium-Low</td>\n      <td>Takes Reservations No Delivery No Takeout Acce...</td>\n    </tr>\n  </tbody>\n</table>\n</div>",
      "text/plain": "                 name reviews  rating                    address  \\\n0  Churrería Laietana     221     5.0           Via Laietana, 46   \n1           Foc i Oli      91     5.0          Carrer Aribau, 91   \n2           Disfrutar     106     5.0  Carrer de Villarroel, 163   \n3                  na      na     5.0                         na   \n4             Cera 23     549     4.5      Carrer de la Cera, 23   \n\n          postcode price_range  \\\n0  08003 Barcelona         Low   \n1  08036 Barcelona  Medium-Low   \n2  08036 Barcelona        High   \n3               na          na   \n4  08001 Barcelona  Medium-Low   \n\n                                           amenities  \n0  Offers Takeout No Reservations No Delivery Acc...  \n1  Offers Takeout No Reservations No Delivery Acc...  \n2  Takes Reservations No Delivery No Takeout Acce...  \n3                                                 na  \n4  Takes Reservations No Delivery No Takeout Acce...  "
     },
     "execution_count": 54,
     "metadata": {},
     "output_type": "execute_result"
    }
   ]
  },
  {
   "cell_type": "code",
   "metadata": {
    "cell_id": "00004-0e9fe712-d9e0-4fea-9692-6d21b4ac1d33",
    "deepnote_cell_type": "code"
   },
   "source": "restaurants.shape",
   "execution_count": 55,
   "outputs": [
    {
     "data": {
      "text/plain": "(120, 7)"
     },
     "execution_count": 55,
     "metadata": {},
     "output_type": "execute_result"
    }
   ]
  },
  {
   "cell_type": "code",
   "metadata": {
    "cell_id": "00005-8ce98f0f-5684-4a6a-9ff3-51e770d0aeb6",
    "deepnote_cell_type": "code"
   },
   "source": "restaurants.columns",
   "execution_count": 56,
   "outputs": [
    {
     "data": {
      "text/plain": "Index(['name', 'reviews', 'rating', 'address', 'postcode', 'price_range',\n       'amenities'],\n      dtype='object')"
     },
     "execution_count": 56,
     "metadata": {},
     "output_type": "execute_result"
    }
   ]
  },
  {
   "cell_type": "code",
   "metadata": {
    "cell_id": "00006-3216d6ea-32bd-4b8f-8d6f-60c59372eb6d",
    "deepnote_cell_type": "code"
   },
   "source": "restaurants.isnull().sum()",
   "execution_count": 57,
   "outputs": [
    {
     "data": {
      "text/plain": "name           0\nreviews        0\nrating         0\naddress        0\npostcode       0\nprice_range    0\namenities      0\ndtype: int64"
     },
     "execution_count": 57,
     "metadata": {},
     "output_type": "execute_result"
    }
   ]
  },
  {
   "cell_type": "code",
   "metadata": {
    "cell_id": "00007-aaa060a8-090b-4a81-8ae3-fc169eae8da6",
    "deepnote_cell_type": "code"
   },
   "source": "restaurants.name.value_counts()",
   "execution_count": 58,
   "outputs": [
    {
     "data": {
      "text/plain": "na                                3\nLa Paradeta                       2\nTelefèric                         1\nCan Paixano                       1\nAlta Taberna Paco Meralgo         1\n                                 ..\nEl Casal                          1\nObe Restaurant                    1\nLa Plata                          1\nRestaurant La Tasqueta de Blai    1\nEl 58                             1\nName: name, Length: 117, dtype: int64"
     },
     "execution_count": 58,
     "metadata": {},
     "output_type": "execute_result"
    }
   ]
  },
  {
   "cell_type": "code",
   "metadata": {
    "cell_id": "00008-29eef89c-312a-42f3-a9d7-56cebc4e4c7e",
    "deepnote_cell_type": "code"
   },
   "source": "restaurants.drop(restaurants[restaurants['name'] == 'na'],axis = 0)",
   "execution_count": 59,
   "outputs": [
    {
     "ename": "KeyError",
     "evalue": "\"['name' 'reviews' 'rating' 'address' 'postcode' 'price_range' 'amenities'] not found in axis\"",
     "output_type": "error",
     "traceback": [
      "\u001b[1;31m---------------------------------------------------------------------------\u001b[0m",
      "\u001b[1;31mKeyError\u001b[0m                                  Traceback (most recent call last)",
      "\u001b[1;32m<ipython-input-59-ea3a16f8c5a7>\u001b[0m in \u001b[0;36m<module>\u001b[1;34m\u001b[0m\n\u001b[1;32m----> 1\u001b[1;33m \u001b[0mrestaurants\u001b[0m\u001b[1;33m.\u001b[0m\u001b[0mdrop\u001b[0m\u001b[1;33m(\u001b[0m\u001b[0mrestaurants\u001b[0m\u001b[1;33m[\u001b[0m\u001b[0mrestaurants\u001b[0m\u001b[1;33m[\u001b[0m\u001b[1;34m'name'\u001b[0m\u001b[1;33m]\u001b[0m \u001b[1;33m==\u001b[0m \u001b[1;34m'na'\u001b[0m\u001b[1;33m]\u001b[0m\u001b[1;33m,\u001b[0m\u001b[0maxis\u001b[0m \u001b[1;33m=\u001b[0m \u001b[1;36m0\u001b[0m\u001b[1;33m)\u001b[0m\u001b[1;33m\u001b[0m\u001b[1;33m\u001b[0m\u001b[0m\n\u001b[0m",
      "\u001b[1;32m~\\anaconda3.1\\lib\\site-packages\\pandas\\core\\frame.py\u001b[0m in \u001b[0;36mdrop\u001b[1;34m(self, labels, axis, index, columns, level, inplace, errors)\u001b[0m\n\u001b[0;32m   4306\u001b[0m                 \u001b[0mweight\u001b[0m  \u001b[1;36m1.0\u001b[0m     \u001b[1;36m0.8\u001b[0m\u001b[1;33m\u001b[0m\u001b[1;33m\u001b[0m\u001b[0m\n\u001b[0;32m   4307\u001b[0m         \"\"\"\n\u001b[1;32m-> 4308\u001b[1;33m         return super().drop(\n\u001b[0m\u001b[0;32m   4309\u001b[0m             \u001b[0mlabels\u001b[0m\u001b[1;33m=\u001b[0m\u001b[0mlabels\u001b[0m\u001b[1;33m,\u001b[0m\u001b[1;33m\u001b[0m\u001b[1;33m\u001b[0m\u001b[0m\n\u001b[0;32m   4310\u001b[0m             \u001b[0maxis\u001b[0m\u001b[1;33m=\u001b[0m\u001b[0maxis\u001b[0m\u001b[1;33m,\u001b[0m\u001b[1;33m\u001b[0m\u001b[1;33m\u001b[0m\u001b[0m\n",
      "\u001b[1;32m~\\anaconda3.1\\lib\\site-packages\\pandas\\core\\generic.py\u001b[0m in \u001b[0;36mdrop\u001b[1;34m(self, labels, axis, index, columns, level, inplace, errors)\u001b[0m\n\u001b[0;32m   4151\u001b[0m         \u001b[1;32mfor\u001b[0m \u001b[0maxis\u001b[0m\u001b[1;33m,\u001b[0m \u001b[0mlabels\u001b[0m \u001b[1;32min\u001b[0m \u001b[0maxes\u001b[0m\u001b[1;33m.\u001b[0m\u001b[0mitems\u001b[0m\u001b[1;33m(\u001b[0m\u001b[1;33m)\u001b[0m\u001b[1;33m:\u001b[0m\u001b[1;33m\u001b[0m\u001b[1;33m\u001b[0m\u001b[0m\n\u001b[0;32m   4152\u001b[0m             \u001b[1;32mif\u001b[0m \u001b[0mlabels\u001b[0m \u001b[1;32mis\u001b[0m \u001b[1;32mnot\u001b[0m \u001b[1;32mNone\u001b[0m\u001b[1;33m:\u001b[0m\u001b[1;33m\u001b[0m\u001b[1;33m\u001b[0m\u001b[0m\n\u001b[1;32m-> 4153\u001b[1;33m                 \u001b[0mobj\u001b[0m \u001b[1;33m=\u001b[0m \u001b[0mobj\u001b[0m\u001b[1;33m.\u001b[0m\u001b[0m_drop_axis\u001b[0m\u001b[1;33m(\u001b[0m\u001b[0mlabels\u001b[0m\u001b[1;33m,\u001b[0m \u001b[0maxis\u001b[0m\u001b[1;33m,\u001b[0m \u001b[0mlevel\u001b[0m\u001b[1;33m=\u001b[0m\u001b[0mlevel\u001b[0m\u001b[1;33m,\u001b[0m \u001b[0merrors\u001b[0m\u001b[1;33m=\u001b[0m\u001b[0merrors\u001b[0m\u001b[1;33m)\u001b[0m\u001b[1;33m\u001b[0m\u001b[1;33m\u001b[0m\u001b[0m\n\u001b[0m\u001b[0;32m   4154\u001b[0m \u001b[1;33m\u001b[0m\u001b[0m\n\u001b[0;32m   4155\u001b[0m         \u001b[1;32mif\u001b[0m \u001b[0minplace\u001b[0m\u001b[1;33m:\u001b[0m\u001b[1;33m\u001b[0m\u001b[1;33m\u001b[0m\u001b[0m\n",
      "\u001b[1;32m~\\anaconda3.1\\lib\\site-packages\\pandas\\core\\generic.py\u001b[0m in \u001b[0;36m_drop_axis\u001b[1;34m(self, labels, axis, level, errors)\u001b[0m\n\u001b[0;32m   4186\u001b[0m                 \u001b[0mnew_axis\u001b[0m \u001b[1;33m=\u001b[0m \u001b[0maxis\u001b[0m\u001b[1;33m.\u001b[0m\u001b[0mdrop\u001b[0m\u001b[1;33m(\u001b[0m\u001b[0mlabels\u001b[0m\u001b[1;33m,\u001b[0m \u001b[0mlevel\u001b[0m\u001b[1;33m=\u001b[0m\u001b[0mlevel\u001b[0m\u001b[1;33m,\u001b[0m \u001b[0merrors\u001b[0m\u001b[1;33m=\u001b[0m\u001b[0merrors\u001b[0m\u001b[1;33m)\u001b[0m\u001b[1;33m\u001b[0m\u001b[1;33m\u001b[0m\u001b[0m\n\u001b[0;32m   4187\u001b[0m             \u001b[1;32melse\u001b[0m\u001b[1;33m:\u001b[0m\u001b[1;33m\u001b[0m\u001b[1;33m\u001b[0m\u001b[0m\n\u001b[1;32m-> 4188\u001b[1;33m                 \u001b[0mnew_axis\u001b[0m \u001b[1;33m=\u001b[0m \u001b[0maxis\u001b[0m\u001b[1;33m.\u001b[0m\u001b[0mdrop\u001b[0m\u001b[1;33m(\u001b[0m\u001b[0mlabels\u001b[0m\u001b[1;33m,\u001b[0m \u001b[0merrors\u001b[0m\u001b[1;33m=\u001b[0m\u001b[0merrors\u001b[0m\u001b[1;33m)\u001b[0m\u001b[1;33m\u001b[0m\u001b[1;33m\u001b[0m\u001b[0m\n\u001b[0m\u001b[0;32m   4189\u001b[0m             \u001b[0mresult\u001b[0m \u001b[1;33m=\u001b[0m \u001b[0mself\u001b[0m\u001b[1;33m.\u001b[0m\u001b[0mreindex\u001b[0m\u001b[1;33m(\u001b[0m\u001b[1;33m**\u001b[0m\u001b[1;33m{\u001b[0m\u001b[0maxis_name\u001b[0m\u001b[1;33m:\u001b[0m \u001b[0mnew_axis\u001b[0m\u001b[1;33m}\u001b[0m\u001b[1;33m)\u001b[0m\u001b[1;33m\u001b[0m\u001b[1;33m\u001b[0m\u001b[0m\n\u001b[0;32m   4190\u001b[0m \u001b[1;33m\u001b[0m\u001b[0m\n",
      "\u001b[1;32m~\\anaconda3.1\\lib\\site-packages\\pandas\\core\\indexes\\base.py\u001b[0m in \u001b[0;36mdrop\u001b[1;34m(self, labels, errors)\u001b[0m\n\u001b[0;32m   5589\u001b[0m         \u001b[1;32mif\u001b[0m \u001b[0mmask\u001b[0m\u001b[1;33m.\u001b[0m\u001b[0many\u001b[0m\u001b[1;33m(\u001b[0m\u001b[1;33m)\u001b[0m\u001b[1;33m:\u001b[0m\u001b[1;33m\u001b[0m\u001b[1;33m\u001b[0m\u001b[0m\n\u001b[0;32m   5590\u001b[0m             \u001b[1;32mif\u001b[0m \u001b[0merrors\u001b[0m \u001b[1;33m!=\u001b[0m \u001b[1;34m\"ignore\"\u001b[0m\u001b[1;33m:\u001b[0m\u001b[1;33m\u001b[0m\u001b[1;33m\u001b[0m\u001b[0m\n\u001b[1;32m-> 5591\u001b[1;33m                 \u001b[1;32mraise\u001b[0m \u001b[0mKeyError\u001b[0m\u001b[1;33m(\u001b[0m\u001b[1;34mf\"{labels[mask]} not found in axis\"\u001b[0m\u001b[1;33m)\u001b[0m\u001b[1;33m\u001b[0m\u001b[1;33m\u001b[0m\u001b[0m\n\u001b[0m\u001b[0;32m   5592\u001b[0m             \u001b[0mindexer\u001b[0m \u001b[1;33m=\u001b[0m \u001b[0mindexer\u001b[0m\u001b[1;33m[\u001b[0m\u001b[1;33m~\u001b[0m\u001b[0mmask\u001b[0m\u001b[1;33m]\u001b[0m\u001b[1;33m\u001b[0m\u001b[1;33m\u001b[0m\u001b[0m\n\u001b[0;32m   5593\u001b[0m         \u001b[1;32mreturn\u001b[0m \u001b[0mself\u001b[0m\u001b[1;33m.\u001b[0m\u001b[0mdelete\u001b[0m\u001b[1;33m(\u001b[0m\u001b[0mindexer\u001b[0m\u001b[1;33m)\u001b[0m\u001b[1;33m\u001b[0m\u001b[1;33m\u001b[0m\u001b[0m\n",
      "\u001b[1;31mKeyError\u001b[0m: \"['name' 'reviews' 'rating' 'address' 'postcode' 'price_range' 'amenities'] not found in axis\""
     ]
    }
   ]
  },
  {
   "cell_type": "code",
   "metadata": {
    "cell_id": "00009-3777187d-3274-43ba-88bd-e439a4f85fc7",
    "deepnote_cell_type": "code"
   },
   "source": "restaurants",
   "execution_count": 60,
   "outputs": [
    {
     "data": {
      "text/html": "<div>\n<style scoped>\n    .dataframe tbody tr th:only-of-type {\n        vertical-align: middle;\n    }\n\n    .dataframe tbody tr th {\n        vertical-align: top;\n    }\n\n    .dataframe thead th {\n        text-align: right;\n    }\n</style>\n<table border=\"1\" class=\"dataframe\">\n  <thead>\n    <tr style=\"text-align: right;\">\n      <th></th>\n      <th>name</th>\n      <th>reviews</th>\n      <th>rating</th>\n      <th>address</th>\n      <th>postcode</th>\n      <th>price_range</th>\n      <th>amenities</th>\n    </tr>\n  </thead>\n  <tbody>\n    <tr>\n      <th>0</th>\n      <td>Churrería Laietana</td>\n      <td>221</td>\n      <td>5.0</td>\n      <td>Via Laietana, 46</td>\n      <td>08003 Barcelona</td>\n      <td>Low</td>\n      <td>Offers Takeout No Reservations No Delivery Acc...</td>\n    </tr>\n    <tr>\n      <th>1</th>\n      <td>Foc i Oli</td>\n      <td>91</td>\n      <td>5.0</td>\n      <td>Carrer Aribau, 91</td>\n      <td>08036 Barcelona</td>\n      <td>Medium-Low</td>\n      <td>Offers Takeout No Reservations No Delivery Acc...</td>\n    </tr>\n    <tr>\n      <th>2</th>\n      <td>Disfrutar</td>\n      <td>106</td>\n      <td>5.0</td>\n      <td>Carrer de Villarroel, 163</td>\n      <td>08036 Barcelona</td>\n      <td>High</td>\n      <td>Takes Reservations No Delivery No Takeout Acce...</td>\n    </tr>\n    <tr>\n      <th>3</th>\n      <td>na</td>\n      <td>na</td>\n      <td>5.0</td>\n      <td>na</td>\n      <td>na</td>\n      <td>na</td>\n      <td>na</td>\n    </tr>\n    <tr>\n      <th>4</th>\n      <td>Cera 23</td>\n      <td>549</td>\n      <td>4.5</td>\n      <td>Carrer de la Cera, 23</td>\n      <td>08001 Barcelona</td>\n      <td>Medium-Low</td>\n      <td>Takes Reservations No Delivery No Takeout Acce...</td>\n    </tr>\n    <tr>\n      <th>...</th>\n      <td>...</td>\n      <td>...</td>\n      <td>...</td>\n      <td>...</td>\n      <td>...</td>\n      <td>...</td>\n      <td>...</td>\n    </tr>\n    <tr>\n      <th>115</th>\n      <td>Gilda</td>\n      <td>53</td>\n      <td>4.5</td>\n      <td>Carrer Ample, 34-38</td>\n      <td>08002 Barcelona</td>\n      <td>Medium-Low</td>\n      <td>Takes Reservations Offers Delivery Offers Take...</td>\n    </tr>\n    <tr>\n      <th>116</th>\n      <td>Alta Taberna Paco Meralgo</td>\n      <td>132</td>\n      <td>4.5</td>\n      <td>Carrer de Muntaner, 171</td>\n      <td>08036 Barcelona</td>\n      <td>Medium-High</td>\n      <td>Takes Reservations Offers Takeout No Delivery ...</td>\n    </tr>\n    <tr>\n      <th>117</th>\n      <td>Bodega 1900</td>\n      <td>149</td>\n      <td>4.0</td>\n      <td>Carrer de Tamarit, 91</td>\n      <td>08015 Barcelona</td>\n      <td>Medium-Low</td>\n      <td>Takes Reservations No Delivery No Takeout Acce...</td>\n    </tr>\n    <tr>\n      <th>118</th>\n      <td>Koku Kitchen Ramen</td>\n      <td>120</td>\n      <td>4.5</td>\n      <td>Carrer d'en Carabassa, 19</td>\n      <td>08002 Barcelona</td>\n      <td>Medium-Low</td>\n      <td>Offers Takeout No Reservations No Delivery Acc...</td>\n    </tr>\n    <tr>\n      <th>119</th>\n      <td>Bastaix</td>\n      <td>40</td>\n      <td>4.5</td>\n      <td>Plaça del Fossar de les Moreres, 5</td>\n      <td>08003 Barcelona</td>\n      <td>Medium-Low</td>\n      <td>Takes Reservations No Delivery No Takeout Acce...</td>\n    </tr>\n  </tbody>\n</table>\n<p>120 rows × 7 columns</p>\n</div>",
      "text/plain": "                          name reviews  rating  \\\n0           Churrería Laietana     221     5.0   \n1                    Foc i Oli      91     5.0   \n2                    Disfrutar     106     5.0   \n3                           na      na     5.0   \n4                      Cera 23     549     4.5   \n..                         ...     ...     ...   \n115                      Gilda      53     4.5   \n116  Alta Taberna Paco Meralgo     132     4.5   \n117                Bodega 1900     149     4.0   \n118         Koku Kitchen Ramen     120     4.5   \n119                    Bastaix      40     4.5   \n\n                                address         postcode  price_range  \\\n0                      Via Laietana, 46  08003 Barcelona          Low   \n1                     Carrer Aribau, 91  08036 Barcelona   Medium-Low   \n2             Carrer de Villarroel, 163  08036 Barcelona         High   \n3                                    na               na           na   \n4                 Carrer de la Cera, 23  08001 Barcelona   Medium-Low   \n..                                  ...              ...          ...   \n115                 Carrer Ample, 34-38  08002 Barcelona   Medium-Low   \n116             Carrer de Muntaner, 171  08036 Barcelona  Medium-High   \n117               Carrer de Tamarit, 91  08015 Barcelona   Medium-Low   \n118           Carrer d'en Carabassa, 19  08002 Barcelona   Medium-Low   \n119  Plaça del Fossar de les Moreres, 5  08003 Barcelona   Medium-Low   \n\n                                             amenities  \n0    Offers Takeout No Reservations No Delivery Acc...  \n1    Offers Takeout No Reservations No Delivery Acc...  \n2    Takes Reservations No Delivery No Takeout Acce...  \n3                                                   na  \n4    Takes Reservations No Delivery No Takeout Acce...  \n..                                                 ...  \n115  Takes Reservations Offers Delivery Offers Take...  \n116  Takes Reservations Offers Takeout No Delivery ...  \n117  Takes Reservations No Delivery No Takeout Acce...  \n118  Offers Takeout No Reservations No Delivery Acc...  \n119  Takes Reservations No Delivery No Takeout Acce...  \n\n[120 rows x 7 columns]"
     },
     "execution_count": 60,
     "metadata": {},
     "output_type": "execute_result"
    }
   ]
  },
  {
   "cell_type": "code",
   "metadata": {
    "cell_id": "00010-4a541a65-513c-488a-95fc-6c53af4fea27",
    "deepnote_cell_type": "code"
   },
   "source": "restaurants['name'] = restaurants[restaurants['name'] != 'na']",
   "execution_count": 61,
   "outputs": []
  },
  {
   "cell_type": "code",
   "metadata": {
    "cell_id": "00011-50ab919b-1851-47db-a699-03bb06bbdd4c",
    "deepnote_cell_type": "code"
   },
   "source": "restaurants['name'].shape",
   "execution_count": 63,
   "outputs": [
    {
     "data": {
      "text/plain": "(120,)"
     },
     "execution_count": 63,
     "metadata": {},
     "output_type": "execute_result"
    }
   ]
  },
  {
   "cell_type": "code",
   "metadata": {
    "cell_id": "00012-414d8628-8eb6-42d4-846d-d27229cc5ecd",
    "deepnote_cell_type": "code"
   },
   "source": "restaurants['name'].dropna()",
   "execution_count": 64,
   "outputs": [
    {
     "data": {
      "text/plain": "0             Churrería Laietana\n1                      Foc i Oli\n2                      Disfrutar\n4                        Cera 23\n5                          Arume\n                 ...            \n115                        Gilda\n116    Alta Taberna Paco Meralgo\n117                  Bodega 1900\n118           Koku Kitchen Ramen\n119                      Bastaix\nName: name, Length: 117, dtype: object"
     },
     "execution_count": 64,
     "metadata": {},
     "output_type": "execute_result"
    }
   ]
  },
  {
   "cell_type": "code",
   "metadata": {
    "cell_id": "00013-5256afef-93bf-4882-a2e4-d41b31139973",
    "deepnote_cell_type": "code"
   },
   "source": "restaurants.shape",
   "execution_count": 65,
   "outputs": [
    {
     "data": {
      "text/plain": "(120, 7)"
     },
     "execution_count": 65,
     "metadata": {},
     "output_type": "execute_result"
    }
   ]
  },
  {
   "cell_type": "code",
   "metadata": {
    "cell_id": "00014-b0d8c51d-1e8b-4da3-b026-c1492007d61e",
    "deepnote_cell_type": "code"
   },
   "source": "restaurants",
   "execution_count": 66,
   "outputs": [
    {
     "data": {
      "text/html": "<div>\n<style scoped>\n    .dataframe tbody tr th:only-of-type {\n        vertical-align: middle;\n    }\n\n    .dataframe tbody tr th {\n        vertical-align: top;\n    }\n\n    .dataframe thead th {\n        text-align: right;\n    }\n</style>\n<table border=\"1\" class=\"dataframe\">\n  <thead>\n    <tr style=\"text-align: right;\">\n      <th></th>\n      <th>name</th>\n      <th>reviews</th>\n      <th>rating</th>\n      <th>address</th>\n      <th>postcode</th>\n      <th>price_range</th>\n      <th>amenities</th>\n    </tr>\n  </thead>\n  <tbody>\n    <tr>\n      <th>0</th>\n      <td>Churrería Laietana</td>\n      <td>221</td>\n      <td>5.0</td>\n      <td>Via Laietana, 46</td>\n      <td>08003 Barcelona</td>\n      <td>Low</td>\n      <td>Offers Takeout No Reservations No Delivery Acc...</td>\n    </tr>\n    <tr>\n      <th>1</th>\n      <td>Foc i Oli</td>\n      <td>91</td>\n      <td>5.0</td>\n      <td>Carrer Aribau, 91</td>\n      <td>08036 Barcelona</td>\n      <td>Medium-Low</td>\n      <td>Offers Takeout No Reservations No Delivery Acc...</td>\n    </tr>\n    <tr>\n      <th>2</th>\n      <td>Disfrutar</td>\n      <td>106</td>\n      <td>5.0</td>\n      <td>Carrer de Villarroel, 163</td>\n      <td>08036 Barcelona</td>\n      <td>High</td>\n      <td>Takes Reservations No Delivery No Takeout Acce...</td>\n    </tr>\n    <tr>\n      <th>3</th>\n      <td>NaN</td>\n      <td>na</td>\n      <td>5.0</td>\n      <td>na</td>\n      <td>na</td>\n      <td>na</td>\n      <td>na</td>\n    </tr>\n    <tr>\n      <th>4</th>\n      <td>Cera 23</td>\n      <td>549</td>\n      <td>4.5</td>\n      <td>Carrer de la Cera, 23</td>\n      <td>08001 Barcelona</td>\n      <td>Medium-Low</td>\n      <td>Takes Reservations No Delivery No Takeout Acce...</td>\n    </tr>\n    <tr>\n      <th>...</th>\n      <td>...</td>\n      <td>...</td>\n      <td>...</td>\n      <td>...</td>\n      <td>...</td>\n      <td>...</td>\n      <td>...</td>\n    </tr>\n    <tr>\n      <th>115</th>\n      <td>Gilda</td>\n      <td>53</td>\n      <td>4.5</td>\n      <td>Carrer Ample, 34-38</td>\n      <td>08002 Barcelona</td>\n      <td>Medium-Low</td>\n      <td>Takes Reservations Offers Delivery Offers Take...</td>\n    </tr>\n    <tr>\n      <th>116</th>\n      <td>Alta Taberna Paco Meralgo</td>\n      <td>132</td>\n      <td>4.5</td>\n      <td>Carrer de Muntaner, 171</td>\n      <td>08036 Barcelona</td>\n      <td>Medium-High</td>\n      <td>Takes Reservations Offers Takeout No Delivery ...</td>\n    </tr>\n    <tr>\n      <th>117</th>\n      <td>Bodega 1900</td>\n      <td>149</td>\n      <td>4.0</td>\n      <td>Carrer de Tamarit, 91</td>\n      <td>08015 Barcelona</td>\n      <td>Medium-Low</td>\n      <td>Takes Reservations No Delivery No Takeout Acce...</td>\n    </tr>\n    <tr>\n      <th>118</th>\n      <td>Koku Kitchen Ramen</td>\n      <td>120</td>\n      <td>4.5</td>\n      <td>Carrer d'en Carabassa, 19</td>\n      <td>08002 Barcelona</td>\n      <td>Medium-Low</td>\n      <td>Offers Takeout No Reservations No Delivery Acc...</td>\n    </tr>\n    <tr>\n      <th>119</th>\n      <td>Bastaix</td>\n      <td>40</td>\n      <td>4.5</td>\n      <td>Plaça del Fossar de les Moreres, 5</td>\n      <td>08003 Barcelona</td>\n      <td>Medium-Low</td>\n      <td>Takes Reservations No Delivery No Takeout Acce...</td>\n    </tr>\n  </tbody>\n</table>\n<p>120 rows × 7 columns</p>\n</div>",
      "text/plain": "                          name reviews  rating  \\\n0           Churrería Laietana     221     5.0   \n1                    Foc i Oli      91     5.0   \n2                    Disfrutar     106     5.0   \n3                          NaN      na     5.0   \n4                      Cera 23     549     4.5   \n..                         ...     ...     ...   \n115                      Gilda      53     4.5   \n116  Alta Taberna Paco Meralgo     132     4.5   \n117                Bodega 1900     149     4.0   \n118         Koku Kitchen Ramen     120     4.5   \n119                    Bastaix      40     4.5   \n\n                                address         postcode  price_range  \\\n0                      Via Laietana, 46  08003 Barcelona          Low   \n1                     Carrer Aribau, 91  08036 Barcelona   Medium-Low   \n2             Carrer de Villarroel, 163  08036 Barcelona         High   \n3                                    na               na           na   \n4                 Carrer de la Cera, 23  08001 Barcelona   Medium-Low   \n..                                  ...              ...          ...   \n115                 Carrer Ample, 34-38  08002 Barcelona   Medium-Low   \n116             Carrer de Muntaner, 171  08036 Barcelona  Medium-High   \n117               Carrer de Tamarit, 91  08015 Barcelona   Medium-Low   \n118           Carrer d'en Carabassa, 19  08002 Barcelona   Medium-Low   \n119  Plaça del Fossar de les Moreres, 5  08003 Barcelona   Medium-Low   \n\n                                             amenities  \n0    Offers Takeout No Reservations No Delivery Acc...  \n1    Offers Takeout No Reservations No Delivery Acc...  \n2    Takes Reservations No Delivery No Takeout Acce...  \n3                                                   na  \n4    Takes Reservations No Delivery No Takeout Acce...  \n..                                                 ...  \n115  Takes Reservations Offers Delivery Offers Take...  \n116  Takes Reservations Offers Takeout No Delivery ...  \n117  Takes Reservations No Delivery No Takeout Acce...  \n118  Offers Takeout No Reservations No Delivery Acc...  \n119  Takes Reservations No Delivery No Takeout Acce...  \n\n[120 rows x 7 columns]"
     },
     "execution_count": 66,
     "metadata": {},
     "output_type": "execute_result"
    }
   ]
  },
  {
   "cell_type": "code",
   "metadata": {
    "cell_id": "00015-3f0fa2da-48ae-4bb2-983e-583732637d9f",
    "deepnote_cell_type": "code"
   },
   "source": "restaurants[restaurants['reviews'] == 'na']\nrestaurants[restaurants['address'] == 'na']",
   "execution_count": 67,
   "outputs": [
    {
     "data": {
      "text/html": "<div>\n<style scoped>\n    .dataframe tbody tr th:only-of-type {\n        vertical-align: middle;\n    }\n\n    .dataframe tbody tr th {\n        vertical-align: top;\n    }\n\n    .dataframe thead th {\n        text-align: right;\n    }\n</style>\n<table border=\"1\" class=\"dataframe\">\n  <thead>\n    <tr style=\"text-align: right;\">\n      <th></th>\n      <th>name</th>\n      <th>reviews</th>\n      <th>rating</th>\n      <th>address</th>\n      <th>postcode</th>\n      <th>price_range</th>\n      <th>amenities</th>\n    </tr>\n  </thead>\n  <tbody>\n    <tr>\n      <th>3</th>\n      <td>NaN</td>\n      <td>na</td>\n      <td>5.0</td>\n      <td>na</td>\n      <td>na</td>\n      <td>na</td>\n      <td>na</td>\n    </tr>\n    <tr>\n      <th>30</th>\n      <td>NaN</td>\n      <td>na</td>\n      <td>4.5</td>\n      <td>na</td>\n      <td>na</td>\n      <td>na</td>\n      <td>na</td>\n    </tr>\n    <tr>\n      <th>68</th>\n      <td>NaN</td>\n      <td>na</td>\n      <td>4.5</td>\n      <td>na</td>\n      <td>na</td>\n      <td>na</td>\n      <td>na</td>\n    </tr>\n  </tbody>\n</table>\n</div>",
      "text/plain": "   name reviews  rating address postcode price_range amenities\n3   NaN      na     5.0      na       na          na        na\n30  NaN      na     4.5      na       na          na        na\n68  NaN      na     4.5      na       na          na        na"
     },
     "execution_count": 67,
     "metadata": {},
     "output_type": "execute_result"
    }
   ]
  },
  {
   "cell_type": "code",
   "metadata": {
    "cell_id": "00016-d0e90952-a1a9-4561-9b6e-82fef2af09f4",
    "deepnote_cell_type": "code"
   },
   "source": "restaurants_clean = restaurants[restaurants['reviews']!='na']",
   "execution_count": 68,
   "outputs": []
  },
  {
   "cell_type": "code",
   "metadata": {
    "cell_id": "00017-53c768e6-b27c-4bb0-9be8-26daa1cfb22d",
    "deepnote_cell_type": "code"
   },
   "source": "restaurants_clean",
   "execution_count": 69,
   "outputs": [
    {
     "data": {
      "text/html": "<div>\n<style scoped>\n    .dataframe tbody tr th:only-of-type {\n        vertical-align: middle;\n    }\n\n    .dataframe tbody tr th {\n        vertical-align: top;\n    }\n\n    .dataframe thead th {\n        text-align: right;\n    }\n</style>\n<table border=\"1\" class=\"dataframe\">\n  <thead>\n    <tr style=\"text-align: right;\">\n      <th></th>\n      <th>name</th>\n      <th>reviews</th>\n      <th>rating</th>\n      <th>address</th>\n      <th>postcode</th>\n      <th>price_range</th>\n      <th>amenities</th>\n    </tr>\n  </thead>\n  <tbody>\n    <tr>\n      <th>0</th>\n      <td>Churrería Laietana</td>\n      <td>221</td>\n      <td>5.0</td>\n      <td>Via Laietana, 46</td>\n      <td>08003 Barcelona</td>\n      <td>Low</td>\n      <td>Offers Takeout No Reservations No Delivery Acc...</td>\n    </tr>\n    <tr>\n      <th>1</th>\n      <td>Foc i Oli</td>\n      <td>91</td>\n      <td>5.0</td>\n      <td>Carrer Aribau, 91</td>\n      <td>08036 Barcelona</td>\n      <td>Medium-Low</td>\n      <td>Offers Takeout No Reservations No Delivery Acc...</td>\n    </tr>\n    <tr>\n      <th>2</th>\n      <td>Disfrutar</td>\n      <td>106</td>\n      <td>5.0</td>\n      <td>Carrer de Villarroel, 163</td>\n      <td>08036 Barcelona</td>\n      <td>High</td>\n      <td>Takes Reservations No Delivery No Takeout Acce...</td>\n    </tr>\n    <tr>\n      <th>4</th>\n      <td>Cera 23</td>\n      <td>549</td>\n      <td>4.5</td>\n      <td>Carrer de la Cera, 23</td>\n      <td>08001 Barcelona</td>\n      <td>Medium-Low</td>\n      <td>Takes Reservations No Delivery No Takeout Acce...</td>\n    </tr>\n    <tr>\n      <th>5</th>\n      <td>Arume</td>\n      <td>621</td>\n      <td>4.5</td>\n      <td>Carrer d'En Botella, 11</td>\n      <td>08007 Barcelona</td>\n      <td>Medium-Low</td>\n      <td>Takes Reservations No Delivery No Takeout Acce...</td>\n    </tr>\n    <tr>\n      <th>...</th>\n      <td>...</td>\n      <td>...</td>\n      <td>...</td>\n      <td>...</td>\n      <td>...</td>\n      <td>...</td>\n      <td>...</td>\n    </tr>\n    <tr>\n      <th>115</th>\n      <td>Gilda</td>\n      <td>53</td>\n      <td>4.5</td>\n      <td>Carrer Ample, 34-38</td>\n      <td>08002 Barcelona</td>\n      <td>Medium-Low</td>\n      <td>Takes Reservations Offers Delivery Offers Take...</td>\n    </tr>\n    <tr>\n      <th>116</th>\n      <td>Alta Taberna Paco Meralgo</td>\n      <td>132</td>\n      <td>4.5</td>\n      <td>Carrer de Muntaner, 171</td>\n      <td>08036 Barcelona</td>\n      <td>Medium-High</td>\n      <td>Takes Reservations Offers Takeout No Delivery ...</td>\n    </tr>\n    <tr>\n      <th>117</th>\n      <td>Bodega 1900</td>\n      <td>149</td>\n      <td>4.0</td>\n      <td>Carrer de Tamarit, 91</td>\n      <td>08015 Barcelona</td>\n      <td>Medium-Low</td>\n      <td>Takes Reservations No Delivery No Takeout Acce...</td>\n    </tr>\n    <tr>\n      <th>118</th>\n      <td>Koku Kitchen Ramen</td>\n      <td>120</td>\n      <td>4.5</td>\n      <td>Carrer d'en Carabassa, 19</td>\n      <td>08002 Barcelona</td>\n      <td>Medium-Low</td>\n      <td>Offers Takeout No Reservations No Delivery Acc...</td>\n    </tr>\n    <tr>\n      <th>119</th>\n      <td>Bastaix</td>\n      <td>40</td>\n      <td>4.5</td>\n      <td>Plaça del Fossar de les Moreres, 5</td>\n      <td>08003 Barcelona</td>\n      <td>Medium-Low</td>\n      <td>Takes Reservations No Delivery No Takeout Acce...</td>\n    </tr>\n  </tbody>\n</table>\n<p>117 rows × 7 columns</p>\n</div>",
      "text/plain": "                          name reviews  rating  \\\n0           Churrería Laietana     221     5.0   \n1                    Foc i Oli      91     5.0   \n2                    Disfrutar     106     5.0   \n4                      Cera 23     549     4.5   \n5                        Arume     621     4.5   \n..                         ...     ...     ...   \n115                      Gilda      53     4.5   \n116  Alta Taberna Paco Meralgo     132     4.5   \n117                Bodega 1900     149     4.0   \n118         Koku Kitchen Ramen     120     4.5   \n119                    Bastaix      40     4.5   \n\n                                address         postcode  price_range  \\\n0                      Via Laietana, 46  08003 Barcelona          Low   \n1                     Carrer Aribau, 91  08036 Barcelona   Medium-Low   \n2             Carrer de Villarroel, 163  08036 Barcelona         High   \n4                 Carrer de la Cera, 23  08001 Barcelona   Medium-Low   \n5               Carrer d'En Botella, 11  08007 Barcelona   Medium-Low   \n..                                  ...              ...          ...   \n115                 Carrer Ample, 34-38  08002 Barcelona   Medium-Low   \n116             Carrer de Muntaner, 171  08036 Barcelona  Medium-High   \n117               Carrer de Tamarit, 91  08015 Barcelona   Medium-Low   \n118           Carrer d'en Carabassa, 19  08002 Barcelona   Medium-Low   \n119  Plaça del Fossar de les Moreres, 5  08003 Barcelona   Medium-Low   \n\n                                             amenities  \n0    Offers Takeout No Reservations No Delivery Acc...  \n1    Offers Takeout No Reservations No Delivery Acc...  \n2    Takes Reservations No Delivery No Takeout Acce...  \n4    Takes Reservations No Delivery No Takeout Acce...  \n5    Takes Reservations No Delivery No Takeout Acce...  \n..                                                 ...  \n115  Takes Reservations Offers Delivery Offers Take...  \n116  Takes Reservations Offers Takeout No Delivery ...  \n117  Takes Reservations No Delivery No Takeout Acce...  \n118  Offers Takeout No Reservations No Delivery Acc...  \n119  Takes Reservations No Delivery No Takeout Acce...  \n\n[117 rows x 7 columns]"
     },
     "execution_count": 69,
     "metadata": {},
     "output_type": "execute_result"
    }
   ]
  },
  {
   "cell_type": "code",
   "metadata": {
    "cell_id": "00018-44db1687-6bc4-4771-820e-f5e2a04d5a54",
    "deepnote_cell_type": "code"
   },
   "source": "restaurants_clean.describe()",
   "execution_count": 71,
   "outputs": [
    {
     "data": {
      "text/html": "<div>\n<style scoped>\n    .dataframe tbody tr th:only-of-type {\n        vertical-align: middle;\n    }\n\n    .dataframe tbody tr th {\n        vertical-align: top;\n    }\n\n    .dataframe thead th {\n        text-align: right;\n    }\n</style>\n<table border=\"1\" class=\"dataframe\">\n  <thead>\n    <tr style=\"text-align: right;\">\n      <th></th>\n      <th>rating</th>\n    </tr>\n  </thead>\n  <tbody>\n    <tr>\n      <th>count</th>\n      <td>117.000000</td>\n    </tr>\n    <tr>\n      <th>mean</th>\n      <td>4.534188</td>\n    </tr>\n    <tr>\n      <th>std</th>\n      <td>0.243240</td>\n    </tr>\n    <tr>\n      <th>min</th>\n      <td>4.000000</td>\n    </tr>\n    <tr>\n      <th>25%</th>\n      <td>4.500000</td>\n    </tr>\n    <tr>\n      <th>50%</th>\n      <td>4.500000</td>\n    </tr>\n    <tr>\n      <th>75%</th>\n      <td>4.500000</td>\n    </tr>\n    <tr>\n      <th>max</th>\n      <td>5.000000</td>\n    </tr>\n  </tbody>\n</table>\n</div>",
      "text/plain": "           rating\ncount  117.000000\nmean     4.534188\nstd      0.243240\nmin      4.000000\n25%      4.500000\n50%      4.500000\n75%      4.500000\nmax      5.000000"
     },
     "execution_count": 71,
     "metadata": {},
     "output_type": "execute_result"
    }
   ]
  },
  {
   "cell_type": "code",
   "metadata": {
    "cell_id": "00019-bbeb7b56-638d-4c69-a919-7ea22477923c",
    "deepnote_cell_type": "code"
   },
   "source": "# Some concepts to analyse data \n# Outliers, Numpy, Probability, Bayes Theorem\n# Summarize your data with descriptive statistics.\n# Test hypotheses or make estimates with inferential statistics.\n# Interpret your results.\n# Frequently asked questions about statistical analysis\n",
   "execution_count": 43,
   "outputs": []
  },
  {
   "cell_type": "code",
   "metadata": {
    "cell_id": "00020-43ca5bde-9f27-4c36-9c17-fbcd6d97e575",
    "deepnote_cell_type": "code"
   },
   "source": "sns.displot(restaurants_clean,kde = True)\n# It looks pretty normally disturbed",
   "execution_count": 72,
   "outputs": [
    {
     "data": {
      "text/plain": "<seaborn.axisgrid.FacetGrid at 0x1cc68888730>"
     },
     "execution_count": 72,
     "metadata": {},
     "output_type": "execute_result"
    },
    {
     "data": {
      "image/png": "[encoded data removed]",
      "text/plain": "<Figure size 425.75x360 with 1 Axes>"
     },
     "metadata": {
      "needs_background": "light",
      "image/png": {
       "width": 424,
       "height": 352
      }
     },
     "output_type": "display_data"
    }
   ]
  },
  {
   "cell_type": "code",
   "metadata": {
    "cell_id": "00021-ef6f4862-7ce4-4f1d-ba12-c41adf881dc9",
    "deepnote_cell_type": "code"
   },
   "source": "# restaurants_clean['reviews']\nrestaurants_clean",
   "execution_count": 52,
   "outputs": [
    {
     "data": {
      "text/plain": "0      5\n1      5\n2      5\n4      4\n5      4\n      ..\n115    4\n116    4\n117    4\n118    4\n119    4\nName: rating, Length: 117, dtype: int32"
     },
     "execution_count": 52,
     "metadata": {},
     "output_type": "execute_result"
    }
   ]
  },
  {
   "cell_type": "code",
   "metadata": {
    "cell_id": "00022-236b080b-99eb-4eab-b52a-cc96f8770295",
    "deepnote_cell_type": "code"
   },
   "source": "# re['reviews'] = list(df['reviews'])\n\nrestaurants_clean['reviews'] = restaurants_clean['reviews'].astype(int)",
   "execution_count": 79,
   "outputs": [
    {
     "name": "stderr",
     "output_type": "stream",
     "text": "<ipython-input-79-8666d4a8c520>:3: SettingWithCopyWarning: \nA value is trying to be set on a copy of a slice from a DataFrame.\nTry using .loc[row_indexer,col_indexer] = value instead\n\nSee the caveats in the documentation: https://pandas.pydata.org/pandas-docs/stable/user_guide/indexing.html#returning-a-view-versus-a-copy\n  restaurants_clean['reviews'] = restaurants_clean['reviews'].astype(int)\n"
    }
   ]
  },
  {
   "cell_type": "code",
   "metadata": {
    "cell_id": "00023-63e83bec-2371-4966-9136-3f6e7ab321c5",
    "deepnote_cell_type": "code"
   },
   "source": "restaurants_clean['reviews'].corr(restaurants_clean['rating'])",
   "execution_count": 80,
   "outputs": [
    {
     "data": {
      "text/plain": "-0.22667560620324656"
     },
     "execution_count": 80,
     "metadata": {},
     "output_type": "execute_result"
    }
   ]
  },
  {
   "cell_type": "code",
   "metadata": {
    "cell_id": "00024-4d5cf37b-212d-4686-928a-760809607969",
    "deepnote_cell_type": "code"
   },
   "source": "restaurants_clean[(stats.zscore(restaurants_clean['reviews'])>2) |(stats.zscore(restaurants_clean['reviews'])<-2)]\n# Those restaurants are outliers and they are really goods",
   "execution_count": 92,
   "outputs": [
    {
     "data": {
      "text/html": "<div>\n<style scoped>\n    .dataframe tbody tr th:only-of-type {\n        vertical-align: middle;\n    }\n\n    .dataframe tbody tr th {\n        vertical-align: top;\n    }\n\n    .dataframe thead th {\n        text-align: right;\n    }\n</style>\n<table border=\"1\" class=\"dataframe\">\n  <thead>\n    <tr style=\"text-align: right;\">\n      <th></th>\n      <th>name</th>\n      <th>reviews</th>\n      <th>rating</th>\n      <th>address</th>\n      <th>postcode</th>\n      <th>price_range</th>\n      <th>amenities</th>\n    </tr>\n  </thead>\n  <tbody>\n    <tr>\n      <th>4</th>\n      <td>Cera 23</td>\n      <td>549</td>\n      <td>4</td>\n      <td>Carrer de la Cera, 23</td>\n      <td>08001 Barcelona</td>\n      <td>Medium-Low</td>\n      <td>Takes Reservations No Delivery No Takeout Acce...</td>\n    </tr>\n    <tr>\n      <th>5</th>\n      <td>Arume</td>\n      <td>621</td>\n      <td>4</td>\n      <td>Carrer d'En Botella, 11</td>\n      <td>08007 Barcelona</td>\n      <td>Medium-Low</td>\n      <td>Takes Reservations No Delivery No Takeout Acce...</td>\n    </tr>\n    <tr>\n      <th>33</th>\n      <td>Cerveseria Catalana</td>\n      <td>1250</td>\n      <td>4</td>\n      <td>Carrer de Mallorca, 236</td>\n      <td>08008 Barcelona</td>\n      <td>Medium-Low</td>\n      <td>No Reservations No Delivery No Takeout Accepts...</td>\n    </tr>\n    <tr>\n      <th>46</th>\n      <td>Ciutat Comtal</td>\n      <td>1101</td>\n      <td>4</td>\n      <td>Rambla de Catalunya, 18</td>\n      <td>08007 Barcelona</td>\n      <td>Medium-Low</td>\n      <td>Takes Reservations No Delivery No Takeout Acce...</td>\n    </tr>\n    <tr>\n      <th>57</th>\n      <td>Brunch &amp; Cake</td>\n      <td>843</td>\n      <td>4</td>\n      <td>Carrer d'Enric Granados, 19</td>\n      <td>08007 Barcelona</td>\n      <td>Medium-Low</td>\n      <td>Offers Takeout No Reservations No Delivery Acc...</td>\n    </tr>\n  </tbody>\n</table>\n</div>",
      "text/plain": "                   name  reviews  rating                      address  \\\n4               Cera 23      549       4        Carrer de la Cera, 23   \n5                 Arume      621       4      Carrer d'En Botella, 11   \n33  Cerveseria Catalana     1250       4      Carrer de Mallorca, 236   \n46        Ciutat Comtal     1101       4      Rambla de Catalunya, 18   \n57        Brunch & Cake      843       4  Carrer d'Enric Granados, 19   \n\n           postcode price_range  \\\n4   08001 Barcelona  Medium-Low   \n5   08007 Barcelona  Medium-Low   \n33  08008 Barcelona  Medium-Low   \n46  08007 Barcelona  Medium-Low   \n57  08007 Barcelona  Medium-Low   \n\n                                            amenities  \n4   Takes Reservations No Delivery No Takeout Acce...  \n5   Takes Reservations No Delivery No Takeout Acce...  \n33  No Reservations No Delivery No Takeout Accepts...  \n46  Takes Reservations No Delivery No Takeout Acce...  \n57  Offers Takeout No Reservations No Delivery Acc...  "
     },
     "execution_count": 92,
     "metadata": {},
     "output_type": "execute_result"
    }
   ]
  },
  {
   "cell_type": "code",
   "metadata": {
    "cell_id": "00025-8f0d34cf-ed90-45b3-a39e-b9c811e4f928",
    "deepnote_cell_type": "code"
   },
   "source": "restaurants_clean['reviews'].mean()",
   "execution_count": 91,
   "outputs": [
    {
     "data": {
      "text/plain": "164.93162393162393"
     },
     "execution_count": 91,
     "metadata": {},
     "output_type": "execute_result"
    }
   ]
  },
  {
   "cell_type": "code",
   "metadata": {
    "cell_id": "00026-19a2bf5e-75ee-4e16-bd94-682e5a568f4f",
    "deepnote_cell_type": "code"
   },
   "source": "",
   "execution_count": null,
   "outputs": []
  },
  {
   "cell_type": "markdown",
   "source": "<a style='text-decoration:none;line-height:16px;display:flex;color:#5B5B62;padding:10px;justify-content:end;' href='https://deepnote.com?utm_source=created-in-deepnote-cell&projectId=526677fa-2acc-4bfb-a9de-71741f421eb9' target=\"_blank\">\n<img alt='Created in deepnote.com' style='display:inline;max-height:16px;margin:0px;margin-right:7.5px;' src='data:image/svg+xml;base64,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' > </img>\nCreated in <span style='font-weight:600;margin-left:4px;'>Deepnote</span></a>",
   "metadata": {
    "tags": [],
    "created_in_deepnote_cell": true,
    "deepnote_cell_type": "markdown"
   }
  }
 ],
 "nbformat": 4,
 "nbformat_minor": 5,
 "metadata": {
  "kernelspec": {
   "display_name": "Python 3",
   "language": "python",
   "name": "python3"
  },
  "language_info": {
   "codemirror_mode": {
    "name": "ipython",
    "version": 3
   },
   "file_extension": ".py",
   "mimetype": "text/x-python",
   "name": "python",
   "nbconvert_exporter": "python",
   "pygments_lexer": "ipython3",
   "version": "3.8.8"
  },
  "deepnote_notebook_id": "4a72286d-359c-47c6-a1be-1cc7e358cb4b",
  "deepnote": {},
  "deepnote_execution_queue": []
 }
}