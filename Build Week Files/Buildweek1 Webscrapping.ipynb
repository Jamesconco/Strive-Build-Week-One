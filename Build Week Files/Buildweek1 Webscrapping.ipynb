{
 "cells": [
  {
   "cell_type": "markdown",
   "source": "## imports",
   "metadata": {
    "tags": [],
    "cell_id": "00000-a1f90415-d99b-4891-b156-ab11921e5564",
    "deepnote_cell_type": "text-cell-h2"
   }
  },
  {
   "cell_type": "code",
   "metadata": {
    "tags": [],
    "cell_id": "00000-39b838c1-4fd7-4f79-bf69-d4c1b845c220",
    "deepnote_to_be_reexecuted": false,
    "source_hash": "521aff2c",
    "execution_start": 1624551345365,
    "execution_millis": 3284,
    "deepnote_cell_type": "code"
   },
   "source": "!pip install bs4==0.0.1\n\n",
   "outputs": [
    {
     "name": "stdout",
     "text": "Requirement already satisfied: bs4==0.0.1 in /root/venv/lib/python3.7/site-packages (0.0.1)\r\nRequirement already satisfied: beautifulsoup4 in /root/venv/lib/python3.7/site-packages (from bs4==0.0.1) (4.9.3)\r\nRequirement already satisfied: soupsieve>1.2 in /root/venv/lib/python3.7/site-packages (from beautifulsoup4->bs4==0.0.1) (2.2.1)\r\n",
     "output_type": "stream"
    }
   ],
   "execution_count": null
  },
  {
   "cell_type": "code",
   "metadata": {
    "tags": [],
    "cell_id": "00001-ddb6462d-9f36-46d1-a551-2cedaae6b729",
    "deepnote_to_be_reexecuted": false,
    "source_hash": "5774eec",
    "execution_start": 1624551348656,
    "execution_millis": 120,
    "deepnote_cell_type": "code"
   },
   "source": "import requests\nfrom bs4 import BeautifulSoup\nimport re\nfrom random import randint\nfrom time import sleep\nimport pandas as pd\nimport numpy as np",
   "outputs": [],
   "execution_count": null
  },
  {
   "cell_type": "markdown",
   "source": "## webscraping",
   "metadata": {
    "tags": [],
    "cell_id": "00003-b55a8437-071e-4724-a6ed-39da7eb8a363",
    "deepnote_cell_type": "text-cell-h2"
   }
  },
  {
   "cell_type": "code",
   "metadata": {
    "tags": [],
    "cell_id": "00000-2dc0ae0b-59d5-4f95-9d6d-23dade082fa2",
    "deepnote_to_be_reexecuted": false,
    "source_hash": "5cb055f8",
    "execution_start": 1624551348787,
    "execution_millis": 23120,
    "deepnote_cell_type": "code"
   },
   "source": "baseurl = \"https://www.yelp.com/\"\n\n\n\n\n\nheaders = {\n'User-Agent': 'Mozilla/5.0 (Windows NT 10.0; WOW64) AppleWebKit/537.36 (KHTML,)'\n\n}\n\nproductlinks = []\n\npglist = [0,10,20,30,40,50,60,70,80,90,100,110]\n\nhello_list = []\n\nfor x in pglist:\n    \n\n    r = requests.get(f'https://www.yelp.com/search?find_desc=Hotels&find_loc=barcelona&sortby=rating&start={x}')\n\n    soup = BeautifulSoup(r.content, 'lxml')\n\n    productlist = soup.find_all(\"li\", class_=\"border-color--default__09f24__1eOdn\")\n\n\n\n \n    for item in productlist:\n        for link in item.find_all(\"a\", href=True):\n            try:\n                if link[\"href\"].endswith(\"osq=Hotels\") and link['href'] not in hello_list:\n                    hello_list.append(link['href'])\n                    print(link['href'])\n            except Exception as e:\n                print(e)\n",
   "outputs": [
    {
     "name": "stdout",
     "text": "/biz/hotel-cotton-house-barcelona?osq=Hotels\n/biz/hotel-cotton-house-barcelona?hrid=UhacxWD6JFmTDR8cjGJrPQ&osq=Hotels\n/biz/villa-emilia-barcelona-2?osq=Hotels\n/biz/villa-emilia-barcelona-2?hrid=XzFChulh4XIhlas5PWO79w&osq=Hotels\n/biz/alma-barcelona-barcelona?osq=Hotels\n/biz/alma-barcelona-barcelona?hrid=Sxk8jMtHP03IOGOO5E6Kbg&osq=Hotels\n/biz/hotel-1898-barcelona?osq=Hotels\n/biz/hotel-1898-barcelona?hrid=Qw4zcOTl0NoJoJbgdXX4QA&osq=Hotels\n/biz/the-serras-barcelona?osq=Hotels\n/biz/the-serras-barcelona?hrid=RqtEKBSULbtGKbmkD1-dZg&osq=Hotels\n/biz/barcel%C3%B3-raval-barcelona?osq=Hotels\n/biz/barcel%C3%B3-raval-barcelona?hrid=uogFvJs7Wx8fIyVJ_uO4lg&osq=Hotels\n/biz/olivia-balmes-barcelona?osq=Hotels\n/biz/olivia-balmes-barcelona?hrid=3DbdXso0AZrNclxc9cyTMQ&osq=Hotels\n/biz/casa-fuster-barcelona?osq=Hotels\n/biz/casa-fuster-barcelona?hrid=5Goog1Wk76W1NaT5ZDe6bA&osq=Hotels\n/biz/hotel-duquesa-de-cardona-barcelona-2?osq=Hotels\n/biz/hotel-duquesa-de-cardona-barcelona-2?hrid=FzDCiqJJLi17xsq7fmxfVw&osq=Hotels\n/biz/hotel-arts-barcelona-barcelona?osq=Hotels\n/biz/hotel-arts-barcelona-barcelona?hrid=lp99GSLPTp-DawQY-vb4Ng&osq=Hotels\n/biz/el-palace-barcelona?osq=Hotels\n/biz/el-palace-barcelona?hrid=_7ALKg5SQBrNSDHCMqjNqg&osq=Hotels\n/biz/hotel-europark-barcelona?osq=Hotels\n/biz/hotel-europark-barcelona?hrid=mcv5TpfJoydsRTiwx5Np8Q&osq=Hotels\n/biz/the-corner-hotel-barcelona?osq=Hotels\n/biz/the-corner-hotel-barcelona?hrid=ckiOznyqqeyB_yAwUzax_Q&osq=Hotels\n/biz/le-m%C3%A9ridien-barcelona-barcelona-7?osq=Hotels\n/biz/le-m%C3%A9ridien-barcelona-barcelona-7?hrid=N0aKZ817_ePfjkCTzZU6YQ&osq=Hotels\n/biz/hotel-u232-barcelona-2?osq=Hotels\n/biz/hotel-u232-barcelona-2?hrid=6YVod_Qniq2VQBuEcZ2Exg&osq=Hotels\n/biz/hotel-crowne-plaza-fira-center-barcelona?osq=Hotels\n/biz/hotel-crowne-plaza-fira-center-barcelona?hrid=7ZRMWrFoBXDc1AmQ6XDQSA&osq=Hotels\n/biz/w-barcelona-barcelona?osq=Hotels\n/biz/w-barcelona-barcelona?hrid=scjaBYEx-68B0g6oRC18pg&osq=Hotels\n/biz/h10-casa-mimosa-barcelona-12?osq=Hotels\n/biz/h10-casa-mimosa-barcelona-12?hrid=RHKZ4ZAIrXKoGqp2mVP2sw&osq=Hotels\n/biz/room-mate-carla-hotel-barcelona?osq=Hotels\n/biz/room-mate-carla-hotel-barcelona?hrid=ZLaAFdXP9tdJDjNjJ_7ZaQ&osq=Hotels\n/biz/h10-madison-barcelona-2?osq=Hotels\n/biz/h10-madison-barcelona-2?hrid=EbcAhobd1x8GyV73hRXD2g&osq=Hotels\n/biz/do-barcelona?osq=Hotels\n/biz/do-barcelona?hrid=I92VwWQN5GBBNGpOzb2T6w&osq=Hotels\n/biz/pulitzer-barcelona-barcelona?osq=Hotels\n/biz/pulitzer-barcelona-barcelona?hrid=aTM5z3f3XmUWAt_OkBTDNQ&osq=Hotels\n/biz/hotel-majestic-barcelona-5?osq=Hotels\n/biz/hotel-majestic-barcelona-5?hrid=nqvgmRhcGdA_70ei9074Yg&osq=Hotels\n/biz/renaissance-barcelona-hotel-barcelona-2?osq=Hotels\n/biz/renaissance-barcelona-hotel-barcelona-2?hrid=gS3bzAmUcLd_GqtS1F2u7w&osq=Hotels\n/biz/hotel-barcelona-universal-barcelona-2?osq=Hotels\n/biz/hotel-barcelona-universal-barcelona-2?hrid=tId4Vc5e45M89mcljtRwbg&osq=Hotels\n/biz/claris-barcelona-3?osq=Hotels\n/biz/claris-barcelona-3?hrid=hmOllPY55LL8eq8wvlq_cg&osq=Hotels\n/biz/grand-hotel-central-barcelona?osq=Hotels\n/biz/grand-hotel-central-barcelona?hrid=aoeB9xdrfLqwqYLq5OAnTw&osq=Hotels\n/biz/wilson-barcelona?osq=Hotels\n/biz/wilson-barcelona?hrid=-6Lb9HOCkzMNMu0RX89GiA&osq=Hotels\n/biz/casa-bonay-barcelona?osq=Hotels\n/biz/casa-bonay-barcelona?hrid=bDwWm0W6B5JbOWDfUcjKpQ&osq=Hotels\n/biz/renaissance-barcelona-fira-hotel-barcelona?osq=Hotels\n/biz/renaissance-barcelona-fira-hotel-barcelona?hrid=fZWXf8lbmh60qgM-7CN_YQ&osq=Hotels\n/biz/hotel-praktik-barcelona-3?osq=Hotels\n/biz/hotel-praktik-barcelona-3?hrid=mh4cMrfvD92_TZnG-Nm-6Q&osq=Hotels\n/biz/hotel-porta-fira-hospitalet-de-llobregat?osq=Hotels\n/biz/hotel-porta-fira-hospitalet-de-llobregat?hrid=eRn9J4QgfycvQKjEL4eBeQ&osq=Hotels\n/biz/hotel-col%C3%B3n-barcelona-4?osq=Hotels\n/biz/hotel-col%C3%B3n-barcelona-4?hrid=ZfHPitzNHmVUn7YrkjVx0w&osq=Hotels\n/biz/hotel-jazz-barcelona?osq=Hotels\n/biz/hotel-jazz-barcelona?hrid=O8SqmPnut9yILxdJ3-opZQ&osq=Hotels\n/biz/b-hotel-barcelona?osq=Hotels\n/biz/b-hotel-barcelona?hrid=4P31zEuVAua1wTiDIm9pRw&osq=Hotels\n/biz/hotel-catalonia-catedral-barcelona?osq=Hotels\n/biz/hotel-catalonia-catedral-barcelona?hrid=p1MyduBVlFJI-fHOJjeY7g&osq=Hotels\n/biz/arai-aparthotel-barcelona?osq=Hotels\n/biz/arai-aparthotel-barcelona?hrid=n3r25jphfOJNtSN0jQ86qQ&osq=Hotels\n/biz/hotel-bagu%C3%A9s-barcelona-3?osq=Hotels\n/biz/hotel-bagu%C3%A9s-barcelona-3?hrid=9BTt4Cp3Th2IldzDklu3gw&osq=Hotels\n/biz/k-k-hotel-picasso-barcelona-barcelona?osq=Hotels\n/biz/k-k-hotel-picasso-barcelona-barcelona?hrid=RgchwSbwtYR-S0Ox7KpwCg&osq=Hotels\n/biz/the-barcelona-edition-barcelona?osq=Hotels\n/biz/the-barcelona-edition-barcelona?hrid=UAafvZE4Zbpwu6AR3ELltw&osq=Hotels\n/biz/hotel-mercer-barcelona?osq=Hotels\n/biz/hotel-mercer-barcelona?hrid=oB8zcUocIpjJXrTyTHWHtQ&osq=Hotels\n/biz/hotel-murmuri-barcelona-2?osq=Hotels\n/biz/hotel-murmuri-barcelona-2?hrid=4XiLtKwbfYE_esKbm_MfGw&osq=Hotels\n/biz/banys-oriental-barcelona?osq=Hotels\n/biz/banys-oriental-barcelona?hrid=CDEbNNQuFPvtwsslzyaz4A&osq=Hotels\n/biz/hostal-grau-barcelona-barcelona?osq=Hotels\n/biz/hostal-grau-barcelona-barcelona?hrid=TmjTDZ2r9Ee15rJ5HAWg1g&osq=Hotels\n/biz/aparthotel-silver-barcelona?osq=Hotels\n/biz/aparthotel-silver-barcelona?hrid=ABlVgiryv4bJP9WklNoOtw&osq=Hotels\n/biz/room-mate-anna-hotel-barcelona?osq=Hotels\n/biz/room-mate-anna-hotel-barcelona?hrid=6hyLzL_--fq0RZIsyxcUYA&osq=Hotels\n/biz/two-hotel-barcelona-2?osq=Hotels\n/biz/two-hotel-barcelona-2?hrid=2SB3rzvW_XbuwNW_RxL92A&osq=Hotels\n/biz/almanac-barcelona?osq=Hotels\n/biz/almanac-barcelona?hrid=M1EtaTzI4Wf5hxmOIHPFmQ&osq=Hotels\n/biz/hotel-sofia-barcelona?osq=Hotels\n/biz/hotel-sofia-barcelona?hrid=7bx1lvpcb4MVwm4BRJyqIA&osq=Hotels\n/biz/alexandra-barcelona-hotel-barcelona?osq=Hotels\n/biz/alexandra-barcelona-hotel-barcelona?hrid=BHSG9MUlioGO-Kw-aZwoCw&osq=Hotels\n/biz/hotel-nh-collection-barcelona-gran-hotel-calder%C3%B3n-barcelona-2?osq=Hotels\n/biz/hotel-nh-collection-barcelona-gran-hotel-calder%C3%B3n-barcelona-2?hrid=jD76dfJZ7C458p_D33YqAQ&osq=Hotels\n/biz/mandarin-oriental-barcelona?osq=Hotels\n/biz/mandarin-oriental-barcelona?hrid=wEztVkk_cHM7hLcKGVmXKQ&osq=Hotels\n/biz/neri-barcelona?osq=Hotels\n/biz/neri-barcelona?hrid=8tOFAKFeuka05c-QGomy9g&osq=Hotels\n/biz/hotel-continental-barcelona-barcelona?osq=Hotels\n/biz/hotel-continental-barcelona-barcelona?hrid=FlOqVPA5iC1YPa59u_ZH9w&osq=Hotels\n/biz/royal-ramblas-hotel-barcelona?osq=Hotels\n/biz/royal-ramblas-hotel-barcelona?hrid=dY99WeET75rDaYzp--ZwqQ&osq=Hotels\n/biz/the-wittmore-barcelona?osq=Hotels\n/biz/the-wittmore-barcelona?hrid=FNWmo-Q5fHYd7LWWP86MkA&osq=Hotels\n/biz/hilton-barcelona-hotel-barcelona-4?osq=Hotels\n/biz/hilton-barcelona-hotel-barcelona-4?hrid=mGJcpr7QB5_8r32qscxSsw&osq=Hotels\n/biz/barcel%C3%B3-sants-barcelona?osq=Hotels\n/biz/barcel%C3%B3-sants-barcelona?hrid=OUPZ9AE0iJ9ssoJ8NhPk1A&osq=Hotels\n/biz/the-mirror-hotel-barcelona-2?osq=Hotels\n/biz/the-mirror-hotel-barcelona-2?hrid=AW6DNZpVFTCFf1PDqPb4KQ&osq=Hotels\n/biz/hotel-ayre-roselon-barcelona?osq=Hotels\n/biz/hotel-ayre-roselon-barcelona?hrid=4JA042WuzrcCGxDMZrKluA&osq=Hotels\n/biz/hotel-musik-boutique-barcelona?osq=Hotels\n/biz/hotel-musik-boutique-barcelona?hrid=RJpQJ_frOtTVanCg5M1jUw&osq=Hotels\n/biz/acevi-villarroel-barcelona?osq=Hotels\n/biz/acevi-villarroel-barcelona?hrid=lIijYWCMO68u_kVd7iIIvg&osq=Hotels\n/biz/hotel-h10-barcelona?osq=Hotels\n/biz/hotel-h10-barcelona?hrid=V4s71jrSMmHYghm3x9C4Nw&osq=Hotels\n/biz/hotel-cram-barcelona?osq=Hotels\n/biz/hotel-cram-barcelona?hrid=HqWXEP-XJgcMF-H7o2wGsQ&osq=Hotels\n/biz/yurbban-passage-barcelona?osq=Hotels\n/biz/yurbban-passage-barcelona?hrid=-5AebDUQx6RYjS3qyHP2ow&osq=Hotels\n/biz/yurbban-trafalgar-barcelona?osq=Hotels\n/biz/yurbban-trafalgar-barcelona?hrid=qsdJttNZb_yYZqfMSRXdlA&osq=Hotels\n/biz/pullman-barcelona?osq=Hotels\n/biz/pullman-barcelona?hrid=wpsQ4C0-tR7rySH57D3yzQ&osq=Hotels\n/biz/hesperia-presidente-barcelona?osq=Hotels\n/biz/hesperia-presidente-barcelona?hrid=wjHD1nP6C2tG4qSXDdUJ6g&osq=Hotels\n/biz/hotel-ohla-barcelona?osq=Hotels\n/biz/hotel-ohla-barcelona?hrid=yi1Xmsg9AAvocg9_G_e77A&osq=Hotels\n/biz/ac-hotel-by-marriott-sants-barcelona?osq=Hotels\n/biz/ac-hotel-by-marriott-sants-barcelona?hrid=Y-vL6C4K5UGzTI2S2P-AVg&osq=Hotels\n/biz/hotel-barcelona-catedral-barcelona?osq=Hotels\n/biz/hotel-barcelona-catedral-barcelona?hrid=ib0sVeXpHcjWISNNIJqZxw&osq=Hotels\n/biz/ayre-hotel-rosell%C3%B3n-barcelona-2?osq=Hotels\n/biz/ayre-hotel-rosell%C3%B3n-barcelona-2?hrid=pPzwHe1zYHOdPq2pKx7tNw&osq=Hotels\n/biz/hotel-sixty-two-barcelona-3?osq=Hotels\n/biz/hotel-sixty-two-barcelona-3?hrid=rNLk2kOr7FBtjEY7qDC_iQ&osq=Hotels\n/biz/h10-casanova-barcelona-2?osq=Hotels\n/biz/h10-casanova-barcelona-2?hrid=0kfu8TLt_C4lInGUuxQ8BA&osq=Hotels\n/biz/four-points-by-sheraton-barcelona-diagonal-barcelona-2?osq=Hotels\n/biz/four-points-by-sheraton-barcelona-diagonal-barcelona-2?hrid=yXiZDJJy-5NuZhh1_8QtKg&osq=Hotels\n/biz/room-mate-emma-hotel-barcelona?osq=Hotels\n/biz/room-mate-emma-hotel-barcelona?hrid=ygAB0Nvn9rHmGuOY1YI43w&osq=Hotels\n/biz/ac-hotel-by-marriott-irla-barcelona?osq=Hotels\n/biz/ac-hotel-by-marriott-irla-barcelona?hrid=ffLt_NM9KwXzn4inpd-g_w&osq=Hotels\n/biz/soho-house-barcelona?osq=Hotels\n/biz/soho-house-barcelona?hrid=-dOrVeWVp3TQUhlJRfhqMQ&osq=Hotels\n/biz/hotel-condes-de-barcelona-barcelona?osq=Hotels\n/biz/hotel-condes-de-barcelona-barcelona?hrid=jp7I-voPZMcnfforsdrIQQ&osq=Hotels\n/biz/best-western-premier-hotel-dante-barcelona?osq=Hotels\n/biz/best-western-premier-hotel-dante-barcelona?hrid=eCuIiYRqUMZelWZkCH_TuQ&osq=Hotels\n/biz/gallery-hotel-barcelona-2?osq=Hotels\n/biz/gallery-hotel-barcelona-2?hrid=TW9o97nURhss3XW90hAyeA&osq=Hotels\n/biz/praktik-rambla-barcelona?osq=Hotels\n/biz/praktik-rambla-barcelona?hrid=EPAeRVcRtXYwNCvYZjpepg&osq=Hotels\n/biz/hotel-zenit-conde-borrell-barcelona?osq=Hotels\n/biz/hotel-zenit-conde-borrell-barcelona?hrid=kAJbpjrDsbyZs65cWOK3tQ&osq=Hotels\n/biz/vincci-gala-4-barcelona-2?osq=Hotels\n/biz/vincci-gala-4-barcelona-2?hrid=S_nIAjLOVqnl5xOUJIBnbQ&osq=Hotels\n/biz/hotel-market-barcelona?osq=Hotels\n/biz/hotel-market-barcelona?hrid=5rxvE8LZNGme96jFx962Hw&osq=Hotels\n/biz/ibis-barcelona?osq=Hotels\n/biz/ibis-barcelona?hrid=8vlVrAhUCuxI5gmWcxHIHQ&osq=Hotels\n/biz/hotel-catalonia-born-barcelona-2?osq=Hotels\n/biz/hotel-catalonia-born-barcelona-2?hrid=xVUrv03qkS8O-f43ac-VUg&osq=Hotels\n/biz/hotel-advance-barcelona?osq=Hotels\n/biz/hotel-advance-barcelona?hrid=KlsuyoMH9H5LtM2q45i86w&osq=Hotels\n/biz/catalonia-sagrada-familia-barcelona?osq=Hotels\n/biz/catalonia-sagrada-familia-barcelona?hrid=bMDyKSCwJn1CHvUCMisvOQ&osq=Hotels\n/biz/eurostars-grand-marina-barcelona?osq=Hotels\n/biz/eurostars-grand-marina-barcelona?hrid=_e4JdzEqPGBfSFKaQYb_TQ&osq=Hotels\n/biz/sir-victor-hotel-barcelona-3?osq=Hotels\n/biz/sir-victor-hotel-barcelona-3?hrid=SsI9F80mtquGERD79liT7w&osq=Hotels\n/biz/andante-hotel-barcelona?osq=Hotels\n/biz/andante-hotel-barcelona?hrid=uCbSKXk-5YhPRmWt2_I4-A&osq=Hotels\n/biz/hotel-catalonia-square-barcelona?osq=Hotels\n/biz/hotel-catalonia-square-barcelona?hrid=CQBFkk2hdwZRcVS3MPKaEg&osq=Hotels\n/biz/hotel-miramar-barcelona-2?osq=Hotels\n/biz/hotel-miramar-barcelona-2?hrid=oDskaLoiAIo7IOqnt_i-Fg&osq=Hotels\n/biz/hotel-balmes-barcelona-3?osq=Hotels\n/biz/hotel-balmes-barcelona-3?hrid=_Iz_W2OqVC5qphNXEBd07Q&osq=Hotels\n/biz/hotel-brummell-barcelona?osq=Hotels\n/biz/hotel-brummell-barcelona?hrid=KUToyb2L8jE5Bn4TedXNMg&osq=Hotels\n/biz/hotel-reding-barcelona?osq=Hotels\n/biz/hotel-reding-barcelona?hrid=KObZI3bIohcmJLyXEXMxDw&osq=Hotels\n/biz/hotel-nouvel-barcelona?osq=Hotels\n/biz/hotel-nouvel-barcelona?hrid=ahcK5ILGIpISjq8vjxa18w&osq=Hotels\n/biz/hotel-espa%C3%B1a-ramblas-barcelona?osq=Hotels\n/biz/hotel-espa%C3%B1a-ramblas-barcelona?hrid=T9y4r_4f2_985M9Uup-QAA&osq=Hotels\n/biz/hotel-via-augusta-barcelona?osq=Hotels\n/biz/hotel-via-augusta-barcelona?hrid=bsbrbcV-gWBhO-CqW4Cd5Q&osq=Hotels\n/biz/novotel-barcelona-city-barcelona-2?osq=Hotels\n/biz/novotel-barcelona-city-barcelona-2?hrid=PWB-nV_SVfoionaZP7UsYQ&osq=Hotels\n/biz/vincci-bit-barcelona?osq=Hotels\n/biz/vincci-bit-barcelona?hrid=CV8snlPn0TxOdVSZvGtwfw&osq=Hotels\n/biz/gran-hotel-torre-catalunya-barcelona-2?osq=Hotels\n/biz/gran-hotel-torre-catalunya-barcelona-2?hrid=OvLRWjqlcU-UWmnrN42oCA&osq=Hotels\n/biz/gran-hotel-havana-barcelona?osq=Hotels\n/biz/gran-hotel-havana-barcelona?hrid=MVVsSHt0rgo-TlFsxY6IEg&osq=Hotels\n/biz/hotel-barcelona-1882-barcelona?osq=Hotels\n/biz/hotel-barcelona-1882-barcelona?hrid=fXoVUEidbXxxV8dNefkoCQ&osq=Hotels\n/biz/holiday-inn-express-barcelona?osq=Hotels\n/biz/holiday-inn-express-barcelona?hrid=E0u7lP7Q-STVARd1InZttQ&osq=Hotels\n/biz/hotel-nh-collection-barcelona-p%C3%B3dium-barcelona?osq=Hotels\n/biz/hotel-nh-collection-barcelona-p%C3%B3dium-barcelona?hrid=dfxkWjOP-H-ZvE_9trJMZA&osq=Hotels\n/biz/room-mate-gerard-barcelona?osq=Hotels\n/biz/room-mate-gerard-barcelona?hrid=Fuos4fNA2jRAQGSQK67svQ&osq=Hotels\n/biz/axel-barcelona?osq=Hotels\n/biz/axel-barcelona?hrid=EYSkEpg_bhilsVIwZ7VuuQ&osq=Hotels\n/biz/tryp-apolo-hotel-barcelona-2?osq=Hotels\n/biz/tryp-apolo-hotel-barcelona-2?hrid=G7IdSxoh2ADxRBjJuMhaCg&osq=Hotels\n/biz/yeah-hostel-barcelona?osq=Hotels\n/biz/yeah-hostel-barcelona?hrid=T6-fEEgdaLQiNqrxpah1gA&osq=Hotels\n/biz/hotel-curious-barcelona-2?osq=Hotels\n/biz/hotel-curious-barcelona-2?hrid=ZG3gQo6zbHdTv3WS-eKMjg&osq=Hotels\n/biz/chic-y-basic-born-barcelona-3?osq=Hotels\n/biz/chic-y-basic-born-barcelona-3?hrid=g50FX8p2Gggee-NKKKsJNg&osq=Hotels\n/biz/silken-concordia-barcelona?osq=Hotels\n/biz/silken-concordia-barcelona?hrid=IapIO-XxQA0vNpbcOtd3gg&osq=Hotels\n/biz/petit-palace-boqueria-garden-barcelona-2?osq=Hotels\n/biz/petit-palace-boqueria-garden-barcelona-2?hrid=Y0ZQF5S_6CRmaSi4-r-uWQ&osq=Hotels\n/biz/hotel-astoria-barcelona-4?osq=Hotels\n/biz/hotel-astoria-barcelona-4?hrid=GALa0N7rkB-3Hb9D73h0RQ&osq=Hotels\n/biz/praktik-garden-barcelona?osq=Hotels\n/biz/praktik-garden-barcelona?hrid=48N1R-bJE9cQiViYy_EXQA&osq=Hotels\n/biz/hotel-negresco-princess-barcelona?osq=Hotels\n/biz/hotel-negresco-princess-barcelona?hrid=eJXUNU6UQ2bmVlSuE52dCg&osq=Hotels\n/biz/hotel-catalonia-plaza-catalunya-barcelona?osq=Hotels\n/biz/hotel-catalonia-plaza-catalunya-barcelona?hrid=m131B-dvM4I1Vy_ZUxhuSw&osq=Hotels\n/biz/avenida-palace-barcelona?osq=Hotels\n/biz/avenida-palace-barcelona?hrid=eIvaW7s-qbOTS8EAIwHLmw&osq=Hotels\n",
     "output_type": "stream"
    }
   ],
   "execution_count": null
  },
  {
   "cell_type": "code",
   "metadata": {
    "tags": [],
    "cell_id": "00003-4c3eee7a-fc72-48a3-9586-7fd6c466653c",
    "deepnote_to_be_reexecuted": false,
    "source_hash": "45436e1c",
    "execution_start": 1624551371920,
    "execution_millis": 29,
    "deepnote_cell_type": "code"
   },
   "source": "\n\nclean_hello = []\nincr_sub = \"?hrid\"\n\n\nfor item in hello_list:\n    if incr_sub in item:\n        pass\n    else:\n        clean_hello.append(item)\n\n\n\nfinal_hello = [\"https://www.yelp.com\" + s for s in clean_hello]\n\nfor item in final_hello:\n    print(item)\n",
   "outputs": [
    {
     "name": "stdout",
     "text": "https://www.yelp.com/biz/hotel-cotton-house-barcelona?osq=Hotels\nhttps://www.yelp.com/biz/villa-emilia-barcelona-2?osq=Hotels\nhttps://www.yelp.com/biz/alma-barcelona-barcelona?osq=Hotels\nhttps://www.yelp.com/biz/hotel-1898-barcelona?osq=Hotels\nhttps://www.yelp.com/biz/the-serras-barcelona?osq=Hotels\nhttps://www.yelp.com/biz/barcel%C3%B3-raval-barcelona?osq=Hotels\nhttps://www.yelp.com/biz/olivia-balmes-barcelona?osq=Hotels\nhttps://www.yelp.com/biz/casa-fuster-barcelona?osq=Hotels\nhttps://www.yelp.com/biz/hotel-duquesa-de-cardona-barcelona-2?osq=Hotels\nhttps://www.yelp.com/biz/hotel-arts-barcelona-barcelona?osq=Hotels\nhttps://www.yelp.com/biz/el-palace-barcelona?osq=Hotels\nhttps://www.yelp.com/biz/hotel-europark-barcelona?osq=Hotels\nhttps://www.yelp.com/biz/the-corner-hotel-barcelona?osq=Hotels\nhttps://www.yelp.com/biz/le-m%C3%A9ridien-barcelona-barcelona-7?osq=Hotels\nhttps://www.yelp.com/biz/hotel-u232-barcelona-2?osq=Hotels\nhttps://www.yelp.com/biz/hotel-crowne-plaza-fira-center-barcelona?osq=Hotels\nhttps://www.yelp.com/biz/w-barcelona-barcelona?osq=Hotels\nhttps://www.yelp.com/biz/h10-casa-mimosa-barcelona-12?osq=Hotels\nhttps://www.yelp.com/biz/room-mate-carla-hotel-barcelona?osq=Hotels\nhttps://www.yelp.com/biz/h10-madison-barcelona-2?osq=Hotels\nhttps://www.yelp.com/biz/do-barcelona?osq=Hotels\nhttps://www.yelp.com/biz/pulitzer-barcelona-barcelona?osq=Hotels\nhttps://www.yelp.com/biz/hotel-majestic-barcelona-5?osq=Hotels\nhttps://www.yelp.com/biz/renaissance-barcelona-hotel-barcelona-2?osq=Hotels\nhttps://www.yelp.com/biz/hotel-barcelona-universal-barcelona-2?osq=Hotels\nhttps://www.yelp.com/biz/claris-barcelona-3?osq=Hotels\nhttps://www.yelp.com/biz/grand-hotel-central-barcelona?osq=Hotels\nhttps://www.yelp.com/biz/wilson-barcelona?osq=Hotels\nhttps://www.yelp.com/biz/casa-bonay-barcelona?osq=Hotels\nhttps://www.yelp.com/biz/renaissance-barcelona-fira-hotel-barcelona?osq=Hotels\nhttps://www.yelp.com/biz/hotel-praktik-barcelona-3?osq=Hotels\nhttps://www.yelp.com/biz/hotel-porta-fira-hospitalet-de-llobregat?osq=Hotels\nhttps://www.yelp.com/biz/hotel-col%C3%B3n-barcelona-4?osq=Hotels\nhttps://www.yelp.com/biz/hotel-jazz-barcelona?osq=Hotels\nhttps://www.yelp.com/biz/b-hotel-barcelona?osq=Hotels\nhttps://www.yelp.com/biz/hotel-catalonia-catedral-barcelona?osq=Hotels\nhttps://www.yelp.com/biz/arai-aparthotel-barcelona?osq=Hotels\nhttps://www.yelp.com/biz/hotel-bagu%C3%A9s-barcelona-3?osq=Hotels\nhttps://www.yelp.com/biz/k-k-hotel-picasso-barcelona-barcelona?osq=Hotels\nhttps://www.yelp.com/biz/the-barcelona-edition-barcelona?osq=Hotels\nhttps://www.yelp.com/biz/hotel-mercer-barcelona?osq=Hotels\nhttps://www.yelp.com/biz/hotel-murmuri-barcelona-2?osq=Hotels\nhttps://www.yelp.com/biz/banys-oriental-barcelona?osq=Hotels\nhttps://www.yelp.com/biz/hostal-grau-barcelona-barcelona?osq=Hotels\nhttps://www.yelp.com/biz/aparthotel-silver-barcelona?osq=Hotels\nhttps://www.yelp.com/biz/room-mate-anna-hotel-barcelona?osq=Hotels\nhttps://www.yelp.com/biz/two-hotel-barcelona-2?osq=Hotels\nhttps://www.yelp.com/biz/almanac-barcelona?osq=Hotels\nhttps://www.yelp.com/biz/hotel-sofia-barcelona?osq=Hotels\nhttps://www.yelp.com/biz/alexandra-barcelona-hotel-barcelona?osq=Hotels\nhttps://www.yelp.com/biz/hotel-nh-collection-barcelona-gran-hotel-calder%C3%B3n-barcelona-2?osq=Hotels\nhttps://www.yelp.com/biz/mandarin-oriental-barcelona?osq=Hotels\nhttps://www.yelp.com/biz/neri-barcelona?osq=Hotels\nhttps://www.yelp.com/biz/hotel-continental-barcelona-barcelona?osq=Hotels\nhttps://www.yelp.com/biz/royal-ramblas-hotel-barcelona?osq=Hotels\nhttps://www.yelp.com/biz/the-wittmore-barcelona?osq=Hotels\nhttps://www.yelp.com/biz/hilton-barcelona-hotel-barcelona-4?osq=Hotels\nhttps://www.yelp.com/biz/barcel%C3%B3-sants-barcelona?osq=Hotels\nhttps://www.yelp.com/biz/the-mirror-hotel-barcelona-2?osq=Hotels\nhttps://www.yelp.com/biz/hotel-ayre-roselon-barcelona?osq=Hotels\nhttps://www.yelp.com/biz/hotel-musik-boutique-barcelona?osq=Hotels\nhttps://www.yelp.com/biz/acevi-villarroel-barcelona?osq=Hotels\nhttps://www.yelp.com/biz/hotel-h10-barcelona?osq=Hotels\nhttps://www.yelp.com/biz/hotel-cram-barcelona?osq=Hotels\nhttps://www.yelp.com/biz/yurbban-passage-barcelona?osq=Hotels\nhttps://www.yelp.com/biz/yurbban-trafalgar-barcelona?osq=Hotels\nhttps://www.yelp.com/biz/pullman-barcelona?osq=Hotels\nhttps://www.yelp.com/biz/hesperia-presidente-barcelona?osq=Hotels\nhttps://www.yelp.com/biz/hotel-ohla-barcelona?osq=Hotels\nhttps://www.yelp.com/biz/ac-hotel-by-marriott-sants-barcelona?osq=Hotels\nhttps://www.yelp.com/biz/hotel-barcelona-catedral-barcelona?osq=Hotels\nhttps://www.yelp.com/biz/ayre-hotel-rosell%C3%B3n-barcelona-2?osq=Hotels\nhttps://www.yelp.com/biz/hotel-sixty-two-barcelona-3?osq=Hotels\nhttps://www.yelp.com/biz/h10-casanova-barcelona-2?osq=Hotels\nhttps://www.yelp.com/biz/four-points-by-sheraton-barcelona-diagonal-barcelona-2?osq=Hotels\nhttps://www.yelp.com/biz/room-mate-emma-hotel-barcelona?osq=Hotels\nhttps://www.yelp.com/biz/ac-hotel-by-marriott-irla-barcelona?osq=Hotels\nhttps://www.yelp.com/biz/soho-house-barcelona?osq=Hotels\nhttps://www.yelp.com/biz/hotel-condes-de-barcelona-barcelona?osq=Hotels\nhttps://www.yelp.com/biz/best-western-premier-hotel-dante-barcelona?osq=Hotels\nhttps://www.yelp.com/biz/gallery-hotel-barcelona-2?osq=Hotels\nhttps://www.yelp.com/biz/praktik-rambla-barcelona?osq=Hotels\nhttps://www.yelp.com/biz/hotel-zenit-conde-borrell-barcelona?osq=Hotels\nhttps://www.yelp.com/biz/vincci-gala-4-barcelona-2?osq=Hotels\nhttps://www.yelp.com/biz/hotel-market-barcelona?osq=Hotels\nhttps://www.yelp.com/biz/ibis-barcelona?osq=Hotels\nhttps://www.yelp.com/biz/hotel-catalonia-born-barcelona-2?osq=Hotels\nhttps://www.yelp.com/biz/hotel-advance-barcelona?osq=Hotels\nhttps://www.yelp.com/biz/catalonia-sagrada-familia-barcelona?osq=Hotels\nhttps://www.yelp.com/biz/eurostars-grand-marina-barcelona?osq=Hotels\nhttps://www.yelp.com/biz/sir-victor-hotel-barcelona-3?osq=Hotels\nhttps://www.yelp.com/biz/andante-hotel-barcelona?osq=Hotels\nhttps://www.yelp.com/biz/hotel-catalonia-square-barcelona?osq=Hotels\nhttps://www.yelp.com/biz/hotel-miramar-barcelona-2?osq=Hotels\nhttps://www.yelp.com/biz/hotel-balmes-barcelona-3?osq=Hotels\nhttps://www.yelp.com/biz/hotel-brummell-barcelona?osq=Hotels\nhttps://www.yelp.com/biz/hotel-reding-barcelona?osq=Hotels\nhttps://www.yelp.com/biz/hotel-nouvel-barcelona?osq=Hotels\nhttps://www.yelp.com/biz/hotel-espa%C3%B1a-ramblas-barcelona?osq=Hotels\nhttps://www.yelp.com/biz/hotel-via-augusta-barcelona?osq=Hotels\nhttps://www.yelp.com/biz/novotel-barcelona-city-barcelona-2?osq=Hotels\nhttps://www.yelp.com/biz/vincci-bit-barcelona?osq=Hotels\nhttps://www.yelp.com/biz/gran-hotel-torre-catalunya-barcelona-2?osq=Hotels\nhttps://www.yelp.com/biz/gran-hotel-havana-barcelona?osq=Hotels\nhttps://www.yelp.com/biz/hotel-barcelona-1882-barcelona?osq=Hotels\nhttps://www.yelp.com/biz/holiday-inn-express-barcelona?osq=Hotels\nhttps://www.yelp.com/biz/hotel-nh-collection-barcelona-p%C3%B3dium-barcelona?osq=Hotels\nhttps://www.yelp.com/biz/room-mate-gerard-barcelona?osq=Hotels\nhttps://www.yelp.com/biz/axel-barcelona?osq=Hotels\nhttps://www.yelp.com/biz/tryp-apolo-hotel-barcelona-2?osq=Hotels\nhttps://www.yelp.com/biz/yeah-hostel-barcelona?osq=Hotels\nhttps://www.yelp.com/biz/hotel-curious-barcelona-2?osq=Hotels\nhttps://www.yelp.com/biz/chic-y-basic-born-barcelona-3?osq=Hotels\nhttps://www.yelp.com/biz/silken-concordia-barcelona?osq=Hotels\nhttps://www.yelp.com/biz/petit-palace-boqueria-garden-barcelona-2?osq=Hotels\nhttps://www.yelp.com/biz/hotel-astoria-barcelona-4?osq=Hotels\nhttps://www.yelp.com/biz/praktik-garden-barcelona?osq=Hotels\nhttps://www.yelp.com/biz/hotel-negresco-princess-barcelona?osq=Hotels\nhttps://www.yelp.com/biz/hotel-catalonia-plaza-catalunya-barcelona?osq=Hotels\nhttps://www.yelp.com/biz/avenida-palace-barcelona?osq=Hotels\n",
     "output_type": "stream"
    }
   ],
   "execution_count": null
  },
  {
   "cell_type": "code",
   "metadata": {
    "tags": [],
    "cell_id": "00004-e135d0b4-2edd-46a9-8da8-16e4b17b58ca",
    "deepnote_to_be_reexecuted": false,
    "source_hash": "f383bfb1",
    "execution_start": 1624551371969,
    "execution_millis": 1428069,
    "deepnote_cell_type": "code"
   },
   "source": "hotel_list = []\n\nfor link in final_hello:\n\n    sleep(randint(8,13))\n    r = requests.get(link, headers=headers)\n\n    soup = BeautifulSoup(r.content, 'lxml')    \n\n    try:\n        hotel_name = soup.find(\"h1\", class_= \"css-11q1g5y\").text.strip()\n    except:\n        hotel_name = \"na\"\n\n    try:    \n        hotel_address = soup.find(\"p\", class_= \"css-1bmgof7\").text.strip()\n    except:\n        hotel_address = \"na\"\n\n    try:\n        hotel_postcode = soup.find(\"p\", class_= \"css-znumc2\").text.strip()\n    except:\n        hotel_postcode = \"na\"\n\n    \n    try:\n        hotel_strreviews = soup.find(\"span\", class_= \"css-bq71j2\").text.strip()\n\n        hotel_reviewslist = [int(s) for s in hotel_strreviews.split() if s.isdigit()]\n\n  \n        hotel_reviews = hotel_reviewslist[0]\n    except:\n        hotel_reviews = \"na\"    \n\n    try:\n        stars = soup.find(\"div\", class_=\"i-stars__373c0__1T6rz i-stars--large-5__373c0__1GcGD border-color--default__373c0__30oMI overflow--hidden__373c0__2B0kz\")  \n        hotel_stars = stars[\"aria-label\"]\n        hotel_ratings_list = hotel_stars.split(\"star\")\n        hotel_rating = float(hotel_ratings_list[0])\n    except:\n        print(\"no 5 rating found\")\n        try:\n            stars = soup.find(\"div\", class_=\"i-stars__373c0__1T6rz i-stars--large-4-half__373c0__2lYkD border-color--default__373c0__30oMI overflow--hidden__373c0__2B0kz\")\n            hotel_stars = stars[\"aria-label\"]\n            hotel_ratings_list = hotel_stars.split(\"star\")\n            hotel_rating = float(hotel_ratings_list[0])\n        except:\n            print(\"no 4.5 rating found\")\n            try:\n                stars = soup.find(\"div\", class_=\"i-stars__373c0__1T6rz i-stars--large-4__373c0__1d6HV border-color--default__373c0__30oMI overflow--hidden__373c0__2B0kz\")\n                hotel_stars = stars[\"aria-label\"]\n                hotel_ratings_list = hotel_stars.split(\"star\")\n                hotel_rating = float(hotel_ratings_list[0])\n            except:\n                print(\"no 4 rating found\")     \n                try:\n                    stars = soup.find(\"div\", class_=\"i-stars__373c0__1T6rz i-stars--large-3-half__373c0__2z4jR border-color--default__373c0__30oMI overflow--hidden__373c0__2B0kz\")\n                    hotel_stars = stars[\"aria-label\"]\n                    hotel_ratings_list = hotel_stars.split(\"star\")\n                    hotel_rating = float(hotel_ratings_list[0])\n                except:\n                    print(\"no 3.5 rating found\")\n                    try:\n                        stars = soup.find(\"div\", class_=\"i-stars__373c0__1T6rz i-stars--large-3__373c0__3_Jon border-color--default__373c0__30oMI overflow--hidden__373c0__2B0kz\")\n                        hotel_stars = stars[\"aria-label\"]\n                        hotel_ratings_list = hotel_stars.split(\"star\")\n                        hotel_rating = float(hotel_ratings_list[0])\n                    except:\n                        print(\"no 3 rating found\")\n\n\n\n    try:\n        price_symrange =  str(soup.find_all(\"span\", class_= \"css-1xxismk\"))\n\n        price_listrange = re.findall(\"€\", price_symrange)\n\n        price_range = \"null\"\n\n\n\n        if len(price_listrange) == 1:\n            price_range = \"Low\"\n        elif len(price_listrange) == 2:\n            price_range = \"Medium-Low\"\n        elif len(price_listrange) == 3:\n            price_range = \"Medium-High\"\n        elif len(price_listrange) == 4:\n            price_range = \"High\"\n        else:\n            pass\n    except:\n        price_range = \"na\"\n\n \n\n\n    try:\n        amenities = soup.find(\"div\", class_= \"arrange__373c0__UHqhV gutter-2__373c0__3Zpeq layout-wrap__373c0__34d4b layout-2-units__373c0__3CiAk border-color--default__373c0__2oFDT\").text\n        \n        hotel_amenities = re.sub(r\"(\\w)([A-Z])\", r\"\\1 \\2\", amenities)\n    except:\n        hotel_amenities = \"na\"\n    \n    \n    \n    hotels = {\n    'name' : hotel_name,\n    'reviews' : hotel_reviews,\n    'rating' : hotel_rating,\n    'address' : hotel_address,\n    'postcode' : hotel_postcode,\n    'price range' : price_range,\n    'amenities' : hotel_amenities\n    }\n    hotel_list.append(hotels)\n\n\n",
   "outputs": [
    {
     "name": "stdout",
     "text": "no 5 rating found\nno 5 rating found\nno 4.5 rating found\nno 4 rating found\nno 3.5 rating found\nno 3 rating found\nno 5 rating found\nno 5 rating found\nno 5 rating found\nno 5 rating found\nno 5 rating found\nno 5 rating found\nno 4.5 rating found\nno 4 rating found\nno 3.5 rating found\nno 3 rating found\nno 5 rating found\nno 4.5 rating found\nno 5 rating found\nno 5 rating found\nno 4.5 rating found\nno 4 rating found\nno 3.5 rating found\nno 3 rating found\nno 5 rating found\nno 5 rating found\nno 4.5 rating found\nno 5 rating found\nno 4.5 rating found\nno 4 rating found\nno 3.5 rating found\nno 3 rating found\nno 5 rating found\nno 5 rating found\nno 4.5 rating found\nno 5 rating found\nno 5 rating found\nno 5 rating found\nno 5 rating found\nno 4.5 rating found\nno 5 rating found\nno 4.5 rating found\nno 5 rating found\nno 4.5 rating found\nno 5 rating found\nno 4.5 rating found\nno 5 rating found\nno 4.5 rating found\nno 5 rating found\nno 4.5 rating found\nno 4 rating found\nno 3.5 rating found\nno 3 rating found\nno 5 rating found\nno 5 rating found\nno 4.5 rating found\nno 4 rating found\nno 3.5 rating found\nno 3 rating found\nno 5 rating found\nno 5 rating found\nno 4.5 rating found\nno 5 rating found\nno 4.5 rating found\nno 5 rating found\nno 5 rating found\nno 5 rating found\nno 4.5 rating found\nno 4 rating found\nno 3.5 rating found\nno 3 rating found\nno 5 rating found\nno 4.5 rating found\nno 4 rating found\nno 3.5 rating found\nno 3 rating found\nno 5 rating found\nno 4.5 rating found\nno 5 rating found\nno 4.5 rating found\nno 4 rating found\nno 3.5 rating found\nno 3 rating found\nno 5 rating found\nno 5 rating found\nno 5 rating found\nno 5 rating found\nno 4.5 rating found\nno 4 rating found\nno 3.5 rating found\nno 3 rating found\nno 5 rating found\nno 5 rating found\nno 5 rating found\nno 4.5 rating found\nno 4 rating found\nno 3.5 rating found\nno 3 rating found\nno 5 rating found\nno 4.5 rating found\nno 5 rating found\nno 4.5 rating found\nno 5 rating found\nno 4.5 rating found\nno 4 rating found\nno 5 rating found\nno 4.5 rating found\nno 5 rating found\nno 4.5 rating found\nno 4 rating found\nno 3.5 rating found\nno 3 rating found\nno 5 rating found\nno 4.5 rating found\nno 5 rating found\nno 5 rating found\nno 4.5 rating found\nno 4 rating found\nno 5 rating found\nno 4.5 rating found\nno 5 rating found\nno 4.5 rating found\nno 5 rating found\nno 5 rating found\nno 5 rating found\nno 5 rating found\nno 5 rating found\nno 5 rating found\nno 4.5 rating found\nno 5 rating found\nno 4.5 rating found\nno 4 rating found\nno 3.5 rating found\nno 3 rating found\nno 5 rating found\nno 4.5 rating found\nno 5 rating found\nno 4.5 rating found\nno 5 rating found\nno 4.5 rating found\nno 5 rating found\nno 5 rating found\nno 5 rating found\nno 4.5 rating found\nno 5 rating found\nno 4.5 rating found\nno 5 rating found\nno 4.5 rating found\nno 4 rating found\nno 5 rating found\nno 4.5 rating found\n",
     "output_type": "stream"
    },
    {
     "output_type": "error",
     "ename": "KernelInterrupted",
     "evalue": "Execution interrupted by the Jupyter kernel.",
     "traceback": [
      "\u001b[0;31m---------------------------------------------------------------------------\u001b[0m",
      "\u001b[0;31mKernelInterrupted\u001b[0m: Execution interrupted by the Jupyter kernel."
     ]
    }
   ],
   "execution_count": null
  },
  {
   "cell_type": "code",
   "metadata": {
    "tags": [],
    "cell_id": "00006-49e7ccde-a6ab-4657-9e5f-ff27d6c86c33",
    "deepnote_to_be_reexecuted": true,
    "source_hash": "a6937a92",
    "execution_start": 1624540207590,
    "execution_millis": 15,
    "deepnote_cell_type": "code"
   },
   "source": "hot_df = pd.DataFrame(hotel_list)\n\nprint(hot_df)",
   "outputs": [
    {
     "name": "stdout",
     "text": "                                name reviews  rating  \\\n0                 Hotel Cotton House      49     4.5   \n1                       Villa Emilia      25     5.0   \n2                     Alma Barcelona      28     4.5   \n3                         Hotel 1898      77     4.5   \n4                         The Serras      14     5.0   \n..                               ...     ...     ...   \n115                       ABaC Hotel       4     5.0   \n116                    Hotel Astoria       8     4.0   \n117                   Praktik Garden      13     3.5   \n118          Hotel Negresco Princess      11     3.5   \n119  Hotel Catalonia Plaza Catalunya       5     4.5   \n\n                                  address         postcode  price range  \\\n0    Gran Via de les Corts Catalanes, 670  08010 Barcelona  Medium-High   \n1                 Carrer de Calàbria, 115  08015 Barcelona   Medium-Low   \n2                 Carrer de Mallorca, 271  08008 Barcelona  Medium-High   \n3                          La Rambla, 109  08002 Barcelona  Medium-High   \n4                     Passeig de Colom, 9  08002 Barcelona         High   \n..                                    ...              ...          ...   \n115              Avinguda del Tibidabo, 1  08022 Barcelona         High   \n116                     Carrer Paris, 203  08036 Barcelona  Medium-High   \n117           Carrer de la Diputació, 325  08009 Barcelona   Medium-Low   \n118         Carrer de Roger de Llúria, 14  08010 Barcelona  Medium-High   \n119                 Carrer de Bergara, 11  08002 Barcelona   Medium-Low   \n\n                                            amenities  \n0                     Accepts Credit Cards Free Wi-Fi  \n1        Accepts Credit Cards Free Wi-Fi Dogs Allowed  \n2                     Accepts Credit Cards Free Wi-Fi  \n3    Accepts Credit Cards Free Wi-Fi Dogs Not Allowed  \n4    Accepts Credit Cards Free Wi-Fi Dogs Not Allowed  \n..                                                ...  \n115                   Accepts Credit Cards Free Wi-Fi  \n116      Accepts Credit Cards Free Wi-Fi Dogs Allowed  \n117                   Accepts Credit Cards Free Wi-Fi  \n118                   Accepts Credit Cards Free Wi-Fi  \n119                   Accepts Credit Cards Free Wi-Fi  \n\n[120 rows x 7 columns]\n",
     "output_type": "stream"
    }
   ],
   "execution_count": null
  },
  {
   "cell_type": "markdown",
   "source": "## data analysis &amp; cleaning",
   "metadata": {
    "tags": [],
    "cell_id": "00008-a125f405-f6d9-458a-8df4-85735e3efe73",
    "deepnote_cell_type": "text-cell-h2"
   }
  },
  {
   "cell_type": "code",
   "metadata": {
    "tags": [],
    "cell_id": "00007-a8be5ae9-e21d-4902-95c6-a16be32aa82f",
    "deepnote_to_be_reexecuted": true,
    "source_hash": "b5f2be3d",
    "execution_start": 1624540207608,
    "execution_millis": 161,
    "deepnote_cell_type": "code"
   },
   "source": "df = pd.read_csv('hotels.csv')\ndf.head()",
   "outputs": [
    {
     "output_type": "execute_result",
     "execution_count": 7,
     "data": {
      "application/vnd.deepnote.dataframe.v2+json": {
       "row_count": 5,
       "column_count": 7,
       "columns": [
        {
         "name": "name",
         "dtype": "object",
         "stats": {
          "unique_count": 5,
          "nan_count": 0,
          "categories": [
           {
            "name": "Hotel Cotton House",
            "count": 1
           },
           {
            "name": "Villa Emilia",
            "count": 1
           },
           {
            "name": "3 others",
            "count": 3
           }
          ]
         }
        },
        {
         "name": "reviews",
         "dtype": "object",
         "stats": {
          "unique_count": 5,
          "nan_count": 0,
          "categories": [
           {
            "name": "49",
            "count": 1
           },
           {
            "name": "25",
            "count": 1
           },
           {
            "name": "3 others",
            "count": 3
           }
          ]
         }
        },
        {
         "name": "rating",
         "dtype": "float64",
         "stats": {
          "unique_count": 2,
          "nan_count": 0,
          "min": "4.5",
          "max": "5.0",
          "histogram": [
           {
            "bin_start": 4.5,
            "bin_end": 4.55,
            "count": 3
           },
           {
            "bin_start": 4.55,
            "bin_end": 4.6,
            "count": 0
           },
           {
            "bin_start": 4.6,
            "bin_end": 4.65,
            "count": 0
           },
           {
            "bin_start": 4.65,
            "bin_end": 4.7,
            "count": 0
           },
           {
            "bin_start": 4.7,
            "bin_end": 4.75,
            "count": 0
           },
           {
            "bin_start": 4.75,
            "bin_end": 4.8,
            "count": 0
           },
           {
            "bin_start": 4.8,
            "bin_end": 4.85,
            "count": 0
           },
           {
            "bin_start": 4.85,
            "bin_end": 4.9,
            "count": 0
           },
           {
            "bin_start": 4.9,
            "bin_end": 4.95,
            "count": 0
           },
           {
            "bin_start": 4.95,
            "bin_end": 5,
            "count": 2
           }
          ]
         }
        },
        {
         "name": "address",
         "dtype": "object",
         "stats": {
          "unique_count": 5,
          "nan_count": 0,
          "categories": [
           {
            "name": "Gran Via de les Corts Catalanes, 670",
            "count": 1
           },
           {
            "name": "Carrer de Calàbria, 115",
            "count": 1
           },
           {
            "name": "3 others",
            "count": 3
           }
          ]
         }
        },
        {
         "name": "postcode",
         "dtype": "object",
         "stats": {
          "unique_count": 4,
          "nan_count": 0,
          "categories": [
           {
            "name": "08002 Barcelona",
            "count": 2
           },
           {
            "name": "08010 Barcelona",
            "count": 1
           },
           {
            "name": "2 others",
            "count": 2
           }
          ]
         }
        },
        {
         "name": "price range",
         "dtype": "object",
         "stats": {
          "unique_count": 3,
          "nan_count": 0,
          "categories": [
           {
            "name": "Medium-High",
            "count": 3
           },
           {
            "name": "Medium-Low",
            "count": 1
           },
           {
            "name": "High",
            "count": 1
           }
          ]
         }
        },
        {
         "name": "amenities",
         "dtype": "object",
         "stats": {
          "unique_count": 3,
          "nan_count": 0,
          "categories": [
           {
            "name": "Accepts Credit Cards Free Wi-Fi",
            "count": 2
           },
           {
            "name": "Accepts Credit Cards Free Wi-Fi Dogs Not Allowed",
            "count": 2
           },
           {
            "name": "Accepts Credit Cards Free Wi-Fi Dogs Allowed",
            "count": 1
           }
          ]
         }
        },
        {
         "name": "_deepnote_index_column",
         "dtype": "int64"
        }
       ],
       "rows_top": [
        {
         "name": "Hotel Cotton House",
         "reviews": "49",
         "rating": 4.5,
         "address": "Gran Via de les Corts Catalanes, 670",
         "postcode": "08010 Barcelona",
         "price range": "Medium-High",
         "amenities": "Accepts Credit Cards Free Wi-Fi",
         "_deepnote_index_column": 0
        },
        {
         "name": "Villa Emilia",
         "reviews": "25",
         "rating": 5,
         "address": "Carrer de Calàbria, 115",
         "postcode": "08015 Barcelona",
         "price range": "Medium-Low",
         "amenities": "Accepts Credit Cards Free Wi-Fi Dogs Allowed",
         "_deepnote_index_column": 1
        },
        {
         "name": "Alma Barcelona",
         "reviews": "28",
         "rating": 4.5,
         "address": "Carrer de Mallorca, 271",
         "postcode": "08008 Barcelona",
         "price range": "Medium-High",
         "amenities": "Accepts Credit Cards Free Wi-Fi",
         "_deepnote_index_column": 2
        },
        {
         "name": "Hotel 1898",
         "reviews": "77",
         "rating": 4.5,
         "address": "La Rambla, 109",
         "postcode": "08002 Barcelona",
         "price range": "Medium-High",
         "amenities": "Accepts Credit Cards Free Wi-Fi Dogs Not Allowed",
         "_deepnote_index_column": 3
        },
        {
         "name": "The Serras",
         "reviews": "14",
         "rating": 5,
         "address": "Passeig de Colom, 9",
         "postcode": "08002 Barcelona",
         "price range": "High",
         "amenities": "Accepts Credit Cards Free Wi-Fi Dogs Not Allowed",
         "_deepnote_index_column": 4
        }
       ],
       "rows_bottom": null
      },
      "text/plain": "                 name reviews  rating                               address  \\\n0  Hotel Cotton House      49     4.5  Gran Via de les Corts Catalanes, 670   \n1        Villa Emilia      25     5.0               Carrer de Calàbria, 115   \n2      Alma Barcelona      28     4.5               Carrer de Mallorca, 271   \n3          Hotel 1898      77     4.5                        La Rambla, 109   \n4          The Serras      14     5.0                   Passeig de Colom, 9   \n\n          postcode  price range  \\\n0  08010 Barcelona  Medium-High   \n1  08015 Barcelona   Medium-Low   \n2  08008 Barcelona  Medium-High   \n3  08002 Barcelona  Medium-High   \n4  08002 Barcelona         High   \n\n                                          amenities  \n0                   Accepts Credit Cards Free Wi-Fi  \n1      Accepts Credit Cards Free Wi-Fi Dogs Allowed  \n2                   Accepts Credit Cards Free Wi-Fi  \n3  Accepts Credit Cards Free Wi-Fi Dogs Not Allowed  \n4  Accepts Credit Cards Free Wi-Fi Dogs Not Allowed  ",
      "text/html": "<div>\n<style scoped>\n    .dataframe tbody tr th:only-of-type {\n        vertical-align: middle;\n    }\n\n    .dataframe tbody tr th {\n        vertical-align: top;\n    }\n\n    .dataframe thead th {\n        text-align: right;\n    }\n</style>\n<table border=\"1\" class=\"dataframe\">\n  <thead>\n    <tr style=\"text-align: right;\">\n      <th></th>\n      <th>name</th>\n      <th>reviews</th>\n      <th>rating</th>\n      <th>address</th>\n      <th>postcode</th>\n      <th>price range</th>\n      <th>amenities</th>\n    </tr>\n  </thead>\n  <tbody>\n    <tr>\n      <th>0</th>\n      <td>Hotel Cotton House</td>\n      <td>49</td>\n      <td>4.5</td>\n      <td>Gran Via de les Corts Catalanes, 670</td>\n      <td>08010 Barcelona</td>\n      <td>Medium-High</td>\n      <td>Accepts Credit Cards Free Wi-Fi</td>\n    </tr>\n    <tr>\n      <th>1</th>\n      <td>Villa Emilia</td>\n      <td>25</td>\n      <td>5.0</td>\n      <td>Carrer de Calàbria, 115</td>\n      <td>08015 Barcelona</td>\n      <td>Medium-Low</td>\n      <td>Accepts Credit Cards Free Wi-Fi Dogs Allowed</td>\n    </tr>\n    <tr>\n      <th>2</th>\n      <td>Alma Barcelona</td>\n      <td>28</td>\n      <td>4.5</td>\n      <td>Carrer de Mallorca, 271</td>\n      <td>08008 Barcelona</td>\n      <td>Medium-High</td>\n      <td>Accepts Credit Cards Free Wi-Fi</td>\n    </tr>\n    <tr>\n      <th>3</th>\n      <td>Hotel 1898</td>\n      <td>77</td>\n      <td>4.5</td>\n      <td>La Rambla, 109</td>\n      <td>08002 Barcelona</td>\n      <td>Medium-High</td>\n      <td>Accepts Credit Cards Free Wi-Fi Dogs Not Allowed</td>\n    </tr>\n    <tr>\n      <th>4</th>\n      <td>The Serras</td>\n      <td>14</td>\n      <td>5.0</td>\n      <td>Passeig de Colom, 9</td>\n      <td>08002 Barcelona</td>\n      <td>High</td>\n      <td>Accepts Credit Cards Free Wi-Fi Dogs Not Allowed</td>\n    </tr>\n  </tbody>\n</table>\n</div>"
     },
     "metadata": {}
    }
   ],
   "execution_count": null
  },
  {
   "cell_type": "code",
   "metadata": {
    "tags": [],
    "cell_id": "00010-79a6871e-a42f-427e-841a-96bff498fd8d",
    "deepnote_to_be_reexecuted": true,
    "source_hash": "2269eb60",
    "execution_start": 1624540207809,
    "execution_millis": 13,
    "deepnote_cell_type": "code"
   },
   "source": "df[df['price range'].isna()]\n",
   "outputs": [
    {
     "output_type": "execute_result",
     "execution_count": 8,
     "data": {
      "application/vnd.deepnote.dataframe.v2+json": {
       "row_count": 6,
       "column_count": 7,
       "columns": [
        {
         "name": "name",
         "dtype": "object",
         "stats": {
          "unique_count": 6,
          "nan_count": 0,
          "categories": [
           {
            "name": "Almanac",
            "count": 1
           },
           {
            "name": "Hotel Sofia",
            "count": 1
           },
           {
            "name": "4 others",
            "count": 4
           }
          ]
         }
        },
        {
         "name": "reviews",
         "dtype": "object",
         "stats": {
          "unique_count": 5,
          "nan_count": 0,
          "categories": [
           {
            "name": "7",
            "count": 2
           },
           {
            "name": "6",
            "count": 1
           },
           {
            "name": "3 others",
            "count": 3
           }
          ]
         }
        },
        {
         "name": "rating",
         "dtype": "float64",
         "stats": {
          "unique_count": 2,
          "nan_count": 0,
          "min": "4.5",
          "max": "5.0",
          "histogram": [
           {
            "bin_start": 4.5,
            "bin_end": 4.55,
            "count": 2
           },
           {
            "bin_start": 4.55,
            "bin_end": 4.6,
            "count": 0
           },
           {
            "bin_start": 4.6,
            "bin_end": 4.65,
            "count": 0
           },
           {
            "bin_start": 4.65,
            "bin_end": 4.7,
            "count": 0
           },
           {
            "bin_start": 4.7,
            "bin_end": 4.75,
            "count": 0
           },
           {
            "bin_start": 4.75,
            "bin_end": 4.8,
            "count": 0
           },
           {
            "bin_start": 4.8,
            "bin_end": 4.85,
            "count": 0
           },
           {
            "bin_start": 4.85,
            "bin_end": 4.9,
            "count": 0
           },
           {
            "bin_start": 4.9,
            "bin_end": 4.95,
            "count": 0
           },
           {
            "bin_start": 4.95,
            "bin_end": 5,
            "count": 4
           }
          ]
         }
        },
        {
         "name": "address",
         "dtype": "object",
         "stats": {
          "unique_count": 6,
          "nan_count": 0,
          "categories": [
           {
            "name": "Gran Via de les Corts Catalanes, 619",
            "count": 1
           },
           {
            "name": "Plaça de Pius XII, 4",
            "count": 1
           },
           {
            "name": "4 others",
            "count": 4
           }
          ]
         }
        },
        {
         "name": "postcode",
         "dtype": "object",
         "stats": {
          "unique_count": 6,
          "nan_count": 0,
          "categories": [
           {
            "name": "08007 Barcelona",
            "count": 1
           },
           {
            "name": "08028 Barcelona",
            "count": 1
           },
           {
            "name": "4 others",
            "count": 4
           }
          ]
         }
        },
        {
         "name": "price range",
         "dtype": "object",
         "stats": {
          "unique_count": 0,
          "nan_count": 6,
          "categories": [
           {
            "name": "Missing",
            "count": 6
           }
          ]
         }
        },
        {
         "name": "amenities",
         "dtype": "object",
         "stats": {
          "unique_count": 2,
          "nan_count": 0,
          "categories": [
           {
            "name": "na",
            "count": 4
           },
           {
            "name": "Accepts Credit Cards Free Wi-Fi",
            "count": 2
           }
          ]
         }
        },
        {
         "name": "_deepnote_index_column",
         "dtype": "int64"
        }
       ],
       "rows_top": [
        {
         "name": "Almanac",
         "reviews": "7",
         "rating": 5,
         "address": "Gran Via de les Corts Catalanes, 619",
         "postcode": "08007 Barcelona",
         "price range": "nan",
         "amenities": "Accepts Credit Cards Free Wi-Fi",
         "_deepnote_index_column": 37
        },
        {
         "name": "Hotel Sofia",
         "reviews": "6",
         "rating": 5,
         "address": "Plaça de Pius XII, 4",
         "postcode": "08028 Barcelona",
         "price range": "nan",
         "amenities": "na",
         "_deepnote_index_column": 38
        },
        {
         "name": "Yurbban Passage",
         "reviews": "9",
         "rating": 4.5,
         "address": "Carrer de Trafalgar, 26",
         "postcode": "08003 Barcelona",
         "price range": "nan",
         "amenities": "Accepts Credit Cards Free Wi-Fi",
         "_deepnote_index_column": 55
        },
        {
         "name": "na",
         "reviews": "na",
         "rating": 5,
         "address": "na",
         "postcode": "na",
         "price range": "nan",
         "amenities": "na",
         "_deepnote_index_column": 77
        },
        {
         "name": "Hotel Barcelona 1882",
         "reviews": "5",
         "rating": 4.5,
         "address": "Carrer de Còrsega, 482",
         "postcode": "08025 Barcelona",
         "price range": "nan",
         "amenities": "na",
         "_deepnote_index_column": 94
        },
        {
         "name": "Yeah Hostel",
         "reviews": "7",
         "rating": 5,
         "address": "Carrer de Girona, 176",
         "postcode": "08037 Barcelona",
         "price range": "nan",
         "amenities": "na",
         "_deepnote_index_column": 100
        }
       ],
       "rows_bottom": null
      },
      "text/plain": "                     name reviews  rating  \\\n37                Almanac       7     5.0   \n38            Hotel Sofia       6     5.0   \n55        Yurbban Passage       9     4.5   \n77                     na      na     5.0   \n94   Hotel Barcelona 1882       5     4.5   \n100           Yeah Hostel       7     5.0   \n\n                                  address         postcode price range  \\\n37   Gran Via de les Corts Catalanes, 619  08007 Barcelona         NaN   \n38                   Plaça de Pius XII, 4  08028 Barcelona         NaN   \n55                Carrer de Trafalgar, 26  08003 Barcelona         NaN   \n77                                     na               na         NaN   \n94                 Carrer de Còrsega, 482  08025 Barcelona         NaN   \n100                 Carrer de Girona, 176  08037 Barcelona         NaN   \n\n                           amenities  \n37   Accepts Credit Cards Free Wi-Fi  \n38                                na  \n55   Accepts Credit Cards Free Wi-Fi  \n77                                na  \n94                                na  \n100                               na  ",
      "text/html": "<div>\n<style scoped>\n    .dataframe tbody tr th:only-of-type {\n        vertical-align: middle;\n    }\n\n    .dataframe tbody tr th {\n        vertical-align: top;\n    }\n\n    .dataframe thead th {\n        text-align: right;\n    }\n</style>\n<table border=\"1\" class=\"dataframe\">\n  <thead>\n    <tr style=\"text-align: right;\">\n      <th></th>\n      <th>name</th>\n      <th>reviews</th>\n      <th>rating</th>\n      <th>address</th>\n      <th>postcode</th>\n      <th>price range</th>\n      <th>amenities</th>\n    </tr>\n  </thead>\n  <tbody>\n    <tr>\n      <th>37</th>\n      <td>Almanac</td>\n      <td>7</td>\n      <td>5.0</td>\n      <td>Gran Via de les Corts Catalanes, 619</td>\n      <td>08007 Barcelona</td>\n      <td>NaN</td>\n      <td>Accepts Credit Cards Free Wi-Fi</td>\n    </tr>\n    <tr>\n      <th>38</th>\n      <td>Hotel Sofia</td>\n      <td>6</td>\n      <td>5.0</td>\n      <td>Plaça de Pius XII, 4</td>\n      <td>08028 Barcelona</td>\n      <td>NaN</td>\n      <td>na</td>\n    </tr>\n    <tr>\n      <th>55</th>\n      <td>Yurbban Passage</td>\n      <td>9</td>\n      <td>4.5</td>\n      <td>Carrer de Trafalgar, 26</td>\n      <td>08003 Barcelona</td>\n      <td>NaN</td>\n      <td>Accepts Credit Cards Free Wi-Fi</td>\n    </tr>\n    <tr>\n      <th>77</th>\n      <td>na</td>\n      <td>na</td>\n      <td>5.0</td>\n      <td>na</td>\n      <td>na</td>\n      <td>NaN</td>\n      <td>na</td>\n    </tr>\n    <tr>\n      <th>94</th>\n      <td>Hotel Barcelona 1882</td>\n      <td>5</td>\n      <td>4.5</td>\n      <td>Carrer de Còrsega, 482</td>\n      <td>08025 Barcelona</td>\n      <td>NaN</td>\n      <td>na</td>\n    </tr>\n    <tr>\n      <th>100</th>\n      <td>Yeah Hostel</td>\n      <td>7</td>\n      <td>5.0</td>\n      <td>Carrer de Girona, 176</td>\n      <td>08037 Barcelona</td>\n      <td>NaN</td>\n      <td>na</td>\n    </tr>\n  </tbody>\n</table>\n</div>"
     },
     "metadata": {}
    }
   ],
   "execution_count": null
  },
  {
   "cell_type": "code",
   "metadata": {
    "tags": [],
    "cell_id": "00011-a6106264-855b-44e5-859b-43c2ee405225",
    "deepnote_to_be_reexecuted": true,
    "source_hash": "f46b1b06",
    "execution_start": 1624540207880,
    "execution_millis": 0,
    "deepnote_cell_type": "code"
   },
   "source": "# Here we see 77 misses a lot of value let's drop it\ndf.drop([df.index[77]],inplace=True)",
   "outputs": [],
   "execution_count": null
  },
  {
   "cell_type": "code",
   "metadata": {
    "tags": [],
    "cell_id": "00012-f5162092-bbc5-4517-8667-d1a0186a973f",
    "deepnote_to_be_reexecuted": true,
    "source_hash": "9b6894e7",
    "execution_start": 1624540207881,
    "execution_millis": 0,
    "deepnote_cell_type": "code"
   },
   "source": "df['price range'].fillna('Medium-Low',inplace=True)",
   "outputs": [],
   "execution_count": null
  },
  {
   "cell_type": "code",
   "metadata": {
    "tags": [],
    "cell_id": "00013-9b84d5ef-5f17-4958-9198-3da6be11dc5b",
    "deepnote_to_be_reexecuted": true,
    "source_hash": "f3dd26da",
    "execution_start": 1624540207882,
    "execution_millis": 6,
    "deepnote_cell_type": "code"
   },
   "source": "df.isnull().sum()",
   "outputs": [
    {
     "output_type": "execute_result",
     "execution_count": 11,
     "data": {
      "text/plain": "name           0\nreviews        0\nrating         0\naddress        0\npostcode       0\nprice range    0\namenities      0\ndtype: int64"
     },
     "metadata": {}
    }
   ],
   "execution_count": null
  },
  {
   "cell_type": "code",
   "metadata": {
    "tags": [],
    "cell_id": "00010-bf7fdc77-f63c-4255-9ca3-efb38d63d2c9",
    "deepnote_to_be_reexecuted": true,
    "source_hash": "2cf31657",
    "execution_start": 1624540207924,
    "execution_millis": 0,
    "deepnote_cell_type": "code"
   },
   "source": "# df = df.replace('na', np.nan)\n# df = df.replace('null', np.nan)",
   "outputs": [],
   "execution_count": null
  },
  {
   "cell_type": "code",
   "metadata": {
    "tags": [],
    "cell_id": "00010-f2cb8181-30a0-4378-a249-b62f295a2478",
    "deepnote_to_be_reexecuted": true,
    "source_hash": "c085b6ba",
    "execution_start": 1624540207927,
    "execution_millis": 8,
    "deepnote_cell_type": "code"
   },
   "source": "df.head()",
   "outputs": [
    {
     "output_type": "execute_result",
     "execution_count": 13,
     "data": {
      "application/vnd.deepnote.dataframe.v2+json": {
       "row_count": 5,
       "column_count": 7,
       "columns": [
        {
         "name": "name",
         "dtype": "object",
         "stats": {
          "unique_count": 5,
          "nan_count": 0,
          "categories": [
           {
            "name": "Hotel Cotton House",
            "count": 1
           },
           {
            "name": "Villa Emilia",
            "count": 1
           },
           {
            "name": "3 others",
            "count": 3
           }
          ]
         }
        },
        {
         "name": "reviews",
         "dtype": "object",
         "stats": {
          "unique_count": 5,
          "nan_count": 0,
          "categories": [
           {
            "name": "49",
            "count": 1
           },
           {
            "name": "25",
            "count": 1
           },
           {
            "name": "3 others",
            "count": 3
           }
          ]
         }
        },
        {
         "name": "rating",
         "dtype": "float64",
         "stats": {
          "unique_count": 2,
          "nan_count": 0,
          "min": "4.5",
          "max": "5.0",
          "histogram": [
           {
            "bin_start": 4.5,
            "bin_end": 4.55,
            "count": 3
           },
           {
            "bin_start": 4.55,
            "bin_end": 4.6,
            "count": 0
           },
           {
            "bin_start": 4.6,
            "bin_end": 4.65,
            "count": 0
           },
           {
            "bin_start": 4.65,
            "bin_end": 4.7,
            "count": 0
           },
           {
            "bin_start": 4.7,
            "bin_end": 4.75,
            "count": 0
           },
           {
            "bin_start": 4.75,
            "bin_end": 4.8,
            "count": 0
           },
           {
            "bin_start": 4.8,
            "bin_end": 4.85,
            "count": 0
           },
           {
            "bin_start": 4.85,
            "bin_end": 4.9,
            "count": 0
           },
           {
            "bin_start": 4.9,
            "bin_end": 4.95,
            "count": 0
           },
           {
            "bin_start": 4.95,
            "bin_end": 5,
            "count": 2
           }
          ]
         }
        },
        {
         "name": "address",
         "dtype": "object",
         "stats": {
          "unique_count": 5,
          "nan_count": 0,
          "categories": [
           {
            "name": "Gran Via de les Corts Catalanes, 670",
            "count": 1
           },
           {
            "name": "Carrer de Calàbria, 115",
            "count": 1
           },
           {
            "name": "3 others",
            "count": 3
           }
          ]
         }
        },
        {
         "name": "postcode",
         "dtype": "object",
         "stats": {
          "unique_count": 4,
          "nan_count": 0,
          "categories": [
           {
            "name": "08002 Barcelona",
            "count": 2
           },
           {
            "name": "08010 Barcelona",
            "count": 1
           },
           {
            "name": "2 others",
            "count": 2
           }
          ]
         }
        },
        {
         "name": "price range",
         "dtype": "object",
         "stats": {
          "unique_count": 3,
          "nan_count": 0,
          "categories": [
           {
            "name": "Medium-High",
            "count": 3
           },
           {
            "name": "Medium-Low",
            "count": 1
           },
           {
            "name": "High",
            "count": 1
           }
          ]
         }
        },
        {
         "name": "amenities",
         "dtype": "object",
         "stats": {
          "unique_count": 3,
          "nan_count": 0,
          "categories": [
           {
            "name": "Accepts Credit Cards Free Wi-Fi",
            "count": 2
           },
           {
            "name": "Accepts Credit Cards Free Wi-Fi Dogs Not Allowed",
            "count": 2
           },
           {
            "name": "Accepts Credit Cards Free Wi-Fi Dogs Allowed",
            "count": 1
           }
          ]
         }
        },
        {
         "name": "_deepnote_index_column",
         "dtype": "int64"
        }
       ],
       "rows_top": [
        {
         "name": "Hotel Cotton House",
         "reviews": "49",
         "rating": 4.5,
         "address": "Gran Via de les Corts Catalanes, 670",
         "postcode": "08010 Barcelona",
         "price range": "Medium-High",
         "amenities": "Accepts Credit Cards Free Wi-Fi",
         "_deepnote_index_column": 0
        },
        {
         "name": "Villa Emilia",
         "reviews": "25",
         "rating": 5,
         "address": "Carrer de Calàbria, 115",
         "postcode": "08015 Barcelona",
         "price range": "Medium-Low",
         "amenities": "Accepts Credit Cards Free Wi-Fi Dogs Allowed",
         "_deepnote_index_column": 1
        },
        {
         "name": "Alma Barcelona",
         "reviews": "28",
         "rating": 4.5,
         "address": "Carrer de Mallorca, 271",
         "postcode": "08008 Barcelona",
         "price range": "Medium-High",
         "amenities": "Accepts Credit Cards Free Wi-Fi",
         "_deepnote_index_column": 2
        },
        {
         "name": "Hotel 1898",
         "reviews": "77",
         "rating": 4.5,
         "address": "La Rambla, 109",
         "postcode": "08002 Barcelona",
         "price range": "Medium-High",
         "amenities": "Accepts Credit Cards Free Wi-Fi Dogs Not Allowed",
         "_deepnote_index_column": 3
        },
        {
         "name": "The Serras",
         "reviews": "14",
         "rating": 5,
         "address": "Passeig de Colom, 9",
         "postcode": "08002 Barcelona",
         "price range": "High",
         "amenities": "Accepts Credit Cards Free Wi-Fi Dogs Not Allowed",
         "_deepnote_index_column": 4
        }
       ],
       "rows_bottom": null
      },
      "text/plain": "                 name reviews  rating                               address  \\\n0  Hotel Cotton House      49     4.5  Gran Via de les Corts Catalanes, 670   \n1        Villa Emilia      25     5.0               Carrer de Calàbria, 115   \n2      Alma Barcelona      28     4.5               Carrer de Mallorca, 271   \n3          Hotel 1898      77     4.5                        La Rambla, 109   \n4          The Serras      14     5.0                   Passeig de Colom, 9   \n\n          postcode  price range  \\\n0  08010 Barcelona  Medium-High   \n1  08015 Barcelona   Medium-Low   \n2  08008 Barcelona  Medium-High   \n3  08002 Barcelona  Medium-High   \n4  08002 Barcelona         High   \n\n                                          amenities  \n0                   Accepts Credit Cards Free Wi-Fi  \n1      Accepts Credit Cards Free Wi-Fi Dogs Allowed  \n2                   Accepts Credit Cards Free Wi-Fi  \n3  Accepts Credit Cards Free Wi-Fi Dogs Not Allowed  \n4  Accepts Credit Cards Free Wi-Fi Dogs Not Allowed  ",
      "text/html": "<div>\n<style scoped>\n    .dataframe tbody tr th:only-of-type {\n        vertical-align: middle;\n    }\n\n    .dataframe tbody tr th {\n        vertical-align: top;\n    }\n\n    .dataframe thead th {\n        text-align: right;\n    }\n</style>\n<table border=\"1\" class=\"dataframe\">\n  <thead>\n    <tr style=\"text-align: right;\">\n      <th></th>\n      <th>name</th>\n      <th>reviews</th>\n      <th>rating</th>\n      <th>address</th>\n      <th>postcode</th>\n      <th>price range</th>\n      <th>amenities</th>\n    </tr>\n  </thead>\n  <tbody>\n    <tr>\n      <th>0</th>\n      <td>Hotel Cotton House</td>\n      <td>49</td>\n      <td>4.5</td>\n      <td>Gran Via de les Corts Catalanes, 670</td>\n      <td>08010 Barcelona</td>\n      <td>Medium-High</td>\n      <td>Accepts Credit Cards Free Wi-Fi</td>\n    </tr>\n    <tr>\n      <th>1</th>\n      <td>Villa Emilia</td>\n      <td>25</td>\n      <td>5.0</td>\n      <td>Carrer de Calàbria, 115</td>\n      <td>08015 Barcelona</td>\n      <td>Medium-Low</td>\n      <td>Accepts Credit Cards Free Wi-Fi Dogs Allowed</td>\n    </tr>\n    <tr>\n      <th>2</th>\n      <td>Alma Barcelona</td>\n      <td>28</td>\n      <td>4.5</td>\n      <td>Carrer de Mallorca, 271</td>\n      <td>08008 Barcelona</td>\n      <td>Medium-High</td>\n      <td>Accepts Credit Cards Free Wi-Fi</td>\n    </tr>\n    <tr>\n      <th>3</th>\n      <td>Hotel 1898</td>\n      <td>77</td>\n      <td>4.5</td>\n      <td>La Rambla, 109</td>\n      <td>08002 Barcelona</td>\n      <td>Medium-High</td>\n      <td>Accepts Credit Cards Free Wi-Fi Dogs Not Allowed</td>\n    </tr>\n    <tr>\n      <th>4</th>\n      <td>The Serras</td>\n      <td>14</td>\n      <td>5.0</td>\n      <td>Passeig de Colom, 9</td>\n      <td>08002 Barcelona</td>\n      <td>High</td>\n      <td>Accepts Credit Cards Free Wi-Fi Dogs Not Allowed</td>\n    </tr>\n  </tbody>\n</table>\n</div>"
     },
     "metadata": {}
    }
   ],
   "execution_count": null
  },
  {
   "cell_type": "code",
   "metadata": {
    "tags": [],
    "cell_id": "00011-282cfe66-3fe9-46fa-97ce-34ac03e5be5d",
    "deepnote_to_be_reexecuted": true,
    "source_hash": "a0ed3925",
    "execution_start": 1624540207942,
    "execution_millis": 1,
    "deepnote_cell_type": "code"
   },
   "source": "# missing_value_counts = df.isna().sum()\n\n# missing_value_counts[:] ",
   "outputs": [],
   "execution_count": null
  },
  {
   "cell_type": "code",
   "metadata": {
    "tags": [],
    "cell_id": "00015-59c54789-b879-46a7-9c4e-b6d42578f300",
    "deepnote_to_be_reexecuted": true,
    "source_hash": "50a589b7",
    "execution_start": 1624540207988,
    "execution_millis": 7,
    "deepnote_cell_type": "code"
   },
   "source": "df.describe()\n# Some information out of here:\n# min.rating  = 3\n# max.rating = 5\n# mean = 4.26\n",
   "outputs": [
    {
     "output_type": "execute_result",
     "execution_count": 15,
     "data": {
      "application/vnd.deepnote.dataframe.v2+json": {
       "row_count": 8,
       "column_count": 1,
       "columns": [
        {
         "name": "rating",
         "dtype": "float64",
         "stats": {
          "unique_count": 7,
          "nan_count": 0,
          "min": "0.44926035033744194",
          "max": "109.0",
          "histogram": [
           {
            "bin_start": 0.44926035033744194,
            "bin_end": 11.304334315303697,
            "count": 7
           },
           {
            "bin_start": 11.304334315303697,
            "bin_end": 22.159408280269954,
            "count": 0
           },
           {
            "bin_start": 22.159408280269954,
            "bin_end": 33.01448224523621,
            "count": 0
           },
           {
            "bin_start": 33.01448224523621,
            "bin_end": 43.86955621020246,
            "count": 0
           },
           {
            "bin_start": 43.86955621020246,
            "bin_end": 54.72463017516871,
            "count": 0
           },
           {
            "bin_start": 54.72463017516871,
            "bin_end": 65.57970414013498,
            "count": 0
           },
           {
            "bin_start": 65.57970414013498,
            "bin_end": 76.43477810510123,
            "count": 0
           },
           {
            "bin_start": 76.43477810510123,
            "bin_end": 87.28985207006748,
            "count": 0
           },
           {
            "bin_start": 87.28985207006748,
            "bin_end": 98.14492603503373,
            "count": 0
           },
           {
            "bin_start": 98.14492603503373,
            "bin_end": 109,
            "count": 1
           }
          ]
         }
        },
        {
         "name": "_deepnote_index_column",
         "dtype": "object"
        }
       ],
       "rows_top": [
        {
         "rating": 109,
         "_deepnote_index_column": "count"
        },
        {
         "rating": 4.261467889908257,
         "_deepnote_index_column": "mean"
        },
        {
         "rating": 0.44926035033744194,
         "_deepnote_index_column": "std"
        },
        {
         "rating": 3,
         "_deepnote_index_column": "min"
        },
        {
         "rating": 4,
         "_deepnote_index_column": "25%"
        },
        {
         "rating": 4.5,
         "_deepnote_index_column": "50%"
        },
        {
         "rating": 4.5,
         "_deepnote_index_column": "75%"
        },
        {
         "rating": 5,
         "_deepnote_index_column": "max"
        }
       ],
       "rows_bottom": null
      },
      "text/plain": "           rating\ncount  109.000000\nmean     4.261468\nstd      0.449260\nmin      3.000000\n25%      4.000000\n50%      4.500000\n75%      4.500000\nmax      5.000000",
      "text/html": "<div>\n<style scoped>\n    .dataframe tbody tr th:only-of-type {\n        vertical-align: middle;\n    }\n\n    .dataframe tbody tr th {\n        vertical-align: top;\n    }\n\n    .dataframe thead th {\n        text-align: right;\n    }\n</style>\n<table border=\"1\" class=\"dataframe\">\n  <thead>\n    <tr style=\"text-align: right;\">\n      <th></th>\n      <th>rating</th>\n    </tr>\n  </thead>\n  <tbody>\n    <tr>\n      <th>count</th>\n      <td>109.000000</td>\n    </tr>\n    <tr>\n      <th>mean</th>\n      <td>4.261468</td>\n    </tr>\n    <tr>\n      <th>std</th>\n      <td>0.449260</td>\n    </tr>\n    <tr>\n      <th>min</th>\n      <td>3.000000</td>\n    </tr>\n    <tr>\n      <th>25%</th>\n      <td>4.000000</td>\n    </tr>\n    <tr>\n      <th>50%</th>\n      <td>4.500000</td>\n    </tr>\n    <tr>\n      <th>75%</th>\n      <td>4.500000</td>\n    </tr>\n    <tr>\n      <th>max</th>\n      <td>5.000000</td>\n    </tr>\n  </tbody>\n</table>\n</div>"
     },
     "metadata": {}
    }
   ],
   "execution_count": null
  },
  {
   "cell_type": "code",
   "metadata": {
    "tags": [],
    "cell_id": "00016-572aabcf-85fa-4cc7-89bb-e676461dd071",
    "deepnote_to_be_reexecuted": true,
    "source_hash": "d2a723e",
    "execution_start": 1624540207989,
    "execution_millis": 6,
    "deepnote_cell_type": "code"
   },
   "source": "df['rating'].max()",
   "outputs": [
    {
     "output_type": "execute_result",
     "execution_count": 16,
     "data": {
      "text/plain": "5.0"
     },
     "metadata": {}
    }
   ],
   "execution_count": null
  },
  {
   "cell_type": "code",
   "metadata": {
    "tags": [],
    "cell_id": "00017-9e02c981-225b-483f-9548-28eaad7b6424",
    "deepnote_to_be_reexecuted": true,
    "source_hash": "b60a857",
    "execution_start": 1624540208033,
    "execution_millis": 0,
    "deepnote_cell_type": "code"
   },
   "source": "# print(df.loc[df['price range'] == 'nan'])",
   "outputs": [],
   "execution_count": null
  },
  {
   "cell_type": "code",
   "metadata": {
    "tags": [],
    "cell_id": "00019-1725b71a-5488-4b3f-92b5-3f911914f323",
    "deepnote_to_be_reexecuted": true,
    "source_hash": "d2ec3b76",
    "execution_start": 1624540208033,
    "execution_millis": 10,
    "deepnote_cell_type": "code"
   },
   "source": "df['price range'].value_counts()\n",
   "outputs": [
    {
     "output_type": "execute_result",
     "execution_count": 18,
     "data": {
      "text/plain": "Medium-Low     62\nMedium-High    35\nHigh            9\nLow             3\nName: price range, dtype: int64"
     },
     "metadata": {}
    }
   ],
   "execution_count": null
  },
  {
   "cell_type": "code",
   "metadata": {
    "tags": [],
    "cell_id": "00020-4cbd0f1d-98bf-47d2-abd9-068b2bf1c606",
    "deepnote_to_be_reexecuted": true,
    "source_hash": "a335bdd9",
    "execution_start": 1624540208034,
    "execution_millis": 1249,
    "deepnote_cell_type": "code"
   },
   "source": "df[\"price range\"].hist(bins=10)\n\n# I tried making a histogram of the price range to have a pictorial representation. \n# This is to help us have a sense of pricing recommendation to our client (boss).",
   "outputs": [
    {
     "output_type": "execute_result",
     "execution_count": 19,
     "data": {
      "text/plain": "<AxesSubplot:>"
     },
     "metadata": {}
    },
    {
     "data": {
      "text/plain": "<Figure size 432x288 with 1 Axes>",
      "image/png": "[encoded data removed]"
     },
     "metadata": {
      "needs_background": "light",
      "image/png": {
       "width": 368,
       "height": 248
      }
     },
     "output_type": "display_data"
    }
   ],
   "execution_count": null
  },
  {
   "cell_type": "code",
   "metadata": {
    "tags": [],
    "cell_id": "00020-bb199a95-988b-4ad5-b20f-d7fdb5ecbf85",
    "deepnote_to_be_reexecuted": true,
    "source_hash": "710f0bb2",
    "execution_start": 1624540209347,
    "execution_millis": 21,
    "deepnote_cell_type": "code"
   },
   "source": "df[df['price range'] == 'Medium-Low']\n\n#Thank you for this Shamil",
   "outputs": [
    {
     "output_type": "execute_result",
     "execution_count": 20,
     "data": {
      "application/vnd.deepnote.dataframe.v2+json": {
       "row_count": 62,
       "column_count": 7,
       "columns": [
        {
         "name": "name",
         "dtype": "object",
         "stats": {
          "unique_count": 62,
          "nan_count": 0,
          "categories": [
           {
            "name": "Villa Emilia",
            "count": 1
           },
           {
            "name": "Barceló Raval",
            "count": 1
           },
           {
            "name": "60 others",
            "count": 60
           }
          ]
         }
        },
        {
         "name": "reviews",
         "dtype": "object",
         "stats": {
          "unique_count": 25,
          "nan_count": 0,
          "categories": [
           {
            "name": "7",
            "count": 7
           },
           {
            "name": "12",
            "count": 5
           },
           {
            "name": "23 others",
            "count": 50
           }
          ]
         }
        },
        {
         "name": "rating",
         "dtype": "float64",
         "stats": {
          "unique_count": 5,
          "nan_count": 0,
          "min": "3.0",
          "max": "5.0",
          "histogram": [
           {
            "bin_start": 3,
            "bin_end": 3.2,
            "count": 1
           },
           {
            "bin_start": 3.2,
            "bin_end": 3.4,
            "count": 0
           },
           {
            "bin_start": 3.4,
            "bin_end": 3.6,
            "count": 6
           },
           {
            "bin_start": 3.6,
            "bin_end": 3.8,
            "count": 0
           },
           {
            "bin_start": 3.8,
            "bin_end": 4,
            "count": 0
           },
           {
            "bin_start": 4,
            "bin_end": 4.2,
            "count": 20
           },
           {
            "bin_start": 4.2,
            "bin_end": 4.4,
            "count": 0
           },
           {
            "bin_start": 4.4,
            "bin_end": 4.6,
            "count": 27
           },
           {
            "bin_start": 4.6,
            "bin_end": 4.8,
            "count": 0
           },
           {
            "bin_start": 4.8,
            "bin_end": 5,
            "count": 8
           }
          ]
         }
        },
        {
         "name": "address",
         "dtype": "object",
         "stats": {
          "unique_count": 62,
          "nan_count": 0,
          "categories": [
           {
            "name": "Carrer de Calàbria, 115",
            "count": 1
           },
           {
            "name": "Rambla del Raval, 17 - 21",
            "count": 1
           },
           {
            "name": "60 others",
            "count": 60
           }
          ]
         }
        },
        {
         "name": "postcode",
         "dtype": "object",
         "stats": {
          "unique_count": 24,
          "nan_count": 0,
          "categories": [
           {
            "name": "08001 Barcelona",
            "count": 7
           },
           {
            "name": "08010 Barcelona",
            "count": 7
           },
           {
            "name": "22 others",
            "count": 48
           }
          ]
         }
        },
        {
         "name": "price range",
         "dtype": "object",
         "stats": {
          "unique_count": 1,
          "nan_count": 0,
          "categories": [
           {
            "name": "Medium-Low",
            "count": 62
           }
          ]
         }
        },
        {
         "name": "amenities",
         "dtype": "object",
         "stats": {
          "unique_count": 6,
          "nan_count": 0,
          "categories": [
           {
            "name": "Accepts Credit Cards Free Wi-Fi",
            "count": 48
           },
           {
            "name": "Accepts Credit Cards Free Wi-Fi Dogs Not Allowed",
            "count": 6
           },
           {
            "name": "4 others",
            "count": 8
           }
          ]
         }
        },
        {
         "name": "_deepnote_index_column",
         "dtype": "int64"
        }
       ],
       "rows_top": [
        {
         "name": "Villa Emilia",
         "reviews": "25",
         "rating": 5,
         "address": "Carrer de Calàbria, 115",
         "postcode": "08015 Barcelona",
         "price range": "Medium-Low",
         "amenities": "Accepts Credit Cards Free Wi-Fi Dogs Allowed",
         "_deepnote_index_column": 1
        },
        {
         "name": "Barceló Raval",
         "reviews": "54",
         "rating": 4.5,
         "address": "Rambla del Raval, 17 - 21",
         "postcode": "08001 Barcelona",
         "price range": "Medium-Low",
         "amenities": "Accepts Credit Cards Free Wi-Fi Dogs Not Allowed",
         "_deepnote_index_column": 5
        },
        {
         "name": "Do",
         "reviews": "13",
         "rating": 4.5,
         "address": "Plaça Reial, 1",
         "postcode": "08002 Barcelona",
         "price range": "Medium-Low",
         "amenities": "Accepts Credit Cards Free Wi-Fi",
         "_deepnote_index_column": 10
        },
        {
         "name": "Pulitzer Barcelona",
         "reviews": "40",
         "rating": 4,
         "address": "Carrer Bergara, 8",
         "postcode": "08002 Barcelona",
         "price range": "Medium-Low",
         "amenities": "Accepts Credit Cards Free Wi-Fi",
         "_deepnote_index_column": 11
        },
        {
         "name": "Hotel Barcelona Universal",
         "reviews": "41",
         "rating": 4,
         "address": "Avinguda Paral-lel, 76",
         "postcode": "08001 Barcelona",
         "price range": "Medium-Low",
         "amenities": "Accepts Credit Cards Free Wi-Fi",
         "_deepnote_index_column": 14
        },
        {
         "name": "Wilson",
         "reviews": "10",
         "rating": 5,
         "address": "Avinguda Diagonal, 568",
         "postcode": "08021 Barcelona",
         "price range": "Medium-Low",
         "amenities": "Accepts Credit Cards Free Wi-Fi",
         "_deepnote_index_column": 17
        },
        {
         "name": "Casa Bonay",
         "reviews": "14",
         "rating": 4.5,
         "address": "Gran Via de Les Corts Catalanes, 700",
         "postcode": "08010 Barcelona",
         "price range": "Medium-Low",
         "amenities": "Accepts Credit Cards Free Wi-Fi",
         "_deepnote_index_column": 18
        },
        {
         "name": "Renaissance Barcelona Fira Hotel",
         "reviews": "35",
         "rating": 4,
         "address": "Plaza Europa, 50-52",
         "postcode": "08902 Barcelona",
         "price range": "Medium-Low",
         "amenities": "Accepts Credit Cards Free Wi-Fi",
         "_deepnote_index_column": 19
        },
        {
         "name": "Hotel Praktik",
         "reviews": "18",
         "rating": 4.5,
         "address": "Carrer de Provença, 279",
         "postcode": "08037 Barcelona",
         "price range": "Medium-Low",
         "amenities": "Accepts Credit Cards Free Wi-Fi",
         "_deepnote_index_column": 20
        },
        {
         "name": "Hotel Porta Fira",
         "reviews": "27",
         "rating": 4,
         "address": "Plaza Europa, 45",
         "postcode": "08908 Hospitalet de Llobregat",
         "price range": "Medium-Low",
         "amenities": "Accepts Credit Cards Free Wi-Fi",
         "_deepnote_index_column": 21
        },
        {
         "name": "Hotel Jazz",
         "reviews": "21",
         "rating": 4.5,
         "address": "Pelai, 3, Eixample",
         "postcode": "08001 Barcelona",
         "price range": "Medium-Low",
         "amenities": "Accepts Credit Cards Free Wi-Fi Dogs Not Allowed",
         "_deepnote_index_column": 23
        },
        {
         "name": "B Hotel",
         "reviews": "14",
         "rating": 4.5,
         "address": "Gran Via de les Corts Catalanes, 389-391",
         "postcode": "08015 Barcelona",
         "price range": "Medium-Low",
         "amenities": "Accepts Credit Cards Free Wi-Fi",
         "_deepnote_index_column": 24
        },
        {
         "name": "K+K Hotel Picasso Barcelona",
         "reviews": "20",
         "rating": 4.5,
         "address": "Passeig de Picasso, 26",
         "postcode": "08003 Barcelona",
         "price range": "Medium-Low",
         "amenities": "Accepts Credit Cards Free Wi-Fi",
         "_deepnote_index_column": 28
        },
        {
         "name": "Banys Oriental",
         "reviews": "12",
         "rating": 4.5,
         "address": "Carrer de l'Argenteria, 37",
         "postcode": "08028 Barcelona",
         "price range": "Medium-Low",
         "amenities": "Accepts Credit Cards Free Wi-Fi",
         "_deepnote_index_column": 32
        },
        {
         "name": "Aparthotel Silver",
         "reviews": "11",
         "rating": 4.5,
         "address": "Carrer de Bretón de los Herreros, 26",
         "postcode": "08012 Barcelona",
         "price range": "Medium-Low",
         "amenities": "Accepts Credit Cards Free Wi-Fi",
         "_deepnote_index_column": 34
        },
        {
         "name": "Room Mate Anna Hotel",
         "reviews": "9",
         "rating": 4.5,
         "address": "Carrer d'Aragó, 271",
         "postcode": "08007 Barcelona",
         "price range": "Medium-Low",
         "amenities": "Accepts Credit Cards Free Wi-Fi",
         "_deepnote_index_column": 35
        },
        {
         "name": "Two Hotel",
         "reviews": "16",
         "rating": 4.5,
         "address": "Carrer de Calàbria, 90-92",
         "postcode": "08015 Barcelona",
         "price range": "Medium-Low",
         "amenities": "Accepts Credit Cards Free Wi-Fi",
         "_deepnote_index_column": 36
        },
        {
         "name": "Almanac",
         "reviews": "7",
         "rating": 5,
         "address": "Gran Via de les Corts Catalanes, 619",
         "postcode": "08007 Barcelona",
         "price range": "Medium-Low",
         "amenities": "Accepts Credit Cards Free Wi-Fi",
         "_deepnote_index_column": 37
        },
        {
         "name": "Hotel Sofia",
         "reviews": "6",
         "rating": 5,
         "address": "Plaça de Pius XII, 4",
         "postcode": "08028 Barcelona",
         "price range": "Medium-Low",
         "amenities": "na",
         "_deepnote_index_column": 38
        },
        {
         "name": "Barceló Sants",
         "reviews": "21",
         "rating": 4,
         "address": "Plaça dels Països Catalans, s/n",
         "postcode": "08014 Barcelona",
         "price range": "Medium-Low",
         "amenities": "Accepts Credit Cards Free Wi-Fi Dogs Not Allowed",
         "_deepnote_index_column": 48
        },
        {
         "name": "The Mirror Hotel",
         "reviews": "17",
         "rating": 4,
         "address": "Carrer de Còrsega, 255",
         "postcode": "08036 Barcelona",
         "price range": "Medium-Low",
         "amenities": "Accepts Credit Cards Free Wi-Fi",
         "_deepnote_index_column": 49
        },
        {
         "name": "Hotel Musik Boutique",
         "reviews": "11",
         "rating": 5,
         "address": "Carrer de Sant Pere Més Baix, 62",
         "postcode": "08003 Barcelona",
         "price range": "Medium-Low",
         "amenities": "Accepts Credit Cards Free Wi-Fi",
         "_deepnote_index_column": 50
        },
        {
         "name": "Acevi Villarroel",
         "reviews": "9",
         "rating": 4.5,
         "address": "Calle Villarroel 106",
         "postcode": "08011 Barcelona",
         "price range": "Medium-Low",
         "amenities": "Accepts Credit Cards Free Wi-Fi",
         "_deepnote_index_column": 51
        },
        {
         "name": "Hotel H10",
         "reviews": "7",
         "rating": 4.5,
         "address": "Plaça d'Urquinaona, 2",
         "postcode": "08010 Barcelona",
         "price range": "Medium-Low",
         "amenities": "Accepts Credit Cards Free Wi-Fi",
         "_deepnote_index_column": 53
        },
        {
         "name": "Yurbban Passage",
         "reviews": "9",
         "rating": 4.5,
         "address": "Carrer de Trafalgar, 26",
         "postcode": "08003 Barcelona",
         "price range": "Medium-Low",
         "amenities": "Accepts Credit Cards Free Wi-Fi",
         "_deepnote_index_column": 55
        },
        {
         "name": "Yurbban Trafalgar",
         "reviews": "15",
         "rating": 4,
         "address": "Carrer  de Trafalgar, 30",
         "postcode": "08010 Barcelona",
         "price range": "Medium-Low",
         "amenities": "Accepts Credit Cards Free Wi-Fi Dogs Not Allowed",
         "_deepnote_index_column": 56
        },
        {
         "name": "Ayre Hotel Rosellón",
         "reviews": "10",
         "rating": 4.5,
         "address": "Carrer del Roselló, 390",
         "postcode": "08025 Barcelona",
         "price range": "Medium-Low",
         "amenities": "Accepts Credit Cards Free Wi-Fi",
         "_deepnote_index_column": 60
        },
        {
         "name": "Four Points by Sheraton Barcelona Diagonal",
         "reviews": "25",
         "rating": 3.5,
         "address": "Avenida Diagonal, 161",
         "postcode": "08018 Barcelona",
         "price range": "Medium-Low",
         "amenities": "Accepts Credit Cards Free Wi-Fi",
         "_deepnote_index_column": 62
        },
        {
         "name": "AC Hotel by Marriott Sants",
         "reviews": "15",
         "rating": 4,
         "address": "Passeig de Sant Antoni, 36-40",
         "postcode": "08014 Barcelona",
         "price range": "Medium-Low",
         "amenities": "Accepts Credit Cards Free Wi-Fi",
         "_deepnote_index_column": 63
        },
        {
         "name": "Room Mate Emma Hotel",
         "reviews": "11",
         "rating": 4,
         "address": "Carrer Rossello, 205",
         "postcode": "08008 Barcelona",
         "price range": "Medium-Low",
         "amenities": "Accepts Credit Cards Free Wi-Fi",
         "_deepnote_index_column": 64
        },
        {
         "name": "AC Hotel by Marriott Irla",
         "reviews": "12",
         "rating": 4,
         "address": "Carrer Calvet, 40-42",
         "postcode": "08021 Barcelona",
         "price range": "Medium-Low",
         "amenities": "Accepts Credit Cards Free Wi-Fi",
         "_deepnote_index_column": 65
        },
        {
         "name": "Ibis",
         "reviews": "7",
         "rating": 4.5,
         "address": "Carrer de la Ciutat de Granada, 99",
         "postcode": "08018 Barcelona",
         "price range": "Medium-Low",
         "amenities": "Accepts Credit Cards Paid Wi-Fi",
         "_deepnote_index_column": 66
        },
        {
         "name": "Best Western Premier Hotel Dante",
         "reviews": "9",
         "rating": 4,
         "address": "Carrer de Mallorca, 181",
         "postcode": "08036 Barcelona",
         "price range": "Medium-Low",
         "amenities": "Accepts Credit Cards Free Wi-Fi",
         "_deepnote_index_column": 69
        },
        {
         "name": "Praktik Rambla",
         "reviews": "13",
         "rating": 4.5,
         "address": "Rambla de Catalunya, 27",
         "postcode": "08007 Barcelona",
         "price range": "Medium-Low",
         "amenities": "Accepts Credit Cards Free Wi-Fi",
         "_deepnote_index_column": 70
        },
        {
         "name": "Novotel Barcelona City",
         "reviews": "13",
         "rating": 4,
         "address": "Avenida Diagonal, 201",
         "postcode": "08018 Barcelona",
         "price range": "Medium-Low",
         "amenities": "Accepts Credit Cards Free Wi-Fi",
         "_deepnote_index_column": 71
        },
        {
         "name": "Vincci Gala 4",
         "reviews": "7",
         "rating": 4.5,
         "address": "Ronda Sant Pere, 32",
         "postcode": "08010 Barcelona",
         "price range": "Medium-Low",
         "amenities": "Accepts Credit Cards Free Wi-Fi",
         "_deepnote_index_column": 73
        },
        {
         "name": "Hotel Market",
         "reviews": "7",
         "rating": 4.5,
         "address": "Passatge Sant Antoni Abad, 10",
         "postcode": "08015 Barcelona",
         "price range": "Medium-Low",
         "amenities": "Accepts Credit Cards Free Wi-Fi",
         "_deepnote_index_column": 74
        },
        {
         "name": "Hotel Catalonia Born",
         "reviews": "10",
         "rating": 4,
         "address": "Calle Rec Comtal, 16",
         "postcode": "08003 Barcelona",
         "price range": "Medium-Low",
         "amenities": "Accepts Credit Cards Free Wi-Fi",
         "_deepnote_index_column": 75
        },
        {
         "name": "Hotel Advance",
         "reviews": "4",
         "rating": 5,
         "address": "Calle de Sepúlveda 180",
         "postcode": "08011 Barcelona",
         "price range": "Medium-Low",
         "amenities": "Accepts Credit Cards Free Wi-Fi",
         "_deepnote_index_column": 76
        },
        {
         "name": "Andante Hotel",
         "reviews": "16",
         "rating": 4.5,
         "address": "Av. de les Drassanes 23-25",
         "postcode": "08001 Barcelona",
         "price range": "Medium-Low",
         "amenities": "Accepts Credit Cards Free Wi-Fi",
         "_deepnote_index_column": 82
        },
        {
         "name": "Hotel Zenit Conde Borrell",
         "reviews": "12",
         "rating": 4,
         "address": "Carrer del Comte Borrell, 208",
         "postcode": "08029 Barcelona",
         "price range": "Medium-Low",
         "amenities": "Accepts Credit Cards Free Wi-Fi",
         "_deepnote_index_column": 83
        },
        {
         "name": "Hotel Balmes",
         "reviews": "8",
         "rating": 4.5,
         "address": "Carrer de Mallorca, 216",
         "postcode": "08008 Barcelona",
         "price range": "Medium-Low",
         "amenities": "Accepts Credit Cards Free Wi-Fi Dogs Allowed",
         "_deepnote_index_column": 84
        },
        {
         "name": "Hotel Brummell",
         "reviews": "8",
         "rating": 4.5,
         "address": "Carrer Nou de la Rambla, 174",
         "postcode": "08004 Barcelona",
         "price range": "Medium-Low",
         "amenities": "Accepts Credit Cards Free Wi-Fi",
         "_deepnote_index_column": 85
        },
        {
         "name": "Hotel Reding",
         "reviews": "8",
         "rating": 4.5,
         "address": "Calle Gravina, 5",
         "postcode": "08001 Barcelona",
         "price range": "Medium-Low",
         "amenities": "Accepts Credit Cards Free Wi-Fi",
         "_deepnote_index_column": 86
        },
        {
         "name": "Hotel Nouvel",
         "reviews": "14",
         "rating": 4,
         "address": "Santa Ana 20",
         "postcode": "08002 Barcelona",
         "price range": "Medium-Low",
         "amenities": "Accepts Credit Cards Free Wi-Fi",
         "_deepnote_index_column": 87
        },
        {
         "name": "Hotel España Ramblas",
         "reviews": "17",
         "rating": 3.5,
         "address": "Carrer de San Pau, 9-11",
         "postcode": "08001 Barcelona",
         "price range": "Medium-Low",
         "amenities": "Accepts Credit Cards Free Wi-Fi Dogs Not Allowed",
         "_deepnote_index_column": 88
        },
        {
         "name": "Hotel Via Augusta",
         "reviews": "7",
         "rating": 4.5,
         "address": "Via Augusta, 63",
         "postcode": "08006 Barcelona",
         "price range": "Medium-Low",
         "amenities": "Accepts Credit Cards Free Wi-Fi",
         "_deepnote_index_column": 89
        },
        {
         "name": "Vincci Bit",
         "reviews": "9",
         "rating": 4,
         "address": "Carrer de Josep Pla 69",
         "postcode": "08019 Barcelona",
         "price range": "Medium-Low",
         "amenities": "Accepts Credit Cards Free Wi-Fi",
         "_deepnote_index_column": 91
        },
        {
         "name": "Gran Hotel Torre Catalunya",
         "reviews": "23",
         "rating": 3.5,
         "address": "Avinguda Roma, 2-4",
         "postcode": "08014 Barcelona",
         "price range": "Medium-Low",
         "amenities": "Accepts Credit Cards Free Wi-Fi",
         "_deepnote_index_column": 92
        },
        {
         "name": "Gran Hotel Havana",
         "reviews": "12",
         "rating": 4,
         "address": "Gran Via de les Corts Catalanes, 647",
         "postcode": "08010 Barcelona",
         "price range": "Medium-Low",
         "amenities": "Accepts Credit Cards Free Wi-Fi Dogs Not Allowed",
         "_deepnote_index_column": 93
        },
        {
         "name": "Hotel Barcelona 1882",
         "reviews": "5",
         "rating": 4.5,
         "address": "Carrer de Còrsega, 482",
         "postcode": "08025 Barcelona",
         "price range": "Medium-Low",
         "amenities": "na",
         "_deepnote_index_column": 94
        },
        {
         "name": "Holiday Inn Express",
         "reviews": "15",
         "rating": 3.5,
         "address": "Carrer de Pallars, 203",
         "postcode": "08005 Barcelona",
         "price range": "Medium-Low",
         "amenities": "Accepts Credit Cards Free Wi-Fi",
         "_deepnote_index_column": 95
        },
        {
         "name": "Hotel NH Collection Barcelona Pódium",
         "reviews": "6",
         "rating": 4.5,
         "address": "Carrer de Bailèn, 4-6",
         "postcode": "08010 Barcelona",
         "price range": "Medium-Low",
         "amenities": "Accepts Credit Cards Free Wi-Fi",
         "_deepnote_index_column": 96
        },
        {
         "name": "Room Mate Gerard",
         "reviews": "4",
         "rating": 5,
         "address": "Carrer Ausiàs March, 34",
         "postcode": "08010 Barcelona",
         "price range": "Medium-Low",
         "amenities": "Accepts Credit Cards Free Wi-Fi",
         "_deepnote_index_column": 97
        },
        {
         "name": "Tryp  Apolo Hotel",
         "reviews": "34",
         "rating": 3,
         "address": "Avinguda del Paraŀlel, 57-59",
         "postcode": "08004 Barcelona",
         "price range": "Medium-Low",
         "amenities": "Accepts Credit Cards Free Wi-Fi",
         "_deepnote_index_column": 99
        },
        {
         "name": "Yeah Hostel",
         "reviews": "7",
         "rating": 5,
         "address": "Carrer de Girona, 176",
         "postcode": "08037 Barcelona",
         "price range": "Medium-Low",
         "amenities": "na",
         "_deepnote_index_column": 100
        },
        {
         "name": "Hotel Curious",
         "reviews": "15",
         "rating": 4.5,
         "address": "Carrer Carme, 25",
         "postcode": "08001 Barcelona",
         "price range": "Medium-Low",
         "amenities": "Accepts Credit Cards Free Wi-Fi",
         "_deepnote_index_column": 101
        },
        {
         "name": "Chic&Basic Born",
         "reviews": "12",
         "rating": 4,
         "address": "Carrer de la Princesa, 50",
         "postcode": "08003 Barcelona",
         "price range": "Medium-Low",
         "amenities": "Accepts Credit Cards Free Wi-Fi",
         "_deepnote_index_column": 102
        },
        {
         "name": "Silken Concordia",
         "reviews": "10",
         "rating": 4,
         "address": "Avinguda del Parallel, 115,",
         "postcode": "08004 Barcelona",
         "price range": "Medium-Low",
         "amenities": "Takes Reservations Offers Delivery No Takeout Accepts Credit Cards",
         "_deepnote_index_column": 103
        },
        {
         "name": "Petit Palace Boqueria Garden",
         "reviews": "21",
         "rating": 3.5,
         "address": "Carrer de la Boqueria, 10",
         "postcode": "08002 Barcelona",
         "price range": "Medium-Low",
         "amenities": "Accepts Credit Cards Free Wi-Fi Dogs Allowed",
         "_deepnote_index_column": 104
        },
        {
         "name": "Hotel Regencia Colon",
         "reviews": "8",
         "rating": 4,
         "address": "Carrer Sagristans, 13/17",
         "postcode": "08002 Barcelona",
         "price range": "Medium-Low",
         "amenities": "Accepts Credit Cards Free Wi-Fi",
         "_deepnote_index_column": 107
        },
        {
         "name": "Praktik Garden",
         "reviews": "13",
         "rating": 3.5,
         "address": "Carrer de la Diputació, 325",
         "postcode": "08009 Barcelona",
         "price range": "Medium-Low",
         "amenities": "Accepts Credit Cards Free Wi-Fi",
         "_deepnote_index_column": 108
        }
       ],
       "rows_bottom": null
      },
      "text/plain": "                             name reviews  rating  \\\n1                    Villa Emilia      25     5.0   \n5                   Barceló Raval      54     4.5   \n10                             Do      13     4.5   \n11             Pulitzer Barcelona      40     4.0   \n14      Hotel Barcelona Universal      41     4.0   \n..                            ...     ...     ...   \n102               Chic&Basic Born      12     4.0   \n103              Silken Concordia      10     4.0   \n104  Petit Palace Boqueria Garden      21     3.5   \n107          Hotel Regencia Colon       8     4.0   \n108                Praktik Garden      13     3.5   \n\n                         address         postcode price range  \\\n1        Carrer de Calàbria, 115  08015 Barcelona  Medium-Low   \n5      Rambla del Raval, 17 - 21  08001 Barcelona  Medium-Low   \n10                Plaça Reial, 1  08002 Barcelona  Medium-Low   \n11             Carrer Bergara, 8  08002 Barcelona  Medium-Low   \n14        Avinguda Paral-lel, 76  08001 Barcelona  Medium-Low   \n..                           ...              ...         ...   \n102    Carrer de la Princesa, 50  08003 Barcelona  Medium-Low   \n103  Avinguda del Parallel, 115,  08004 Barcelona  Medium-Low   \n104    Carrer de la Boqueria, 10  08002 Barcelona  Medium-Low   \n107     Carrer Sagristans, 13/17  08002 Barcelona  Medium-Low   \n108  Carrer de la Diputació, 325  08009 Barcelona  Medium-Low   \n\n                                             amenities  \n1         Accepts Credit Cards Free Wi-Fi Dogs Allowed  \n5     Accepts Credit Cards Free Wi-Fi Dogs Not Allowed  \n10                     Accepts Credit Cards Free Wi-Fi  \n11                     Accepts Credit Cards Free Wi-Fi  \n14                     Accepts Credit Cards Free Wi-Fi  \n..                                                 ...  \n102                    Accepts Credit Cards Free Wi-Fi  \n103  Takes Reservations Offers Delivery No Takeout ...  \n104       Accepts Credit Cards Free Wi-Fi Dogs Allowed  \n107                    Accepts Credit Cards Free Wi-Fi  \n108                    Accepts Credit Cards Free Wi-Fi  \n\n[62 rows x 7 columns]",
      "text/html": "<div>\n<style scoped>\n    .dataframe tbody tr th:only-of-type {\n        vertical-align: middle;\n    }\n\n    .dataframe tbody tr th {\n        vertical-align: top;\n    }\n\n    .dataframe thead th {\n        text-align: right;\n    }\n</style>\n<table border=\"1\" class=\"dataframe\">\n  <thead>\n    <tr style=\"text-align: right;\">\n      <th></th>\n      <th>name</th>\n      <th>reviews</th>\n      <th>rating</th>\n      <th>address</th>\n      <th>postcode</th>\n      <th>price range</th>\n      <th>amenities</th>\n    </tr>\n  </thead>\n  <tbody>\n    <tr>\n      <th>1</th>\n      <td>Villa Emilia</td>\n      <td>25</td>\n      <td>5.0</td>\n      <td>Carrer de Calàbria, 115</td>\n      <td>08015 Barcelona</td>\n      <td>Medium-Low</td>\n      <td>Accepts Credit Cards Free Wi-Fi Dogs Allowed</td>\n    </tr>\n    <tr>\n      <th>5</th>\n      <td>Barceló Raval</td>\n      <td>54</td>\n      <td>4.5</td>\n      <td>Rambla del Raval, 17 - 21</td>\n      <td>08001 Barcelona</td>\n      <td>Medium-Low</td>\n      <td>Accepts Credit Cards Free Wi-Fi Dogs Not Allowed</td>\n    </tr>\n    <tr>\n      <th>10</th>\n      <td>Do</td>\n      <td>13</td>\n      <td>4.5</td>\n      <td>Plaça Reial, 1</td>\n      <td>08002 Barcelona</td>\n      <td>Medium-Low</td>\n      <td>Accepts Credit Cards Free Wi-Fi</td>\n    </tr>\n    <tr>\n      <th>11</th>\n      <td>Pulitzer Barcelona</td>\n      <td>40</td>\n      <td>4.0</td>\n      <td>Carrer Bergara, 8</td>\n      <td>08002 Barcelona</td>\n      <td>Medium-Low</td>\n      <td>Accepts Credit Cards Free Wi-Fi</td>\n    </tr>\n    <tr>\n      <th>14</th>\n      <td>Hotel Barcelona Universal</td>\n      <td>41</td>\n      <td>4.0</td>\n      <td>Avinguda Paral-lel, 76</td>\n      <td>08001 Barcelona</td>\n      <td>Medium-Low</td>\n      <td>Accepts Credit Cards Free Wi-Fi</td>\n    </tr>\n    <tr>\n      <th>...</th>\n      <td>...</td>\n      <td>...</td>\n      <td>...</td>\n      <td>...</td>\n      <td>...</td>\n      <td>...</td>\n      <td>...</td>\n    </tr>\n    <tr>\n      <th>102</th>\n      <td>Chic&amp;Basic Born</td>\n      <td>12</td>\n      <td>4.0</td>\n      <td>Carrer de la Princesa, 50</td>\n      <td>08003 Barcelona</td>\n      <td>Medium-Low</td>\n      <td>Accepts Credit Cards Free Wi-Fi</td>\n    </tr>\n    <tr>\n      <th>103</th>\n      <td>Silken Concordia</td>\n      <td>10</td>\n      <td>4.0</td>\n      <td>Avinguda del Parallel, 115,</td>\n      <td>08004 Barcelona</td>\n      <td>Medium-Low</td>\n      <td>Takes Reservations Offers Delivery No Takeout ...</td>\n    </tr>\n    <tr>\n      <th>104</th>\n      <td>Petit Palace Boqueria Garden</td>\n      <td>21</td>\n      <td>3.5</td>\n      <td>Carrer de la Boqueria, 10</td>\n      <td>08002 Barcelona</td>\n      <td>Medium-Low</td>\n      <td>Accepts Credit Cards Free Wi-Fi Dogs Allowed</td>\n    </tr>\n    <tr>\n      <th>107</th>\n      <td>Hotel Regencia Colon</td>\n      <td>8</td>\n      <td>4.0</td>\n      <td>Carrer Sagristans, 13/17</td>\n      <td>08002 Barcelona</td>\n      <td>Medium-Low</td>\n      <td>Accepts Credit Cards Free Wi-Fi</td>\n    </tr>\n    <tr>\n      <th>108</th>\n      <td>Praktik Garden</td>\n      <td>13</td>\n      <td>3.5</td>\n      <td>Carrer de la Diputació, 325</td>\n      <td>08009 Barcelona</td>\n      <td>Medium-Low</td>\n      <td>Accepts Credit Cards Free Wi-Fi</td>\n    </tr>\n  </tbody>\n</table>\n<p>62 rows × 7 columns</p>\n</div>"
     },
     "metadata": {}
    }
   ],
   "execution_count": null
  },
  {
   "cell_type": "code",
   "metadata": {
    "tags": [],
    "cell_id": "00020-cb5bf2bb-f657-4c01-ab48-1fa90069e9dc",
    "deepnote_to_be_reexecuted": true,
    "source_hash": "e77ddfcf",
    "execution_start": 1624540209364,
    "execution_millis": 3,
    "deepnote_cell_type": "code"
   },
   "source": "# I want to do a visual comparison of hotels in different postcodes with their price ranges\n\nb = df.groupby(\"postcode\")[\"rating\"].value_counts()\n",
   "outputs": [],
   "execution_count": null
  },
  {
   "cell_type": "code",
   "metadata": {
    "tags": [],
    "cell_id": "00020-4ebeca88-8892-4d0f-b4b8-b2fbd662eb43",
    "deepnote_to_be_reexecuted": true,
    "source_hash": "298c426b",
    "execution_start": 1624540209371,
    "execution_millis": 335,
    "deepnote_cell_type": "code"
   },
   "source": "# So, I made a data frame of the two columns (variables)\n\ndata = pd.DataFrame(a)\ndata",
   "outputs": [
    {
     "output_type": "error",
     "ename": "NameError",
     "evalue": "name 'a' is not defined",
     "traceback": [
      "\u001b[0;31m---------------------------------------------------------------------------\u001b[0m",
      "\u001b[0;31mNameError\u001b[0m                                 Traceback (most recent call last)",
      "\u001b[0;32m<ipython-input-22-c73fe1a20278>\u001b[0m in \u001b[0;36m<module>\u001b[0;34m\u001b[0m\n\u001b[1;32m      1\u001b[0m \u001b[0;31m# So, I made a data frame of the two columns (variables)\u001b[0m\u001b[0;34m\u001b[0m\u001b[0;34m\u001b[0m\u001b[0;34m\u001b[0m\u001b[0m\n\u001b[1;32m      2\u001b[0m \u001b[0;34m\u001b[0m\u001b[0m\n\u001b[0;32m----> 3\u001b[0;31m \u001b[0mdata\u001b[0m \u001b[0;34m=\u001b[0m \u001b[0mpd\u001b[0m\u001b[0;34m.\u001b[0m\u001b[0mDataFrame\u001b[0m\u001b[0;34m(\u001b[0m\u001b[0ma\u001b[0m\u001b[0;34m)\u001b[0m\u001b[0;34m\u001b[0m\u001b[0;34m\u001b[0m\u001b[0m\n\u001b[0m\u001b[1;32m      4\u001b[0m \u001b[0mdata\u001b[0m\u001b[0;34m\u001b[0m\u001b[0;34m\u001b[0m\u001b[0m\n",
      "\u001b[0;31mNameError\u001b[0m: name 'a' is not defined"
     ]
    }
   ],
   "execution_count": null
  },
  {
   "cell_type": "code",
   "metadata": {
    "tags": [],
    "cell_id": "00021-249bdb48-6e33-41bb-aaa4-0c2263ae3350",
    "deepnote_to_be_reexecuted": true,
    "source_hash": "cbc7b931",
    "execution_start": 1624458186194,
    "execution_millis": 879,
    "deepnote_cell_type": "code"
   },
   "source": "# Then plotted a stacked bar chart for the comparison and visualisation \n\ndata.unstack().plot(kind='bar', stacked=True)",
   "execution_count": null,
   "outputs": [
    {
     "output_type": "execute_result",
     "execution_count": 80,
     "data": {
      "text/plain": "<AxesSubplot:xlabel='postcode'>"
     },
     "metadata": {}
    },
    {
     "data": {
      "text/plain": "<Figure size 432x288 with 1 Axes>",
      "image/png": "[encoded data removed]"
     },
     "metadata": {
      "needs_background": "light",
      "image/png": {
       "width": 378,
       "height": 403
      }
     },
     "output_type": "display_data"
    }
   ]
  },
  {
   "cell_type": "code",
   "metadata": {
    "tags": [],
    "cell_id": "00022-29417043-aa06-44b7-a354-f7f0697a09ed",
    "deepnote_to_be_reexecuted": true,
    "source_hash": "21589b25",
    "execution_start": 1624459426626,
    "execution_millis": 1,
    "deepnote_cell_type": "code"
   },
   "source": "b = df.groupby(\"postcode\")[\"rating\"].value_counts()",
   "execution_count": null,
   "outputs": []
  },
  {
   "cell_type": "code",
   "metadata": {
    "tags": [],
    "cell_id": "00023-abe395e5-ab12-4466-9eaf-90ba88199d2f",
    "deepnote_to_be_reexecuted": true,
    "source_hash": "35b88c3c",
    "execution_start": 1624459437222,
    "execution_millis": 67,
    "deepnote_cell_type": "code"
   },
   "source": "data2 = pd.DataFrame(b)\ndata2",
   "execution_count": null,
   "outputs": [
    {
     "output_type": "execute_result",
     "execution_count": 85,
     "data": {
      "application/vnd.deepnote.dataframe.v2+json": {
       "row_count": 56,
       "column_count": 1,
       "columns": [
        {
         "name": "rating",
         "dtype": "int64",
         "stats": {
          "unique_count": 7,
          "nan_count": 0,
          "min": "1",
          "max": "8",
          "histogram": [
           {
            "bin_start": 1,
            "bin_end": 1.7,
            "count": 34
           },
           {
            "bin_start": 1.7,
            "bin_end": 2.4,
            "count": 11
           },
           {
            "bin_start": 2.4,
            "bin_end": 3.0999999999999996,
            "count": 3
           },
           {
            "bin_start": 3.0999999999999996,
            "bin_end": 3.8,
            "count": 0
           },
           {
            "bin_start": 3.8,
            "bin_end": 4.5,
            "count": 2
           },
           {
            "bin_start": 4.5,
            "bin_end": 5.199999999999999,
            "count": 2
           },
           {
            "bin_start": 5.199999999999999,
            "bin_end": 5.8999999999999995,
            "count": 0
           },
           {
            "bin_start": 5.8999999999999995,
            "bin_end": 6.6,
            "count": 3
           },
           {
            "bin_start": 6.6,
            "bin_end": 7.3,
            "count": 0
           },
           {
            "bin_start": 7.3,
            "bin_end": 8,
            "count": 1
           }
          ]
         }
        },
        {
         "name": "_deepnote_index_column",
         "dtype": "object"
        }
       ],
       "rows_top": [
        {
         "rating": 6,
         "_deepnote_index_column": "('08001 Barcelona', 4.5)"
        },
        {
         "rating": 1,
         "_deepnote_index_column": "('08001 Barcelona', 3.5)"
        },
        {
         "rating": 1,
         "_deepnote_index_column": "('08001 Barcelona', 4.0)"
        },
        {
         "rating": 8,
         "_deepnote_index_column": "('08002 Barcelona', 4.5)"
        },
        {
         "rating": 6,
         "_deepnote_index_column": "('08002 Barcelona', 4.0)"
        },
        {
         "rating": 4,
         "_deepnote_index_column": "('08002 Barcelona', 5.0)"
        },
        {
         "rating": 1,
         "_deepnote_index_column": "('08002 Barcelona', 3.5)"
        },
        {
         "rating": 5,
         "_deepnote_index_column": "('08003 Barcelona', 4.0)"
        },
        {
         "rating": 2,
         "_deepnote_index_column": "('08003 Barcelona', 4.5)"
        },
        {
         "rating": 1,
         "_deepnote_index_column": "('08003 Barcelona', 5.0)"
        },
        {
         "rating": 1,
         "_deepnote_index_column": "('08004 Barcelona', 3.0)"
        },
        {
         "rating": 1,
         "_deepnote_index_column": "('08004 Barcelona', 4.0)"
        },
        {
         "rating": 1,
         "_deepnote_index_column": "('08004 Barcelona', 4.5)"
        },
        {
         "rating": 2,
         "_deepnote_index_column": "('08005 Barcelona', 4.0)"
        },
        {
         "rating": 1,
         "_deepnote_index_column": "('08005 Barcelona', 3.5)"
        },
        {
         "rating": 1,
         "_deepnote_index_column": "('08006 Barcelona', 4.5)"
        },
        {
         "rating": 3,
         "_deepnote_index_column": "('08007 Barcelona', 4.0)"
        },
        {
         "rating": 2,
         "_deepnote_index_column": "('08007 Barcelona', 4.5)"
        },
        {
         "rating": 1,
         "_deepnote_index_column": "('08007 Barcelona', 3.5)"
        },
        {
         "rating": 1,
         "_deepnote_index_column": "('08007 Barcelona', 5.0)"
        },
        {
         "rating": 6,
         "_deepnote_index_column": "('08008 Barcelona', 4.5)"
        },
        {
         "rating": 4,
         "_deepnote_index_column": "('08008 Barcelona', 4.0)"
        },
        {
         "rating": 2,
         "_deepnote_index_column": "('08009 Barcelona', 4.0)"
        },
        {
         "rating": 1,
         "_deepnote_index_column": "('08009 Barcelona', 3.5)"
        },
        {
         "rating": 5,
         "_deepnote_index_column": "('08010 Barcelona', 4.5)"
        },
        {
         "rating": 2,
         "_deepnote_index_column": "('08010 Barcelona', 4.0)"
        },
        {
         "rating": 2,
         "_deepnote_index_column": "('08010 Barcelona', 5.0)"
        },
        {
         "rating": 1,
         "_deepnote_index_column": "('08010 Barcelona', 3.5)"
        },
        {
         "rating": 2,
         "_deepnote_index_column": "('08011 Barcelona', 4.5)"
        },
        {
         "rating": 1,
         "_deepnote_index_column": "('08011 Barcelona', 3.0)"
        },
        {
         "rating": 1,
         "_deepnote_index_column": "('08011 Barcelona', 4.0)"
        },
        {
         "rating": 1,
         "_deepnote_index_column": "('08011 Barcelona', 5.0)"
        },
        {
         "rating": 1,
         "_deepnote_index_column": "('08012 Barcelona', 4.5)"
        },
        {
         "rating": 2,
         "_deepnote_index_column": "('08014 Barcelona', 3.5)"
        },
        {
         "rating": 2,
         "_deepnote_index_column": "('08014 Barcelona', 4.0)"
        },
        {
         "rating": 3,
         "_deepnote_index_column": "('08015 Barcelona', 4.5)"
        },
        {
         "rating": 1,
         "_deepnote_index_column": "('08015 Barcelona', 5.0)"
        },
        {
         "rating": 1,
         "_deepnote_index_column": "('08018 Barcelona', 3.5)"
        },
        {
         "rating": 1,
         "_deepnote_index_column": "('08018 Barcelona', 4.0)"
        },
        {
         "rating": 1,
         "_deepnote_index_column": "('08018 Barcelona', 4.5)"
        },
        {
         "rating": 1,
         "_deepnote_index_column": "('08019 Barcelona', 4.0)"
        },
        {
         "rating": 2,
         "_deepnote_index_column": "('08021 Barcelona', 4.0)"
        },
        {
         "rating": 1,
         "_deepnote_index_column": "('08021 Barcelona', 5.0)"
        },
        {
         "rating": 1,
         "_deepnote_index_column": "('08022 Barcelona', 5.0)"
        },
        {
         "rating": 1,
         "_deepnote_index_column": "('08025', 4.5)"
        },
        {
         "rating": 2,
         "_deepnote_index_column": "('08025 Barcelona', 4.5)"
        },
        {
         "rating": 1,
         "_deepnote_index_column": "('08028 Barcelona', 4.5)"
        },
        {
         "rating": 1,
         "_deepnote_index_column": "('08028 Barcelona', 5.0)"
        },
        {
         "rating": 1,
         "_deepnote_index_column": "('08029 Barcelona', 4.0)"
        },
        {
         "rating": 3,
         "_deepnote_index_column": "('08036 Barcelona', 4.0)"
        },
        {
         "rating": 1,
         "_deepnote_index_column": "('08037 Barcelona', 4.5)"
        },
        {
         "rating": 1,
         "_deepnote_index_column": "('08037 Barcelona', 5.0)"
        },
        {
         "rating": 1,
         "_deepnote_index_column": "('08038 Barcelona', 4.0)"
        },
        {
         "rating": 1,
         "_deepnote_index_column": "('08039 Barcelona', 3.5)"
        },
        {
         "rating": 1,
         "_deepnote_index_column": "('08902 Barcelona', 4.0)"
        },
        {
         "rating": 1,
         "_deepnote_index_column": "('08908 Hospitalet de Llobregat', 4.0)"
        }
       ],
       "rows_bottom": null
      },
      "text/plain": "                                      rating\npostcode                      rating        \n08001 Barcelona               4.5          6\n                              3.5          1\n                              4.0          1\n08002 Barcelona               4.5          8\n                              4.0          6\n                              5.0          4\n                              3.5          1\n08003 Barcelona               4.0          5\n                              4.5          2\n                              5.0          1\n08004 Barcelona               3.0          1\n                              4.0          1\n                              4.5          1\n08005 Barcelona               4.0          2\n                              3.5          1\n08006 Barcelona               4.5          1\n08007 Barcelona               4.0          3\n                              4.5          2\n                              3.5          1\n                              5.0          1\n08008 Barcelona               4.5          6\n                              4.0          4\n08009 Barcelona               4.0          2\n                              3.5          1\n08010 Barcelona               4.5          5\n                              4.0          2\n                              5.0          2\n                              3.5          1\n08011 Barcelona               4.5          2\n                              3.0          1\n                              4.0          1\n                              5.0          1\n08012 Barcelona               4.5          1\n08014 Barcelona               3.5          2\n                              4.0          2\n08015 Barcelona               4.5          3\n                              5.0          1\n08018 Barcelona               3.5          1\n                              4.0          1\n                              4.5          1\n08019 Barcelona               4.0          1\n08021 Barcelona               4.0          2\n                              5.0          1\n08022 Barcelona               5.0          1\n08025                         4.5          1\n08025 Barcelona               4.5          2\n08028 Barcelona               4.5          1\n                              5.0          1\n08029 Barcelona               4.0          1\n08036 Barcelona               4.0          3\n08037 Barcelona               4.5          1\n                              5.0          1\n08038 Barcelona               4.0          1\n08039 Barcelona               3.5          1\n08902 Barcelona               4.0          1\n08908 Hospitalet de Llobregat 4.0          1",
      "text/html": "<div>\n<style scoped>\n    .dataframe tbody tr th:only-of-type {\n        vertical-align: middle;\n    }\n\n    .dataframe tbody tr th {\n        vertical-align: top;\n    }\n\n    .dataframe thead th {\n        text-align: right;\n    }\n</style>\n<table border=\"1\" class=\"dataframe\">\n  <thead>\n    <tr style=\"text-align: right;\">\n      <th></th>\n      <th></th>\n      <th>rating</th>\n    </tr>\n    <tr>\n      <th>postcode</th>\n      <th>rating</th>\n      <th></th>\n    </tr>\n  </thead>\n  <tbody>\n    <tr>\n      <th rowspan=\"3\" valign=\"top\">08001 Barcelona</th>\n      <th>4.5</th>\n      <td>6</td>\n    </tr>\n    <tr>\n      <th>3.5</th>\n      <td>1</td>\n    </tr>\n    <tr>\n      <th>4.0</th>\n      <td>1</td>\n    </tr>\n    <tr>\n      <th rowspan=\"4\" valign=\"top\">08002 Barcelona</th>\n      <th>4.5</th>\n      <td>8</td>\n    </tr>\n    <tr>\n      <th>4.0</th>\n      <td>6</td>\n    </tr>\n    <tr>\n      <th>5.0</th>\n      <td>4</td>\n    </tr>\n    <tr>\n      <th>3.5</th>\n      <td>1</td>\n    </tr>\n    <tr>\n      <th rowspan=\"3\" valign=\"top\">08003 Barcelona</th>\n      <th>4.0</th>\n      <td>5</td>\n    </tr>\n    <tr>\n      <th>4.5</th>\n      <td>2</td>\n    </tr>\n    <tr>\n      <th>5.0</th>\n      <td>1</td>\n    </tr>\n    <tr>\n      <th rowspan=\"3\" valign=\"top\">08004 Barcelona</th>\n      <th>3.0</th>\n      <td>1</td>\n    </tr>\n    <tr>\n      <th>4.0</th>\n      <td>1</td>\n    </tr>\n    <tr>\n      <th>4.5</th>\n      <td>1</td>\n    </tr>\n    <tr>\n      <th rowspan=\"2\" valign=\"top\">08005 Barcelona</th>\n      <th>4.0</th>\n      <td>2</td>\n    </tr>\n    <tr>\n      <th>3.5</th>\n      <td>1</td>\n    </tr>\n    <tr>\n      <th>08006 Barcelona</th>\n      <th>4.5</th>\n      <td>1</td>\n    </tr>\n    <tr>\n      <th rowspan=\"4\" valign=\"top\">08007 Barcelona</th>\n      <th>4.0</th>\n      <td>3</td>\n    </tr>\n    <tr>\n      <th>4.5</th>\n      <td>2</td>\n    </tr>\n    <tr>\n      <th>3.5</th>\n      <td>1</td>\n    </tr>\n    <tr>\n      <th>5.0</th>\n      <td>1</td>\n    </tr>\n    <tr>\n      <th rowspan=\"2\" valign=\"top\">08008 Barcelona</th>\n      <th>4.5</th>\n      <td>6</td>\n    </tr>\n    <tr>\n      <th>4.0</th>\n      <td>4</td>\n    </tr>\n    <tr>\n      <th rowspan=\"2\" valign=\"top\">08009 Barcelona</th>\n      <th>4.0</th>\n      <td>2</td>\n    </tr>\n    <tr>\n      <th>3.5</th>\n      <td>1</td>\n    </tr>\n    <tr>\n      <th rowspan=\"4\" valign=\"top\">08010 Barcelona</th>\n      <th>4.5</th>\n      <td>5</td>\n    </tr>\n    <tr>\n      <th>4.0</th>\n      <td>2</td>\n    </tr>\n    <tr>\n      <th>5.0</th>\n      <td>2</td>\n    </tr>\n    <tr>\n      <th>3.5</th>\n      <td>1</td>\n    </tr>\n    <tr>\n      <th rowspan=\"4\" valign=\"top\">08011 Barcelona</th>\n      <th>4.5</th>\n      <td>2</td>\n    </tr>\n    <tr>\n      <th>3.0</th>\n      <td>1</td>\n    </tr>\n    <tr>\n      <th>4.0</th>\n      <td>1</td>\n    </tr>\n    <tr>\n      <th>5.0</th>\n      <td>1</td>\n    </tr>\n    <tr>\n      <th>08012 Barcelona</th>\n      <th>4.5</th>\n      <td>1</td>\n    </tr>\n    <tr>\n      <th rowspan=\"2\" valign=\"top\">08014 Barcelona</th>\n      <th>3.5</th>\n      <td>2</td>\n    </tr>\n    <tr>\n      <th>4.0</th>\n      <td>2</td>\n    </tr>\n    <tr>\n      <th rowspan=\"2\" valign=\"top\">08015 Barcelona</th>\n      <th>4.5</th>\n      <td>3</td>\n    </tr>\n    <tr>\n      <th>5.0</th>\n      <td>1</td>\n    </tr>\n    <tr>\n      <th rowspan=\"3\" valign=\"top\">08018 Barcelona</th>\n      <th>3.5</th>\n      <td>1</td>\n    </tr>\n    <tr>\n      <th>4.0</th>\n      <td>1</td>\n    </tr>\n    <tr>\n      <th>4.5</th>\n      <td>1</td>\n    </tr>\n    <tr>\n      <th>08019 Barcelona</th>\n      <th>4.0</th>\n      <td>1</td>\n    </tr>\n    <tr>\n      <th rowspan=\"2\" valign=\"top\">08021 Barcelona</th>\n      <th>4.0</th>\n      <td>2</td>\n    </tr>\n    <tr>\n      <th>5.0</th>\n      <td>1</td>\n    </tr>\n    <tr>\n      <th>08022 Barcelona</th>\n      <th>5.0</th>\n      <td>1</td>\n    </tr>\n    <tr>\n      <th>08025</th>\n      <th>4.5</th>\n      <td>1</td>\n    </tr>\n    <tr>\n      <th>08025 Barcelona</th>\n      <th>4.5</th>\n      <td>2</td>\n    </tr>\n    <tr>\n      <th rowspan=\"2\" valign=\"top\">08028 Barcelona</th>\n      <th>4.5</th>\n      <td>1</td>\n    </tr>\n    <tr>\n      <th>5.0</th>\n      <td>1</td>\n    </tr>\n    <tr>\n      <th>08029 Barcelona</th>\n      <th>4.0</th>\n      <td>1</td>\n    </tr>\n    <tr>\n      <th>08036 Barcelona</th>\n      <th>4.0</th>\n      <td>3</td>\n    </tr>\n    <tr>\n      <th rowspan=\"2\" valign=\"top\">08037 Barcelona</th>\n      <th>4.5</th>\n      <td>1</td>\n    </tr>\n    <tr>\n      <th>5.0</th>\n      <td>1</td>\n    </tr>\n    <tr>\n      <th>08038 Barcelona</th>\n      <th>4.0</th>\n      <td>1</td>\n    </tr>\n    <tr>\n      <th>08039 Barcelona</th>\n      <th>3.5</th>\n      <td>1</td>\n    </tr>\n    <tr>\n      <th>08902 Barcelona</th>\n      <th>4.0</th>\n      <td>1</td>\n    </tr>\n    <tr>\n      <th>08908 Hospitalet de Llobregat</th>\n      <th>4.0</th>\n      <td>1</td>\n    </tr>\n  </tbody>\n</table>\n</div>"
     },
     "metadata": {}
    }
   ]
  },
  {
   "cell_type": "code",
   "metadata": {
    "tags": [],
    "cell_id": "00024-5e45d47e-dde9-4696-af85-02690e6e9532",
    "deepnote_to_be_reexecuted": true,
    "source_hash": "17202a62",
    "execution_start": 1624459450537,
    "execution_millis": 1512,
    "deepnote_cell_type": "code"
   },
   "source": "data2.unstack().plot(kind='bar', stacked=True)",
   "execution_count": null,
   "outputs": [
    {
     "output_type": "execute_result",
     "execution_count": 86,
     "data": {
      "text/plain": "<AxesSubplot:xlabel='postcode'>"
     },
     "metadata": {}
    },
    {
     "data": {
      "text/plain": "<Figure size 432x288 with 1 Axes>",
      "image/png": "[encoded data removed]"
     },
     "metadata": {
      "needs_background": "light",
      "image/png": {
       "width": 378,
       "height": 403
      }
     },
     "output_type": "display_data"
    }
   ]
  },
  {
   "cell_type": "code",
   "metadata": {
    "tags": [],
    "cell_id": "00025-57239eab-223d-4147-8581-b76be5e47f23",
    "deepnote_to_be_reexecuted": true,
    "source_hash": "5e4dc698",
    "execution_start": 1624551329548,
    "execution_millis": 6,
    "deepnote_cell_type": "code"
   },
   "source": "sns.displot(df[\"rating\"], label = \"rating\", kde = True)",
   "outputs": [
    {
     "output_type": "error",
     "ename": "NameError",
     "evalue": "name 'sns' is not defined",
     "traceback": [
      "\u001b[0;31m---------------------------------------------------------------------------\u001b[0m",
      "\u001b[0;31mNameError\u001b[0m                                 Traceback (most recent call last)",
      "\u001b[0;32m<ipython-input-23-f8a95e797b33>\u001b[0m in \u001b[0;36m<module>\u001b[0;34m\u001b[0m\n\u001b[0;32m----> 1\u001b[0;31m \u001b[0msns\u001b[0m\u001b[0;34m.\u001b[0m\u001b[0mdisplot\u001b[0m\u001b[0;34m(\u001b[0m\u001b[0mdf\u001b[0m\u001b[0;34m[\u001b[0m\u001b[0;34m\"rating\"\u001b[0m\u001b[0;34m]\u001b[0m\u001b[0;34m,\u001b[0m \u001b[0mlabel\u001b[0m \u001b[0;34m=\u001b[0m \u001b[0;34m\"rating\"\u001b[0m\u001b[0;34m,\u001b[0m \u001b[0mkde\u001b[0m \u001b[0;34m=\u001b[0m \u001b[0;32mTrue\u001b[0m\u001b[0;34m)\u001b[0m\u001b[0;34m\u001b[0m\u001b[0;34m\u001b[0m\u001b[0m\n\u001b[0m",
      "\u001b[0;31mNameError\u001b[0m: name 'sns' is not defined"
     ]
    }
   ],
   "execution_count": null
  },
  {
   "cell_type": "code",
   "source": "",
   "metadata": {
    "tags": [],
    "cell_id": "00030-82d562a3-73cd-4b37-8512-59f99fefb6dc",
    "deepnote_to_be_reexecuted": true,
    "source_hash": "b623e53d",
    "deepnote_cell_type": "code"
   },
   "outputs": [],
   "execution_count": null
  },
  {
   "cell_type": "markdown",
   "source": "<a style='text-decoration:none;line-height:16px;display:flex;color:#5B5B62;padding:10px;justify-content:end;' href='https://deepnote.com?utm_source=created-in-deepnote-cell&projectId=526677fa-2acc-4bfb-a9de-71741f421eb9' target=\"_blank\">\n<img alt='Created in deepnote.com' style='display:inline;max-height:16px;margin:0px;margin-right:7.5px;' src='data:image/svg+xml;base64,PD94bWwgdmVyc2lvbj0iMS4wIiBlbmNvZGluZz0iVVRGLTgiPz4KPHN2ZyB3aWR0aD0iODBweCIgaGVpZ2h0PSI4MHB4IiB2aWV3Qm94PSIwIDAgODAgODAiIHZlcnNpb249IjEuMSIgeG1sbnM9Imh0dHA6Ly93d3cudzMub3JnLzIwMDAvc3ZnIiB4bWxuczp4bGluaz0iaHR0cDovL3d3dy53My5vcmcvMTk5OS94bGluayI+CiAgICA8IS0tIEdlbmVyYXRvcjogU2tldGNoIDU0LjEgKDc2NDkwKSAtIGh0dHBzOi8vc2tldGNoYXBwLmNvbSAtLT4KICAgIDx0aXRsZT5Hcm91cCAzPC90aXRsZT4KICAgIDxkZXNjPkNyZWF0ZWQgd2l0aCBTa2V0Y2guPC9kZXNjPgogICAgPGcgaWQ9IkxhbmRpbmciIHN0cm9rZT0ibm9uZSIgc3Ryb2tlLXdpZHRoPSIxIiBmaWxsPSJub25lIiBmaWxsLXJ1bGU9ImV2ZW5vZGQiPgogICAgICAgIDxnIGlkPSJBcnRib2FyZCIgdHJhbnNmb3JtPSJ0cmFuc2xhdGUoLTEyMzUuMDAwMDAwLCAtNzkuMDAwMDAwKSI+CiAgICAgICAgICAgIDxnIGlkPSJHcm91cC0zIiB0cmFuc2Zvcm09InRyYW5zbGF0ZSgxMjM1LjAwMDAwMCwgNzkuMDAwMDAwKSI+CiAgICAgICAgICAgICAgICA8cG9seWdvbiBpZD0iUGF0aC0yMCIgZmlsbD0iIzAyNjVCNCIgcG9pbnRzPSIyLjM3NjIzNzYyIDgwIDM4LjA0NzY2NjcgODAgNTcuODIxNzgyMiA3My44MDU3NTkyIDU3LjgyMTc4MjIgMzIuNzU5MjczOSAzOS4xNDAyMjc4IDMxLjY4MzE2ODMiPjwvcG9seWdvbj4KICAgICAgICAgICAgICAgIDxwYXRoIGQ9Ik0zNS4wMDc3MTgsODAgQzQyLjkwNjIwMDcsNzYuNDU0OTM1OCA0Ny41NjQ5MTY3LDcxLjU0MjI2NzEgNDguOTgzODY2LDY1LjI2MTk5MzkgQzUxLjExMjI4OTksNTUuODQxNTg0MiA0MS42NzcxNzk1LDQ5LjIxMjIyODQgMjUuNjIzOTg0Niw0OS4yMTIyMjg0IEMyNS40ODQ5Mjg5LDQ5LjEyNjg0NDggMjkuODI2MTI5Niw0My4yODM4MjQ4IDM4LjY0NzU4NjksMzEuNjgzMTY4MyBMNzIuODcxMjg3MSwzMi41NTQ0MjUgTDY1LjI4MDk3Myw2Ny42NzYzNDIxIEw1MS4xMTIyODk5LDc3LjM3NjE0NCBMMzUuMDA3NzE4LDgwIFoiIGlkPSJQYXRoLTIyIiBmaWxsPSIjMDAyODY4Ij48L3BhdGg+CiAgICAgICAgICAgICAgICA8cGF0aCBkPSJNMCwzNy43MzA0NDA1IEwyNy4xMTQ1MzcsMC4yNTcxMTE0MzYgQzYyLjM3MTUxMjMsLTEuOTkwNzE3MDEgODAsMTAuNTAwMzkyNyA4MCwzNy43MzA0NDA1IEM4MCw2NC45NjA0ODgyIDY0Ljc3NjUwMzgsNzkuMDUwMzQxNCAzNC4zMjk1MTEzLDgwIEM0Ny4wNTUzNDg5LDc3LjU2NzA4MDggNTMuNDE4MjY3Nyw3MC4zMTM2MTAzIDUzLjQxODI2NzcsNTguMjM5NTg4NSBDNTMuNDE4MjY3Nyw0MC4xMjg1NTU3IDM2LjMwMzk1NDQsMzcuNzMwNDQwNSAyNS4yMjc0MTcsMzcuNzMwNDQwNSBDMTcuODQzMDU4NiwzNy43MzA0NDA1IDkuNDMzOTE5NjYsMzcuNzMwNDQwNSAwLDM3LjczMDQ0MDUgWiIgaWQ9IlBhdGgtMTkiIGZpbGw9IiMzNzkzRUYiPjwvcGF0aD4KICAgICAgICAgICAgPC9nPgogICAgICAgIDwvZz4KICAgIDwvZz4KPC9zdmc+' > </img>\nCreated in <span style='font-weight:600;margin-left:4px;'>Deepnote</span></a>",
   "metadata": {
    "tags": [],
    "created_in_deepnote_cell": true,
    "deepnote_cell_type": "markdown"
   }
  }
 ],
 "nbformat": 4,
 "nbformat_minor": 2,
 "metadata": {
  "orig_nbformat": 2,
  "deepnote": {
   "is_reactive": false
  },
  "deepnote_notebook_id": "07fa55a8-65ae-42c4-b257-f80cbfef5ab6",
  "deepnote_execution_queue": []
 }
}